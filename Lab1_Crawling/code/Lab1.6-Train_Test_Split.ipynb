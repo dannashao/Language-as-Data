{
 "cells": [
  {
   "cell_type": "markdown",
   "metadata": {},
   "source": [
    "Copyright: Vrije Universiteit Amsterdam, Faculty of Humanities, CLTL"
   ]
  },
  {
   "cell_type": "markdown",
   "metadata": {},
   "source": [
    "# Lab 1.6: Splitting the Dataset"
   ]
  },
  {
   "cell_type": "markdown",
   "metadata": {},
   "source": [
    "When we run a neural language model, we are currently usually relying on a [Huggingface checkpoint](https://huggingface.co/models). To faciliate the processing, Huggingface has published a [code database](https://huggingface.co/docs/datasets/) for datasets. In this lab, we transform our dataset into the Huggingface format and split it into a train and a test portion."
   ]
  },
  {
   "cell_type": "markdown",
   "metadata": {
    "collapsed": false,
    "jupyter": {
     "outputs_hidden": false
    }
   },
   "source": [
    "## 1. Huggingface dataset"
   ]
  },
  {
   "cell_type": "code",
   "execution_count": 1,
   "metadata": {
    "pycharm": {
     "name": "#%%\n"
    },
    "scrolled": true
   },
   "outputs": [
    {
     "name": "stderr",
     "output_type": "stream",
     "text": [
      "Skipping line 7: expected 6 fields, saw 69\n",
      "Skipping line 59: expected 6 fields, saw 192\n",
      "Skipping line 74: expected 6 fields, saw 19\n",
      "Skipping line 85: expected 6 fields, saw 69\n",
      "\n"
     ]
    }
   ],
   "source": [
    "import pandas as pd\n",
    "\n",
    "# We first check if the dataset is well formatted. If you get warnings, check the erroneous lines. \n",
    "# We are currently ignoring the wrongly formatted lines\n",
    "pandas_dataset = pd.read_csv(\"../results/mediastack_results/veganism_overview.tsv\", sep = \"\\t\", on_bad_lines=\"warn\")\n"
   ]
  },
  {
   "cell_type": "markdown",
   "metadata": {},
   "source": [
    "**Investigate what went wrong in the erroneous lines and maybe adjust the crawling process.** Your peers need to be able to read in your test dataset without errors."
   ]
  },
  {
   "cell_type": "code",
   "execution_count": 2,
   "metadata": {
    "pycharm": {
     "name": "#%%\n"
    },
    "scrolled": true
   },
   "outputs": [
    {
     "name": "stdout",
     "output_type": "stream",
     "text": [
      "{'URL': ['https://www.healthcanal.com/nutrition/healthy-eating/kefir-vs-kombucha', 'https://www.ksro.com/2023/11/02/miyokos-production-moving-out-of-petaluma/', 'https://www.yenisafak.com/ekonomi/veganlara-ozel-humm-organic-lezzetleri-4571893'], 'Text': [None, 'Miyoko’s Creamery is closing its production facility in Petaluma on January 1st. The move will impact 30 to 40 employees. A spokesperson for the company, which is known for its vegan dairy alternatives, says a new production facility is needed to increase production and efficiency after the company saw double-digit growth in the past few years. Miyoko’s Creamery will still have its headquarters in Petaluma.', 'Sürdürülebilir organik tarımı ve üretimi destekleyen “Temiz Reçete”li Humm Organic; vegan beslenmeyi tercih edenler için kurabiyeden grissiniye, kekten gevreğe 13 farklı lezzet sunuyor. Hiçbir katkı maddesi, koruyucu, renklendirici ve ilave şeker bulundurmayan “Temiz Reçete”li Humm Organic atıştırmalıkları, lezzetini ve yüksek besin değerini; sentetik veya kimyasal gübre kullanılmayan, yüksek toprak kalitesinde yetişen, organik tarımla üretilen ürünlerden alıyor. Kurabiye, kraker, bar, kek, puf ve kahvaltılık gevrek çeşitlerinden oluşan Humm Organic’in 16 farklı lezzetinden 13’ü vegan sertifikalı, 5’i ise hem vegan hem de glütensiz. Küçükten büyüğe herkesin damak tadına uygun, günün her saatinde keşfedilmeye hazır birbirinden farklı içeriklerdeki vegan lezzetler arasında; keçiboynuzlu ve fındıklı, zencefilli ve tarçınlı, pekmezli ve tahinli kurabiyeler, meyveli kek ve küpler, pancarlı ve tam tahıllı puflar, yulaf barlar ile pancarlı ve zeytinli grissiniler bulunuyor. Humm Organic, 2017 yılında her biri kendi mesleğinde başarılı üç annenin kendi deneyimlerinden yola çıkarak, çocukların sağlıklı beslenmelerine katkı sağlamak misyonuyla kuruldu. Nitelikli beslenmenin yaygınlaşması adına attığı doğru adımlarla bugün, küçükten büyüğe herkes için %100 organik, sağlıklı ve lezzetli atıştırmalıklar sunan marka, kuruluşundan bu yana 5 kattan fazla büyüyerek organik atıştırmalık pazarının lider markaları arasına girmiştir. Sürdürülebilir organik tarımı ve üretimi destekleyen, içeriğinde hiçbir katkı maddesi, koruyucu, renklendirici ve ilave şeker içermeyen “Temiz Reçete”li Humm Organic ürünleri; kurabiye, kraker, bar, kek, puf ve kahvaltılık gevrek çeşitlerinden oluşan 20’ye yakın farklı lezzeti, glütensiz ve vegan seçenekleriyle Türkiye genelinde binlerce satış noktasında tüketicilerle buluşmaktadır. ']}\n"
     ]
    }
   ],
   "source": [
    "from datasets import Dataset\n",
    "\n",
    "# You could also load the Huggingface dataset directly from the tsv file but only if it does not contain erroneous lines\n",
    "# Check the documentation on Huggingface for more options on loading data. \n",
    "dataset = Dataset.from_pandas(pandas_dataset)\n",
    "reduced_dataset = dataset.select_columns(['URL', 'Text'])\n",
    "print(reduced_dataset[0:3])\n",
    "\n"
   ]
  },
  {
   "cell_type": "code",
   "execution_count": 3,
   "metadata": {
    "pycharm": {
     "name": "#%%\n"
    },
    "scrolled": true
   },
   "outputs": [
    {
     "data": {
      "application/vnd.jupyter.widget-view+json": {
       "model_id": "4b8e2d2dabaf4e0c8ba07d3a88df39f2",
       "version_major": 2,
       "version_minor": 0
      },
      "text/plain": [
       "Filter:   0%|          | 0/96 [00:00<?, ? examples/s]"
      ]
     },
     "metadata": {},
     "output_type": "display_data"
    },
    {
     "name": "stdout",
     "output_type": "stream",
     "text": [
      "{'URL': ['https://www.ksro.com/2023/11/02/miyokos-production-moving-out-of-petaluma/', 'https://www.yenisafak.com/ekonomi/veganlara-ozel-humm-organic-lezzetleri-4571893', 'https://www.hellomagazine.com/hfm/wish-list/506404/guide-to-vegan-beauty/'], 'Text': ['Miyoko’s Creamery is closing its production facility in Petaluma on January 1st. The move will impact 30 to 40 employees. A spokesperson for the company, which is known for its vegan dairy alternatives, says a new production facility is needed to increase production and efficiency after the company saw double-digit growth in the past few years. Miyoko’s Creamery will still have its headquarters in Petaluma.', 'Sürdürülebilir organik tarımı ve üretimi destekleyen “Temiz Reçete”li Humm Organic; vegan beslenmeyi tercih edenler için kurabiyeden grissiniye, kekten gevreğe 13 farklı lezzet sunuyor. Hiçbir katkı maddesi, koruyucu, renklendirici ve ilave şeker bulundurmayan “Temiz Reçete”li Humm Organic atıştırmalıkları, lezzetini ve yüksek besin değerini; sentetik veya kimyasal gübre kullanılmayan, yüksek toprak kalitesinde yetişen, organik tarımla üretilen ürünlerden alıyor. Kurabiye, kraker, bar, kek, puf ve kahvaltılık gevrek çeşitlerinden oluşan Humm Organic’in 16 farklı lezzetinden 13’ü vegan sertifikalı, 5’i ise hem vegan hem de glütensiz. Küçükten büyüğe herkesin damak tadına uygun, günün her saatinde keşfedilmeye hazır birbirinden farklı içeriklerdeki vegan lezzetler arasında; keçiboynuzlu ve fındıklı, zencefilli ve tarçınlı, pekmezli ve tahinli kurabiyeler, meyveli kek ve küpler, pancarlı ve tam tahıllı puflar, yulaf barlar ile pancarlı ve zeytinli grissiniler bulunuyor. Humm Organic, 2017 yılında her biri kendi mesleğinde başarılı üç annenin kendi deneyimlerinden yola çıkarak, çocukların sağlıklı beslenmelerine katkı sağlamak misyonuyla kuruldu. Nitelikli beslenmenin yaygınlaşması adına attığı doğru adımlarla bugün, küçükten büyüğe herkes için %100 organik, sağlıklı ve lezzetli atıştırmalıklar sunan marka, kuruluşundan bu yana 5 kattan fazla büyüyerek organik atıştırmalık pazarının lider markaları arasına girmiştir. Sürdürülebilir organik tarımı ve üretimi destekleyen, içeriğinde hiçbir katkı maddesi, koruyucu, renklendirici ve ilave şeker içermeyen “Temiz Reçete”li Humm Organic ürünleri; kurabiye, kraker, bar, kek, puf ve kahvaltılık gevrek çeşitlerinden oluşan 20’ye yakın farklı lezzeti, glütensiz ve vegan seçenekleriyle Türkiye genelinde binlerce satış noktasında tüketicilerle buluşmaktadır. ', 'Vegan beauty has come on leaps and bounds in the last decade – not merely great news for the animal kingdom, but also your product stash. Demand for vegan-friendly makeup, skincare, and haircare has skyrocketed to such an extent that it\\'s actually odd to remember a time when options were so limited. Plenty of industry heavyweights have cottoned on to the consumer trend, offering some vegan products within their ranges, or better still, there are heaps of excellent entirely vegan beauty brands that are absolutely killing it. If you\\'re planning on giving your beauty regime an animal-friendly makeover, there\\'s zero need to compromise on quality. Ingredient innovation and formula development means that there are some high-performing vegan beauty products out there that stand head and shoulders above their non-vegan counterparts. Vegan beauty means products that contain no animal derivatives (including ingredients such as beeswax and lanolin), whereas cruelty-free (identified most commonly with the Leaping Bunny accreditation) means a product was developed without animal testing, and it is not sold in countries where animal testing is mandatory. Animal testing for cosmetic purposes is banned in the UK, and also under EU law. Prior to May 2021, \\'general\\' cosmetics sold in China were subjected to mandatory pre-market animal testing, meaning that beauty brands that sold to the Chinese market could not be classified as cruelty-free. Since then, \"the prerequisite for pre-market animal testing has been lifted for most cosmetics being sold in the country\", according to Cruelty-Free Kitty. Most brands helpfully label their vegan beauty products as such on the outer packaging. However, if it\\'s not obvious, or if you\\'re simply wanting to double check, there are certain red-flag ingredients that signal a non-vegan product. A few to look out for include lanolin (derived from sheep\\'s wool, found in some lip balms), honey and beeswax, and carmine (a red pigment derived from insects, found in some lipsticks). We recommend you refer to a brand\\'s website if you\\'re unsure, because even some commonplace skincare ingredients are non-vegan. Squalane for instance is harvested from the liver of sharks - granted this is much less common nowadays given developments in plant-based formulas - but it is still worth checking. The nature of my job as a fashion and beauty journalist requires me to be super discerning, testing new products and putting them through their paces. All the beauty brands I\\'ve chosen are fully vegan across the board, and the products I\\'ve highlighted are a few of my personal favourites. Hello! Fashion shares our favourite vegan beauty brands: With its aesthetically pleasing packaging and kind spirit ethos, Selena Gomez’s brainchild Rare Beauty is brilliant, and entirely vegan. I really rate the Perfect Strokes Volumizing Mascara (think the ultimate all-in-one lash transformer), but my current obsession is the All of the Above Weightless Eyeshadow Stick. It is a godsend on days when I\\'m limited on time, simply swipe it over the lid and along the lower lash line and blend. It takes seconds. Plus, unlike a few other formulas I\\'ve tried, it refuses to budge. I\\'m wedded to \\'Adventure\\', a lovely deep gold. Sadly, this particular shade seems to always be unavailable - stock up if you spot it - but the champagne-hued \\'Integrity\\' is also very pretty. With self-expression at its core, NYC-based Milk Makeup has a fun, youthful spirit. It\\'s one of the more affordable brands that I think excels in non-sticky, super cushiony cream formulas – plus, it has an excellent selection of miniatures. You\\'d be hard pressed to find me flying without a Milk Makeup stick in my hand luggage. I\\'ve lost count of how many Lip + Cheek sticks I\\'ve bought over the years for friends and family. Universally flattering and a total breeze to apply, \\'Werk\\' – a pretty, dusty rose – is my go-to when I need a healthy flush of colour. Created by celebrity facialist Sharon McGlinchey, small-batch Australian brand MV Skintherapy strips things back to basics and focuses on the ritual of self-care. The brand\\'s oils are utterly lovely, and I am particularly fond of its rose line for both nourishment and hydration - great on dull, weathered skin. Fresh and fragrant, MV Skintherapy\\'s Rose Hydrating Mist is uplifting and moisturising in equal parts. Packed with the humectant glycerin and a sumptuous blend of rose-derived oils, the formula is great for delivering a hit of hydration after the liquid exfoliant stage. I personally remain unpersuaded by the \\'clean beauty\\' movement, but another vote for Australian vegan skincare comes in the form of Inika Organic. With quality ingredients and the pursuit of radiance at its core, the brand boasts a thoughtful, user-friendly lineup of products at a reasonable mid-range price point. Loaded with bakuchiol, a plant-derived retinol alternative, this formula by Inika Organic is feather-light, suitable for those with sensitivity and leaves my dry skin feeling comfortable and nourished. It\\'s marketed as a serum, but I do find it oily enough that I often don\\'t follow up with moisturiser. Unsurprisingly, Princess Diana was onto something when she recruited hair extraordinaire Sam McKnight as her personal stylist. His entirely vegan brand Hair by Sam McKnight is all about the cool-girl aesthetic, captured best by 90s muse Kate Moss. Not sure where to start? Try out the brand\\'s Lazy Girl Dry Shampoo – indispensable on clean hair days when you need a serious volume boost. It\\'s not chalky in the slightest and leaves no maddening white residue. Plus, the fragrance - and this checks out across the whole product line-up - is utterly divine. Aveda is one of the globe\\'s leading haircare brands, and for excellent reason. Marrying performance and innovation with an earth-friendly outlook, the brand has been cruelty-free since its inception in 1978. After extensive fine-tuning, Aveda has reworked its first-rate formulas so it is now fully vegan. Aveda\\'s Scalp Solutions range is excellent - vital for those who suffer with buildup or general discomfort. The conditioner and the mist could just as easily have made the cut, but I opted for the shampoo because I can\\'t get over how refreshed and whistle-clean it makes my scalp feel - even when I\\'ve had lots of product in my hair - without it ever verging into \\'squeaky\\' territory. I always favour professional-standard nail brands, and Mylee is one of my favourites for affordable gels. Founded in 2014, it is a trailblazer in the at-home salon sphere with its ultra-durable polishes. (Truly, if you have slow nail growth like me, a DIY pedicure can last for a month.) Mylee offers some extremely good value kits as well as an extensive individual shade range. I\\'m devoted to jewel tones, and I adore \\'Green Velvet\\' - a lovely, rich emerald. A total no brainer if you\\'re wanting to cut back on the amount you spend on beauty services. A relative newcomer as far as luxury perfume houses go, Sana Jardin was only founded in 2017 and yet it has already made a huge splash. Blending natural and man-made notes, the brand prides itself on delivering \"the exquisite, lush beauty of nature’s most exotic scents with sparkling clarity and presence\". Berber Blonde is zingy and invigorating, but this season I can\\'t get enough of Celestial Patchouli\\'s smoky depth. Exuding cashmere-level warmth, it feels autumn-appropriate and slightly hypnotic. Beauty maven Michelle Feeney created independent British label Floral Street with the intention of making the world of fragrance more \"accessible and affordable\". Unpretentious and excellent value, get acquainted with the London-inspired scents via the discovery set if you\\'re looking for a new signature. Lush and inviting, London Poppy combines a hit of juiciness – Sicilian lemon and Florida orange – with creamy notes of blossom and heady jasmine. Like this story? Sign up to our Hello! Fashion newsletter to get your weekly \\'Fashion Fix\\' delivered straight to your inbox. HELLO!\\'s selection is editorial and independently chosen – we only feature items our editors love and approve of. HELLO! may collect a share of sales or other compensation from the links on this page. To find out more visit our FAQ page.']}\n"
     ]
    }
   ],
   "source": [
    "# Let's remove empty articles\n",
    "filtered_dataset = reduced_dataset.filter(lambda instance: not instance[\"Text\"] == None)\n",
    "print(filtered_dataset[0:3])"
   ]
  },
  {
   "cell_type": "code",
   "execution_count": 4,
   "metadata": {
    "collapsed": false,
    "jupyter": {
     "outputs_hidden": false
    },
    "pycharm": {
     "name": "#%%\n"
    }
   },
   "outputs": [
    {
     "data": {
      "application/vnd.jupyter.widget-view+json": {
       "model_id": "cbbce35ed1b6428a82ad0dea51843839",
       "version_major": 2,
       "version_minor": 0
      },
      "text/plain": [
       "Filter:   0%|          | 0/96 [00:00<?, ? examples/s]"
      ]
     },
     "metadata": {},
     "output_type": "display_data"
    },
    {
     "name": "stdout",
     "output_type": "stream",
     "text": [
      "URLs with empty articles:\n",
      "['https://www.healthcanal.com/nutrition/healthy-eating/kefir-vs-kombucha', 'https://euroweeklynews.com/2023/11/01/world-vegan-day-is-a-vegan-diet-wise/', 'https://www.dewsburyreporter.co.uk/lifestyle/food-and-drink/world-vegan-day-here-are-the-11-best-rated-restaurants-with-vegan-friendly-food-options-in-dewsbury-mirfield-batley-and-spen-according-to-tripadvisor-4392551', 'http://www.wnyc.org/story/kung-food-cookbook-shares-third-culture-recipes/', 'https://sfist.com/2023/10/30/first-five-food-vendors-several-of-them-vegan-announced-for-ikea-adjacent-food-hall-in-sf/', 'https://www.yorkshirepost.co.uk/news/people/beck-hall-malham-yorkshire-dales-hotel-to-become-first-in-england-to-go-fully-vegan-4387931', 'http://www.wnyc.org/articles/splendidtable', 'https://www.healthcanal.com/nutrition/weight-management/best-vegan-fat-burner', 'https://www.tmz.com/2023/10/27/kylie-jenner-vegan-leather-clothing-line-support-peta/', 'https://www.healthcanal.com/nutrition/diet/is-greek-yogurt-vegan', 'https://www.forbes.com/video/6339254914112/', 'https://www.portsmouth.co.uk/business/new-vegan-cafe-offbeet-takes-albert-road-by-storm-as-owners-fulfil-ambitions-of-opening-in-southsea-4371721', 'https://tribuneonlineng.com/10-alternative-sources-of-protein/', 'https://torontosun.com/news/world/men-wont-go-vegan-because-its-not-seen-as-masculine-study', 'https://boingboing.net/2023/10/06/visit-silver-lake-and-drown-your-sorrows-in-creamos-delicious-vegan-ice-cream-and-donuts.html', 'https://www.healthcanal.com/nutrition/diet/is-vegetable-oil-vegan', 'https://www.healthcanal.com/nutrition/diet/is-white-chocolate-vegan', 'https://www.healthcanal.com/nutrition/diet/is-tahini-vegan']\n",
      "\n",
      "This should add up:\n",
      "78 18 96\n"
     ]
    }
   ],
   "source": [
    "# Let's keep track of the articles we removed. We might want to investigate what went wrong during crawling. \n",
    "removed = reduced_dataset.filter(lambda instance: instance[\"Text\"] == None)\n",
    "\n",
    "print(\"URLs with empty articles:\")\n",
    "print(removed[\"URL\"])\n",
    "\n",
    "print(\"\\nThis should add up:\" )\n",
    "print(len(filtered_dataset), len(removed), len(reduced_dataset))"
   ]
  },
  {
   "cell_type": "markdown",
   "metadata": {
    "collapsed": false,
    "jupyter": {
     "outputs_hidden": false
    }
   },
   "source": [
    "## 2. Split into train and test\n",
    "\n",
    "For NLP experiment, we want to split our dataset into training and test data. When working with machine learning models, the training data is further split into a training and a development portion. The development data is used for exploring hyperparameters and for finetuning the model. During the development phase, the test data is not touched at all. For many shared tasks, the test data is not even publicly available to avoid overfitting. "
   ]
  },
  {
   "cell_type": "code",
   "execution_count": 5,
   "metadata": {
    "collapsed": false,
    "jupyter": {
     "outputs_hidden": false
    },
    "pycharm": {
     "name": "#%%\n"
    }
   },
   "outputs": [
    {
     "name": "stdout",
     "output_type": "stream",
     "text": [
      "62 16 78\n"
     ]
    }
   ],
   "source": [
    "seed = 5\n",
    "splitted = filtered_dataset.train_test_split(test_size=0.2)\n",
    "train = splitted[\"train\"]\n",
    "test = splitted[\"test\"]\n",
    "print(len(train), len(test), len(filtered_dataset))"
   ]
  },
  {
   "cell_type": "markdown",
   "metadata": {
    "collapsed": false,
    "jupyter": {
     "outputs_hidden": false
    }
   },
   "source": [
    "Take a look at the source code of the method. **Why do we need to set a seed?**"
   ]
  },
  {
   "cell_type": "markdown",
   "metadata": {
    "pycharm": {
     "name": "#%%\n"
    }
   },
   "source": [
    "Take a look at the source code of the method. **Why do we need to set a seed?**"
   ]
  },
  {
   "cell_type": "markdown",
   "metadata": {
    "collapsed": false,
    "jupyter": {
     "outputs_hidden": false
    }
   },
   "source": [
    "## 2. Split into train and test\n",
    "\n",
    "For NLP experiment, we want to split our dataset into training and test data. When working with machine learning models, the training data is further split into a training and a development portion. The development data is used for exploring hyperparameters and for finetuning the model. During the development phase, the test data is not touched at all. For many shared tasks, the test data is not even publicly available to avoid overfitting. "
   ]
  },
  {
   "cell_type": "code",
   "execution_count": 7,
   "metadata": {},
   "outputs": [
    {
     "name": "stdout",
     "output_type": "stream",
     "text": [
      "62 16 78\n"
     ]
    }
   ],
   "source": [
    "seed = 5\n",
    "splitted = filtered_dataset.train_test_split(test_size=0.2)\n",
    "train = splitted[\"train\"]\n",
    "test = splitted[\"test\"]\n",
    "print(len(train), len(test), len(filtered_dataset))"
   ]
  },
  {
   "cell_type": "markdown",
   "metadata": {
    "collapsed": false,
    "jupyter": {
     "outputs_hidden": false
    }
   },
   "source": [
    "Take a look at the source code of the method. **Why do we need to set a seed?**"
   ]
  }
 ],
 "metadata": {
  "kernelspec": {
   "display_name": "Python 3 (ipykernel)",
   "language": "python",
   "name": "python3"
  },
  "language_info": {
   "codemirror_mode": {
    "name": "ipython",
    "version": 3
   },
   "file_extension": ".py",
   "mimetype": "text/x-python",
   "name": "python",
   "nbconvert_exporter": "python",
   "pygments_lexer": "ipython3",
   "version": "3.9.18"
  }
 },
 "nbformat": 4,
 "nbformat_minor": 4
}
