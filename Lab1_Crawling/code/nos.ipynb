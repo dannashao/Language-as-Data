{
 "cells": [
  {
   "cell_type": "code",
   "execution_count": null,
   "id": "c9dc8baf-234c-4d8d-acd5-259caec70085",
   "metadata": {},
   "outputs": [],
   "source": [
    "from util_html import *\n",
    "\n",
    "keyword=\"abortus\"\n",
    "url = \"https://nos.nl/zoeken/?q=\" + keyword\n",
    "\n",
    "print('The search request URL:', url)\n",
    "\n",
    "parser_content= url_to_html(url)\n",
    "\n",
    "# The class for the search results has a weird name\n",
    "# You can find it out when you look at the HTML source in your web browser\n",
    "search_results = parser_content.find_all(\"a\", {\"class\":\"sc-f75afcb6-4 isiLEZ\"})\n",
    "\n",
    "# For comparison, print the full output, scroll through it and make sure you find the search results in there. \n",
    "print(search_results)"
   ]
  },
  {
   "cell_type": "code",
   "execution_count": 103,
   "id": "787c0838-694f-4af1-bf0b-d2a14f11956e",
   "metadata": {},
   "outputs": [],
   "source": [
    "import os\n",
    "def create_folders_if_not_exist(dir):\n",
    "    if not os.path.exists(dir):\n",
    "        os.makedirs(dir)\n",
    "\n",
    "def create_folders(dir):\n",
    "    '''\n",
    "    Creates folders in the directory if they do not exist\n",
    "    Folder Structure:\n",
    "    ├── * input directory\n",
    "    │   ├── eng\n",
    "    │   │   ├── train\n",
    "    │   │   ├── test\n",
    "    │   ├── nld\n",
    "    │   │   ├── train\n",
    "    │   │   ├── test\n",
    "    '''\n",
    "    create_folders_if_not_exist(dir)\n",
    "    \n",
    "    lang1_dir = os.path.join(dir, r'eng')\n",
    "    create_folders_if_not_exist(lang1_dir)\n",
    "    lang1_train_dir = os.path.join(lang1_dir, r'train')\n",
    "    create_folders_if_not_exist(lang1_train_dir)\n",
    "    lang1_test_dir = os.path.join(lang1_dir, r'test')\n",
    "    create_folders_if_not_exist(lang1_test_dir)\n",
    "        \n",
    "    lang2_dir = os.path.join(dir, r'nld')\n",
    "    create_folders_if_not_exist(lang2_dir)\n",
    "    lang2_train_dir = os.path.join(lang2_dir, r'train')\n",
    "    create_folders_if_not_exist(lang2_train_dir)\n",
    "    lang2_test_dir = os.path.join(lang2_dir, r'test')\n",
    "    create_folders_if_not_exist(lang2_test_dir)\n",
    "\n",
    "    return lang1_train_dir, lang1_test_dir, lang2_train_dir, lang2_test_dir\n",
    "\n",
    "dirs = create_folders('/home/arimo/Desktop/Studily/LD/labs/Lab1_Crawling/code/out')"
   ]
  },
  {
   "cell_type": "code",
   "execution_count": 18,
   "id": "9f5ed5ae-85da-4e30-88c4-a2d76960b735",
   "metadata": {},
   "outputs": [],
   "source": [
    "import requests\n",
    "import re\n",
    "from bs4 import BeautifulSoup\n",
    "import html5lib\n",
    "import pandas as pd"
   ]
  },
  {
   "cell_type": "code",
   "execution_count": 5,
   "id": "1a5a82ea-823c-4282-a234-fa580fef90c5",
   "metadata": {},
   "outputs": [],
   "source": [
    "def url_to_html(url):\n",
    "    \"\"\"Scrapes the html content from a web page. Takes a URL string as input and returns an html object. \"\"\"\n",
    "    \n",
    "    # Get the html content\n",
    "    headers = {\n",
    "    'user-agent': 'Mozilla/5.0 (Macintosh; Intel Mac OS X 10_15_7) AppleWebKit/537.36 (KHTML, like Gecko) Chrome/102.0.0.0 Safari/537.36',\n",
    "    }\n",
    "    res = requests.get(url, headers=headers)\n",
    "    #res = requests.get(url + \".pdf\", headers={\"User-Agent\": \"XY\"})\n",
    "    html = res.text\n",
    "    parser_content = BeautifulSoup(html, 'html5lib')\n",
    "    return parser_content"
   ]
  },
  {
   "cell_type": "code",
   "execution_count": 41,
   "id": "f7a628dd-42a6-40fd-a33b-7de1b81ebf3d",
   "metadata": {},
   "outputs": [],
   "source": [
    "def get_nos_metadata(keyword, page_range):\n",
    "    urls = []\n",
    "    titles = []\n",
    "    times = []\n",
    "    domain = \"https://nos.nl/\"\n",
    "    for i in range(1,page_range+1):\n",
    "        search_url = \"https://nos.nl/zoeken/?q=\" + keyword + \"&page=\" + str(i)\n",
    "        parser_content= url_to_html(search_url)\n",
    "        result_url = parser_content.find_all(\"a\", {\"class\":\"sc-f75afcb6-4 isiLEZ\"})\n",
    "        result_times = parser_content.find_all(\"div\",{\"class\":\"sc-d6d7be46-0 jjSfnY sc-f75afcb6-6 hGGBnM\"})\n",
    "        result_titles = parser_content.find_all(\"h2\",{\"class\":\"sc-f75afcb6-3 lhteiV\"})\n",
    "        for j, url in enumerate(result_url):\n",
    "            article_url = domain + url[\"href\"]\n",
    "            urls.append(article_url)\n",
    "        for m, title in enumerate(result_titles):\n",
    "            article_title = re.search(r'\\<h2 class\\=\\\"sc\\-f75afcb6\\-3 lhteiV\\\"\\>(.*?)\\<\\/h2\\>', str(title)).group(1)\n",
    "            titles.append(article_title)\n",
    "        for k,time in enumerate(result_times):\n",
    "            article_time = re.search(r'time datetime\\=\\\"(.*?)\\\"\\>', str(time)).group(1)\n",
    "            times.append(article_time)\n",
    "    return times, titles, urls"
   ]
  },
  {
   "cell_type": "code",
   "execution_count": 79,
   "id": "a0ff11bf-43a8-4b63-bd3a-60f3c1129a7c",
   "metadata": {
    "scrolled": true
   },
   "outputs": [],
   "source": [
    "nos_metadata = get_nos_metadata(keyword = \"abortus\", page_range = 35)"
   ]
  },
  {
   "cell_type": "code",
   "execution_count": 82,
   "id": "ec970b66-721d-442b-84fc-0d73300bf68b",
   "metadata": {},
   "outputs": [],
   "source": [
    "def remove_nos_videos(metadata):\n",
    "    '''\n",
    "    NOS search results sometimes includes video links\n",
    "    example: https://nos.nl/nieuwsuur/video/2496544-cu-lid-annelijn-door-wie-wil-je-eigenlijk-aardig-gevonden-worden\n",
    "    This function removes such links\n",
    "    '''\n",
    "    df = pd.DataFrame(metadata).T.rename(columns={0:'time', 1:'title', 2:'url'})\n",
    "    video_pattern = \"\\/video\\/\"\n",
    "    filter = df['url'].str.contains(video_pattern)\n",
    "    cleaned_df = df[~filter].head(600)\n",
    "    \n",
    "    return cleaned_df"
   ]
  },
  {
   "cell_type": "code",
   "execution_count": 84,
   "id": "76c186ef-262a-4fe6-a9f7-adf749d3e301",
   "metadata": {},
   "outputs": [],
   "source": [
    "cleaned_nos_metadata = remove_nos_videos(nos_metadata)"
   ]
  },
  {
   "cell_type": "code",
   "execution_count": 85,
   "id": "b2fae8fe-fc20-42e0-9498-ba30827fb78d",
   "metadata": {},
   "outputs": [],
   "source": [
    "def nos_metadata_train_test_split(df, n = 20):\n",
    "    '''\n",
    "    Split the train/test with n% of test data for nos\n",
    "    '''\n",
    "    #df = pd.DataFrame(metadata).T.rename(columns={0:'time', 1:'title', 2:'url'})\n",
    "    rdf = df.sample(frac=1, random_state=1) # reproducibility\n",
    "    \n",
    "    test = int(len(df)*(n/100))\n",
    "    train = len(df)\n",
    "    \n",
    "    test_index = rdf.index[0:test]\n",
    "    train_index = rdf.index[test:train]\n",
    "    \n",
    "    test_metadata = rdf.head(test)\n",
    "    train_metadata = rdf.tail(train-test)\n",
    "    \n",
    "    return train_metadata, test_metadata, train_index, test_index"
   ]
  },
  {
   "cell_type": "code",
   "execution_count": 86,
   "id": "63df5aca-a52e-49b9-92af-09283d31b7a2",
   "metadata": {},
   "outputs": [],
   "source": [
    "nos_splittedmedatada = nos_metadata_train_test_split(cleaned_nos_metadata)"
   ]
  },
  {
   "cell_type": "code",
   "execution_count": 93,
   "id": "72007043-3f49-421a-9387-5f211db39717",
   "metadata": {},
   "outputs": [
    {
     "data": {
      "text/plain": [
       "Int64Index([ 92, 632, 386, 605,  38,  75, 138,  44, 487, 460,\n",
       "            ...\n",
       "            198, 313, 434, 565, 649, 144, 160,  80, 261,  41],\n",
       "           dtype='int64', length=480)"
      ]
     },
     "execution_count": 93,
     "metadata": {},
     "output_type": "execute_result"
    }
   ],
   "source": [
    "nos_splittedmedatada[2]"
   ]
  },
  {
   "cell_type": "code",
   "execution_count": 55,
   "id": "a7b4e4c6-8cf9-4d17-bfc2-8e1cbc6b56fa",
   "metadata": {},
   "outputs": [],
   "source": [
    "write_nos_metadata(dirs, 'abortus', nos_splittedmedatada)"
   ]
  },
  {
   "cell_type": "code",
   "execution_count": 88,
   "id": "d8802e09-2c69-4046-abe9-909292edcccc",
   "metadata": {},
   "outputs": [],
   "source": [
    "def get_nos_content_and_section(url):\n",
    "    '''\n",
    "    Get the text from url link\n",
    "    '''\n",
    "    #print(url)\n",
    "    soup = BeautifulSoup(requests.get(url).text,\"html5lib\")\n",
    "    section_container = soup.select(\"p\",{\"class\":\"sc-f9df6382-7 cMuisv\"}) # NOS section class\n",
    "    section = re.search(r'cMuisv\\\"\\>(.*?)\\<\\/p\\>', str(section_container)).group(1)\n",
    "    text = \"\"\n",
    "    for item in soup.select(\"p\",{\"class\":\"sc-6d77a1d1-0 chzewu\"}): # NOS body text class\n",
    "        text += item.text.strip()\n",
    "    return text, section"
   ]
  },
  {
   "cell_type": "code",
   "execution_count": 97,
   "id": "94525e9c-be6b-4ea3-908d-c30f5539870b",
   "metadata": {},
   "outputs": [
    {
     "data": {
      "text/html": [
       "<div>\n",
       "<style scoped>\n",
       "    .dataframe tbody tr th:only-of-type {\n",
       "        vertical-align: middle;\n",
       "    }\n",
       "\n",
       "    .dataframe tbody tr th {\n",
       "        vertical-align: top;\n",
       "    }\n",
       "\n",
       "    .dataframe thead th {\n",
       "        text-align: right;\n",
       "    }\n",
       "</style>\n",
       "<table border=\"1\" class=\"dataframe\">\n",
       "  <thead>\n",
       "    <tr style=\"text-align: right;\">\n",
       "      <th></th>\n",
       "      <th>index</th>\n",
       "      <th>time</th>\n",
       "      <th>title</th>\n",
       "      <th>url</th>\n",
       "    </tr>\n",
       "  </thead>\n",
       "  <tbody>\n",
       "    <tr>\n",
       "      <th>0</th>\n",
       "      <td>92</td>\n",
       "      <td>2023-10-23T03:47:29+0200</td>\n",
       "      <td>Nog geen nieuwe president Argentinië, tweede s...</td>\n",
       "      <td>https://nos.nl//artikel/2495031-nog-geen-nieuw...</td>\n",
       "    </tr>\n",
       "    <tr>\n",
       "      <th>1</th>\n",
       "      <td>632</td>\n",
       "      <td>2023-10-23T03:47:29+0200</td>\n",
       "      <td>Nog geen nieuwe president Argentinië, tweede s...</td>\n",
       "      <td>https://nos.nl//artikel/2495031-nog-geen-nieuw...</td>\n",
       "    </tr>\n",
       "    <tr>\n",
       "      <th>2</th>\n",
       "      <td>386</td>\n",
       "      <td>2023-08-08T23:05:23+0200</td>\n",
       "      <td>Referendum Ohio gaat toekomst abortusrechten b...</td>\n",
       "      <td>https://nos.nl//artikel/2485959-referendum-ohi...</td>\n",
       "    </tr>\n",
       "    <tr>\n",
       "      <th>3</th>\n",
       "      <td>605</td>\n",
       "      <td>2023-08-09T05:22:22+0200</td>\n",
       "      <td>Regels referenda Ohio niet veranderd, overwinn...</td>\n",
       "      <td>https://nos.nl//artikel/2485970-regels-referen...</td>\n",
       "    </tr>\n",
       "    <tr>\n",
       "      <th>4</th>\n",
       "      <td>38</td>\n",
       "      <td>2023-08-25T17:29:46+0200</td>\n",
       "      <td>Van der Staaij heeft omstreden standpunten, ma...</td>\n",
       "      <td>https://nos.nl//artikel/2487978-van-der-staaij...</td>\n",
       "    </tr>\n",
       "    <tr>\n",
       "      <th>...</th>\n",
       "      <td>...</td>\n",
       "      <td>...</td>\n",
       "      <td>...</td>\n",
       "      <td>...</td>\n",
       "    </tr>\n",
       "    <tr>\n",
       "      <th>475</th>\n",
       "      <td>144</td>\n",
       "      <td>2023-09-07T02:49:47+0200</td>\n",
       "      <td>Hoogste hof Mexico bekrachtigt recht op abortus</td>\n",
       "      <td>https://nos.nl//artikel/2489520-hoogste-hof-me...</td>\n",
       "    </tr>\n",
       "    <tr>\n",
       "      <th>476</th>\n",
       "      <td>160</td>\n",
       "      <td>2023-10-23T15:33:23+0200</td>\n",
       "      <td>Podcast De Dag: Mike Johnson is onbekend, chri...</td>\n",
       "      <td>https://nos.nl//artikel/2495085-podcast-de-dag...</td>\n",
       "    </tr>\n",
       "    <tr>\n",
       "      <th>477</th>\n",
       "      <td>80</td>\n",
       "      <td>2023-10-23T15:33:23+0200</td>\n",
       "      <td>Podcast De Dag: Mike Johnson is onbekend, chri...</td>\n",
       "      <td>https://nos.nl//artikel/2495085-podcast-de-dag...</td>\n",
       "    </tr>\n",
       "    <tr>\n",
       "      <th>478</th>\n",
       "      <td>261</td>\n",
       "      <td>2023-10-13T23:25:30+0200</td>\n",
       "      <td>Met vrouwenrechten als splijtzwam gaat Polen d...</td>\n",
       "      <td>https://nos.nl//artikel/2494020-met-vrouwenrec...</td>\n",
       "    </tr>\n",
       "    <tr>\n",
       "      <th>479</th>\n",
       "      <td>41</td>\n",
       "      <td>2023-10-13T23:25:30+0200</td>\n",
       "      <td>Met vrouwenrechten als splijtzwam gaat Polen d...</td>\n",
       "      <td>https://nos.nl//artikel/2494020-met-vrouwenrec...</td>\n",
       "    </tr>\n",
       "  </tbody>\n",
       "</table>\n",
       "<p>480 rows × 4 columns</p>\n",
       "</div>"
      ],
      "text/plain": [
       "     index                      time  \\\n",
       "0       92  2023-10-23T03:47:29+0200   \n",
       "1      632  2023-10-23T03:47:29+0200   \n",
       "2      386  2023-08-08T23:05:23+0200   \n",
       "3      605  2023-08-09T05:22:22+0200   \n",
       "4       38  2023-08-25T17:29:46+0200   \n",
       "..     ...                       ...   \n",
       "475    144  2023-09-07T02:49:47+0200   \n",
       "476    160  2023-10-23T15:33:23+0200   \n",
       "477     80  2023-10-23T15:33:23+0200   \n",
       "478    261  2023-10-13T23:25:30+0200   \n",
       "479     41  2023-10-13T23:25:30+0200   \n",
       "\n",
       "                                                 title  \\\n",
       "0    Nog geen nieuwe president Argentinië, tweede s...   \n",
       "1    Nog geen nieuwe president Argentinië, tweede s...   \n",
       "2    Referendum Ohio gaat toekomst abortusrechten b...   \n",
       "3    Regels referenda Ohio niet veranderd, overwinn...   \n",
       "4    Van der Staaij heeft omstreden standpunten, ma...   \n",
       "..                                                 ...   \n",
       "475   Hoogste hof Mexico bekrachtigt recht op abortus    \n",
       "476  Podcast De Dag: Mike Johnson is onbekend, chri...   \n",
       "477  Podcast De Dag: Mike Johnson is onbekend, chri...   \n",
       "478  Met vrouwenrechten als splijtzwam gaat Polen d...   \n",
       "479  Met vrouwenrechten als splijtzwam gaat Polen d...   \n",
       "\n",
       "                                                   url  \n",
       "0    https://nos.nl//artikel/2495031-nog-geen-nieuw...  \n",
       "1    https://nos.nl//artikel/2495031-nog-geen-nieuw...  \n",
       "2    https://nos.nl//artikel/2485959-referendum-ohi...  \n",
       "3    https://nos.nl//artikel/2485970-regels-referen...  \n",
       "4    https://nos.nl//artikel/2487978-van-der-staaij...  \n",
       "..                                                 ...  \n",
       "475  https://nos.nl//artikel/2489520-hoogste-hof-me...  \n",
       "476  https://nos.nl//artikel/2495085-podcast-de-dag...  \n",
       "477  https://nos.nl//artikel/2495085-podcast-de-dag...  \n",
       "478  https://nos.nl//artikel/2494020-met-vrouwenrec...  \n",
       "479  https://nos.nl//artikel/2494020-met-vrouwenrec...  \n",
       "\n",
       "[480 rows x 4 columns]"
      ]
     },
     "execution_count": 97,
     "metadata": {},
     "output_type": "execute_result"
    }
   ],
   "source": [
    "nos_splittedmedatada[0].reset_index()"
   ]
  },
  {
   "cell_type": "code",
   "execution_count": 92,
   "id": "a08d5d4e-d02b-4fe4-a821-2065deaca905",
   "metadata": {},
   "outputs": [],
   "source": [
    "from tqdm import tqdm"
   ]
  },
  {
   "cell_type": "code",
   "execution_count": 98,
   "id": "589b4b5a-1d5c-4f7d-9fa2-f8e4fa26e88d",
   "metadata": {},
   "outputs": [],
   "source": [
    "def write_nos_output_and_section(splitted_metadata, keyword, dirs):\n",
    "    # train\n",
    "    print(\"Scraping Dutch training data from NOS..\")\n",
    "    train_section = []\n",
    "    train = splitted_metadata[0].reset_index()\n",
    "    for i in tqdm(range(len(train))):\n",
    "        title = train['title'][i]\n",
    "        url = train['url'][i]\n",
    "        nos = get_nos_content_and_section(url)\n",
    "        section = nos[1]\n",
    "        train_section.append(section)\n",
    "        text = nos[0]\n",
    "        dir = dirs[2]\n",
    "        filename = keyword + \"_\" + str(i) + \"_\"+ str(title).replace('/','_') + \".txt\"\n",
    "        with open(dir + \"/\" + filename, \"w\", encoding = \"utf-8\") as f:\n",
    "            f.write(text)\n",
    "    \n",
    "    # test\n",
    "    print(\"Scraping Dutch test data from NOS..\")\n",
    "    test_section = []\n",
    "    test = splitted_metadata[1].reset_index()\n",
    "    for j in tqdm(range(len(test))):\n",
    "        title = test['title'][j]\n",
    "        url = test['url'][j]\n",
    "        nos = get_nos_content_and_section(url)\n",
    "        section = nos[1]\n",
    "        test_section.append(section)\n",
    "        text = nos[0]\n",
    "        dir = dirs[3]\n",
    "        filename = keyword + \"_\" + str(j) + \"_\" + str(title).replace('/','_') + \".txt\"\n",
    "        with open(dir + \"/\" + filename, \"w\", encoding = \"utf-8\") as f:\n",
    "            f.write(text)\n",
    "\n",
    "    return train_section, test_section    "
   ]
  },
  {
   "cell_type": "code",
   "execution_count": 120,
   "id": "15268484-a9e2-40c2-bf0a-5d4a45adea63",
   "metadata": {},
   "outputs": [
    {
     "data": {
      "text/plain": [
       "'/home/arimo/Desktop/Studily/LD/labs/Lab1_Crawling/code/out/nld/test'"
      ]
     },
     "execution_count": 120,
     "metadata": {},
     "output_type": "execute_result"
    }
   ],
   "source": [
    "dirs[3]"
   ]
  },
  {
   "cell_type": "code",
   "execution_count": 123,
   "id": "a821213f-0966-43c0-a390-348ab71c7897",
   "metadata": {},
   "outputs": [
    {
     "name": "stderr",
     "output_type": "stream",
     "text": [
      "100%|█████████████████████████████████████████| 120/120 [00:18<00:00,  6.34it/s]\n"
     ]
    }
   ],
   "source": [
    "test = nos_splittedmedatada[1].reset_index()\n",
    "keyword = 'abortus'\n",
    "for j in tqdm(range(len(test))):\n",
    "    title = test['title'][j]\n",
    "    url = test['url'][j]\n",
    "    nos = get_nos_content_and_section(url)\n",
    "    text = nos[0]\n",
    "    dir = dirs[3]\n",
    "    filename = keyword + \"_\" + str(j) + \"_\" + str(title).replace('/','_') + \".txt\"\n",
    "    with open(dir + \"/\" + filename, \"w\", encoding = \"utf-8\") as f:\n",
    "        f.write(text)"
   ]
  },
  {
   "cell_type": "code",
   "execution_count": null,
   "id": "665c10c5-8fe9-404d-a083-2860c146e3f6",
   "metadata": {},
   "outputs": [],
   "source": [
    "sections = write_nos_output_and_section(splitted_metadata = nos_splittedmedatada, keyword = 'abortus', dirs=dirs)"
   ]
  },
  {
   "cell_type": "code",
   "execution_count": 118,
   "id": "1ced7eed-605e-4b4d-bc14-a846da014cf6",
   "metadata": {},
   "outputs": [],
   "source": [
    "def write_nos_metadata(dirs, outfile_keywords, splittedmetadata, sections):\n",
    "    trainfile = dirs[2] + '/' + outfile_keywords + \"_train_metadata.csv\"\n",
    "    testfile = dirs[3] + '/' + outfile_keywords + \"_test_metadata.csv\"\n",
    "    splittedmetadata[0]['content'] = sections[0]\n",
    "    splittedmetadata[0]['content'] = sections[0]\n",
    "    splittedmetadata[1]['content'] = sections[1]\n",
    "    splittedmetadata[0].to_csv(trainfile)\n",
    "    splittedmetadata[1].to_csv(testfile)"
   ]
  },
  {
   "cell_type": "code",
   "execution_count": 119,
   "id": "6adaaa18-6aaa-4c18-b77a-27027d93aef2",
   "metadata": {},
   "outputs": [],
   "source": [
    "write_nos_metadata(dirs = dirs, outfile_keywords='abortus', splittedmetadata=nos_splittedmedatada, sections=sections)"
   ]
  },
  {
   "cell_type": "code",
   "execution_count": 2,
   "id": "4d27130a-8931-4517-b391-de9fe4d5970a",
   "metadata": {},
   "outputs": [
    {
     "name": "stdout",
     "output_type": "stream",
     "text": [
      "https://nos.nl/zoeken/?q=abortus&page=1\n",
      "https://nos.nl/zoeken/?q=abortus&page=2\n",
      "https://nos.nl/zoeken/?q=abortus&page=3\n",
      "https://nos.nl/zoeken/?q=abortus&page=4\n",
      "https://nos.nl/zoeken/?q=abortus&page=5\n",
      "https://nos.nl/zoeken/?q=abortus&page=6\n",
      "https://nos.nl/zoeken/?q=abortus&page=7\n",
      "https://nos.nl/zoeken/?q=abortus&page=8\n",
      "https://nos.nl/zoeken/?q=abortus&page=9\n",
      "https://nos.nl/zoeken/?q=abortus&page=10\n",
      "https://nos.nl/zoeken/?q=abortus&page=11\n",
      "https://nos.nl/zoeken/?q=abortus&page=12\n",
      "https://nos.nl/zoeken/?q=abortus&page=13\n",
      "https://nos.nl/zoeken/?q=abortus&page=14\n",
      "https://nos.nl/zoeken/?q=abortus&page=15\n",
      "https://nos.nl/zoeken/?q=abortus&page=16\n",
      "https://nos.nl/zoeken/?q=abortus&page=17\n",
      "https://nos.nl/zoeken/?q=abortus&page=18\n",
      "https://nos.nl/zoeken/?q=abortus&page=19\n",
      "https://nos.nl/zoeken/?q=abortus&page=20\n",
      "https://nos.nl/zoeken/?q=abortus&page=21\n",
      "https://nos.nl/zoeken/?q=abortus&page=22\n",
      "https://nos.nl/zoeken/?q=abortus&page=23\n",
      "https://nos.nl/zoeken/?q=abortus&page=24\n",
      "https://nos.nl/zoeken/?q=abortus&page=25\n",
      "https://nos.nl/zoeken/?q=abortus&page=26\n",
      "https://nos.nl/zoeken/?q=abortus&page=27\n",
      "https://nos.nl/zoeken/?q=abortus&page=28\n",
      "https://nos.nl/zoeken/?q=abortus&page=29\n",
      "https://nos.nl/zoeken/?q=abortus&page=30\n"
     ]
    }
   ],
   "source": [
    "keyword = \"abortus\"\n",
    "for i in range(1,32):\n",
    "    url = \"https://nos.nl/zoeken/?q=\" + keyword + \"&page=\" + str(i)\n",
    "    parser_content= url_to_html(url)\n",
    "    search_results = parser_content.find_all(\"a\", {\"class\":\"sc-f75afcb6-4 isiLEZ\"})\n",
    "\n",
    "    domain = \"https://nos.nl/\"\n",
    "    for i, link in enumerate(search_results):    \n",
    "        found_url = domain + link[\"href\"]\n",
    "        print(i, found_url)\n",
    "    \n",
    "    # Extract text and add the url as first line\n",
    "        text = found_url + '\\n'+ url_to_string(found_url) \n",
    "    \n",
    "    # Save in file\n",
    "        dir = \"../results/nos_search_results/\"\n",
    "        filename = keyword + \"_\" + str(i) + \".txt\"\n",
    "        with open(dir + filename, \"w\", encoding = \"utf-8\") as f:\n",
    "            f.write(text)"
   ]
  },
  {
   "cell_type": "code",
   "execution_count": null,
   "id": "6595586e-e61e-467e-9452-5f2d01494cc1",
   "metadata": {},
   "outputs": [],
   "source": []
  }
 ],
 "metadata": {
  "kernelspec": {
   "display_name": "py3.9",
   "language": "python",
   "name": "py3.9"
  },
  "language_info": {
   "codemirror_mode": {
    "name": "ipython",
    "version": 3
   },
   "file_extension": ".py",
   "mimetype": "text/x-python",
   "name": "python",
   "nbconvert_exporter": "python",
   "pygments_lexer": "ipython3",
   "version": "3.9.18"
  }
 },
 "nbformat": 4,
 "nbformat_minor": 5
}
