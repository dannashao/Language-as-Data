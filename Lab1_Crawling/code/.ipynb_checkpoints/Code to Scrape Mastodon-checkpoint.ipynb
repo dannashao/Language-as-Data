{
 "cells": [
  {
   "cell_type": "markdown",
   "id": "fe4e98c8",
   "metadata": {},
   "source": [
    "## Lab 1.5: Scraping Mastodon"
   ]
  },
  {
   "cell_type": "markdown",
   "id": "17bcdbbc",
   "metadata": {},
   "source": [
    "In this notebook we will be scraping messages from [https://docs.joinmastodon.org/](Mastodon), an open-source alternative to Twitter (X). The messages send over Mastodon are called *toots*. "
   ]
  },
  {
   "cell_type": "code",
   "execution_count": 1,
   "id": "14cfff1e",
   "metadata": {},
   "outputs": [],
   "source": [
    "import json\n",
    "import requests\n",
    "import pandas as pd"
   ]
  },
  {
   "cell_type": "markdown",
   "id": "4261c1b5",
   "metadata": {},
   "source": [
    "## 1. Setting up \n",
    "\n",
    "A few settings and variables need to be defined before we can start scraping, starting with the **URL** from which we will access the data. We then set the parameters, in this case **'limit'**, a parameter which sets the maximum number of posts that can be pulled at once. \n",
    "\n",
    "Note that above the URL, we have a commented out line of code which allows you to search for posts containing a given **hashtag**, such as the example 'coffee'. For this, we would have to use a slightly different **URL** format, which is also commented out below **hashtag**. Remove the comment to apply this specification to your query. \n",
    "\n",
    "Additional settings include setting a time-frame limit to the posts you collect using the **pandas Timestamp** and **DateOffset** functions. This will serve to cap how much data is collected. We then add the flag **is_end**, which will be set to **True** once we have past our set time-frame and stop scraping. Currently, we are delimiting the time-frame to all entries posted within the most recent hour.\n",
    "\n",
    "Finally, we will create an empty list **results** to store the data.\n",
    "\n",
    "can we play around with query, geo location, language, timestamp "
   ]
  },
  {
   "cell_type": "code",
   "execution_count": 4,
   "id": "a050a629",
   "metadata": {},
   "outputs": [],
   "source": [
    "\n",
    "#hashtag = 'veganism'  \n",
    "#URL = f'https://mastodon.social/api/v1/timelines/tag/{hashtag}'\n",
    "\n",
    "URL = 'https://mastodon.social/api/v1/timelines/public' #comment out if using hashtag alternative \n",
    "params = {    # set parameters\n",
    "    'limit': 40   # max value of posts \n",
    "}\n",
    "\n",
    "\n",
    "# limit collection, currently set to only collecting toots within the most recent hour\n",
    "since = pd.Timestamp('now', tz='utc') - pd.DateOffset(hour=1)\n",
    "is_end = False  # will be set to True \n",
    "\n",
    "# create list to store results\n",
    "results = []\n",
    "\n"
   ]
  },
  {
   "cell_type": "markdown",
   "id": "8ee4aa15",
   "metadata": {},
   "source": [
    "## 2. Scraping\n",
    "\n",
    "Once we've defined the necessary settings, we can start scraping. \n",
    "\n",
    "We create a loop to go through the posts, including **break** from the loop once we reach the end of posts. We then go through each post we've collected to make sure we are within our set time-frame. Each post is then added to our **results** list.\n"
   ]
  },
  {
   "cell_type": "code",
   "execution_count": 6,
   "id": "cf5fa811",
   "metadata": {},
   "outputs": [
    {
     "ename": "TypeError",
     "evalue": "__new__() got an unexpected keyword argument 't'",
     "output_type": "error",
     "traceback": [
      "\u001b[0;31m---------------------------------------------------------------------------\u001b[0m",
      "\u001b[0;31mTypeError\u001b[0m                                 Traceback (most recent call last)",
      "Cell \u001b[0;32mIn[6], line 9\u001b[0m\n\u001b[1;32m      6\u001b[0m     \u001b[38;5;28;01mbreak\u001b[39;00m\n\u001b[1;32m      8\u001b[0m \u001b[38;5;28;01mfor\u001b[39;00m p \u001b[38;5;129;01min\u001b[39;00m posts:\n\u001b[0;32m----> 9\u001b[0m     timestamp \u001b[38;5;241m=\u001b[39m \u001b[43mpd\u001b[49m\u001b[38;5;241;43m.\u001b[39;49m\u001b[43mTimestamp\u001b[49m\u001b[43m(\u001b[49m\u001b[43mt\u001b[49m\u001b[38;5;241;43m=\u001b[39;49m\u001b[43m[\u001b[49m\u001b[38;5;124;43m'\u001b[39;49m\u001b[38;5;124;43mcreated_at\u001b[39;49m\u001b[38;5;124;43m'\u001b[39;49m\u001b[43m]\u001b[49m\u001b[43m,\u001b[49m\u001b[43m \u001b[49m\u001b[43mtz\u001b[49m\u001b[38;5;241;43m=\u001b[39;49m\u001b[38;5;124;43m'\u001b[39;49m\u001b[38;5;124;43mutc\u001b[39;49m\u001b[38;5;124;43m'\u001b[39;49m\u001b[43m)\u001b[49m\n\u001b[1;32m     10\u001b[0m     \u001b[38;5;28;01mif\u001b[39;00m timestamp \u001b[38;5;241m<\u001b[39m\u001b[38;5;241m=\u001b[39m since:  \u001b[38;5;66;03m# check if we've reach the end of timeframe\u001b[39;00m\n\u001b[1;32m     11\u001b[0m         is_end \u001b[38;5;241m=\u001b[39m \u001b[38;5;28;01mTrue\u001b[39;00m  \u001b[38;5;66;03m# if so is_end is True\u001b[39;00m\n",
      "File \u001b[0;32mtimestamps.pyx:1755\u001b[0m, in \u001b[0;36mpandas._libs.tslibs.timestamps.Timestamp.__new__\u001b[0;34m()\u001b[0m\n",
      "\u001b[0;31mTypeError\u001b[0m: __new__() got an unexpected keyword argument 't'"
     ]
    }
   ],
   "source": [
    "while True:\n",
    "    r = requests.get(URL, params=params)\n",
    "    posts = json.loads(r.text)  # saves to json object\n",
    "    \n",
    "    if len(posts) == 0: # breaks code if we reach end of toots\n",
    "        break\n",
    "        \n",
    "    for p in posts:\n",
    "        timestamp = pd.Timestamp(t['created_at'], tz='utc')\n",
    "        if timestamp <= since:  # check if we've reach the end of timeframe\n",
    "            is_end = True  # if so is_end is True\n",
    "            break\n",
    "            \n",
    "        results.append(t)  # add each toot to results list\n",
    "    \n",
    "    if is_end:  # if end of timeframe, exit loop\n",
    "        break\n",
    "        \n",
    "    max_id = toots[-1]['id'] \n",
    "    params['max_id'] = max_id\n",
    "        \n",
    "    "
   ]
  },
  {
   "cell_type": "code",
   "execution_count": 24,
   "id": "f8f7d2da",
   "metadata": {},
   "outputs": [],
   "source": [
    "#df = pd.DataFrame(results)  # store results in pandas data frame\n",
    "#|print(df)"
   ]
  },
  {
   "cell_type": "markdown",
   "id": "6fab360d",
   "metadata": {},
   "source": [
    "## 3. Inspecting the results\n",
    "\n",
    "With the data stored in **results** as a list of posts, each post taking the form of a nested dictionary, we can now inspect the data. After importing the **pprint** module, which allows us to \"pretty-print\" python data structures, we can examine some instances of the data by extracting a given **post** from the list and printing it.\n",
    "\n",
    "Take time to inspect the dictionary, what might be keys of interest (apart from **'content'**), what do they refer to. Notice the **'url'** key which holds the link to the post in question. Note that some information might not be present across posts, certain keys may not appear for all data entries. \n",
    "\n",
    "\n",
    "Some keys which might be of interest: \n",
    "- 'language'\n",
    "- 'favourites_count'\n",
    "- 'followers_count'\n",
    "- 'reblogs_count'\n",
    "- 'replies_count'\n",
    "- 'media_attachments' \n",
    "\n",
    "**How might we use this information to filter through posts of interest?**"
   ]
  },
  {
   "cell_type": "code",
   "execution_count": 46,
   "id": "434dc60b",
   "metadata": {},
   "outputs": [
    {
     "name": "stdout",
     "output_type": "stream",
     "text": [
      "{'account': {'acct': 'RolloTreadway@beige.party',\n",
      "             'avatar': 'https://files.mastodon.social/cache/accounts/avatars/111/172/164/743/232/125/original/5c5c4d77d584f238.png',\n",
      "             'avatar_static': 'https://files.mastodon.social/cache/accounts/avatars/111/172/164/743/232/125/original/5c5c4d77d584f238.png',\n",
      "             'bot': False,\n",
      "             'created_at': '2023-10-03T00:00:00.000Z',\n",
      "             'discoverable': False,\n",
      "             'display_name': 'RolloTreadway',\n",
      "             'emojis': [],\n",
      "             'fields': [{'name': 'Location',\n",
      "                         'value': 'Tynedale, sunny Northumberland',\n",
      "                         'verified_at': None},\n",
      "                        {'name': 'having',\n",
      "                         'value': 'a nice cup of tea and a sit down',\n",
      "                         'verified_at': None}],\n",
      "             'followers_count': 615,\n",
      "             'following_count': 409,\n",
      "             'group': False,\n",
      "             'header': 'https://files.mastodon.social/cache/accounts/headers/111/172/164/743/232/125/original/e2b0b6d13e7e003f.jpg',\n",
      "             'header_static': 'https://files.mastodon.social/cache/accounts/headers/111/172/164/743/232/125/original/e2b0b6d13e7e003f.jpg',\n",
      "             'id': '111172164743232125',\n",
      "             'last_status_at': '2023-10-12',\n",
      "             'locked': False,\n",
      "             'note': '<p>Autistic Welsh NHS emergency care quality improvement '\n",
      "                     \"person.<br>(they/them or he/him - don't really have a \"\n",
      "                     'gender to speak of but those are familiar.)</p><p>Most '\n",
      "                     'important:<br>Trans rights are human rights; Black lives '\n",
      "                     'matter; Tories always despise you even if they pretend '\n",
      "                     'not to.</p><p>Enthusiastic about woodland, cricket, '\n",
      "                     'silent film, constitutional stuff, birds, gardening, '\n",
      "                     'tea, sandwiches.</p><p>(Profile pic: Buster Keaton sits '\n",
      "                     'unhappily in a steamship funnel; header is a glass '\n",
      "                     'teapot full of leaves.)</p>',\n",
      "             'statuses_count': 235,\n",
      "             'uri': 'https://beige.party/users/RolloTreadway',\n",
      "             'url': 'https://beige.party/@RolloTreadway',\n",
      "             'username': 'RolloTreadway'},\n",
      " 'card': None,\n",
      " 'content': \"<p>Oh! I didn't realise that a new Taskmaster series started \"\n",
      "            \"whilst I was away.</p><p>That's a wonderful thing!</p><p>I shall \"\n",
      "            'watch the first episode, and have a sandwich.</p>',\n",
      " 'created_at': '2023-10-12T19:39:27.000Z',\n",
      " 'edited_at': None,\n",
      " 'emojis': [],\n",
      " 'favourites_count': 0,\n",
      " 'id': '111223738723318739',\n",
      " 'in_reply_to_account_id': None,\n",
      " 'in_reply_to_id': None,\n",
      " 'language': 'en',\n",
      " 'media_attachments': [],\n",
      " 'mentions': [],\n",
      " 'poll': None,\n",
      " 'reblog': None,\n",
      " 'reblogs_count': 0,\n",
      " 'replies_count': 0,\n",
      " 'sensitive': False,\n",
      " 'spoiler_text': '',\n",
      " 'tags': [],\n",
      " 'uri': 'https://beige.party/users/RolloTreadway/statuses/111223738676618191',\n",
      " 'url': 'https://beige.party/@RolloTreadway/111223738676618191',\n",
      " 'visibility': 'public'}\n"
     ]
    }
   ],
   "source": [
    "#print(df)\n",
    "import pprint\n",
    "pp = pprint.PrettyPrinter(indent=1)\n",
    "\n",
    "post = results[20]\n",
    "pp.pprint(post)"
   ]
  },
  {
   "cell_type": "markdown",
   "id": "a791f399",
   "metadata": {},
   "source": [
    "## 4. Specify Queries\n",
    "\n",
    "Using what you learned in the Python course on extracting information from nested dictionaries, write your own code to filter through your data to extract more specific types of posts.\n",
    "\n",
    "Remember, you can also adjust the time-frame of the collected posts and re-scrape data. Additionally, utilizing the **'tags'** key may be a better way to filter based on a specific set of hashtags."
   ]
  },
  {
   "cell_type": "code",
   "execution_count": 11,
   "id": "158c967d",
   "metadata": {},
   "outputs": [],
   "source": []
  }
 ],
 "metadata": {
  "kernelspec": {
   "display_name": "LaD2023",
   "language": "python",
   "name": "lad2023"
  },
  "language_info": {
   "codemirror_mode": {
    "name": "ipython",
    "version": 3
   },
   "file_extension": ".py",
   "mimetype": "text/x-python",
   "name": "python",
   "nbconvert_exporter": "python",
   "pygments_lexer": "ipython3",
   "version": "3.9.0"
  }
 },
 "nbformat": 4,
 "nbformat_minor": 5
}
