{
 "cells": [
  {
   "cell_type": "markdown",
   "metadata": {},
   "source": [
    "Copyright: Vrije Universiteit Amsterdam, Faculty of Humanities, CLTL"
   ]
  },
  {
   "cell_type": "markdown",
   "metadata": {},
   "source": [
    "# Lab 1.6: Splitting the Dataset"
   ]
  },
  {
   "cell_type": "markdown",
   "metadata": {},
   "source": [
    "When we run a neural language model, we are currently usually relying on a [Huggingface checkpoint](https://huggingface.co/models). To faciliate the processing, Huggingface has published a [code database](https://huggingface.co/docs/datasets/) for datasets. In this lab, we transform our dataset into the Huggingface format and split it into a train and a test portion."
   ]
  },
  {
   "cell_type": "markdown",
   "metadata": {
    "collapsed": false,
    "jupyter": {
     "outputs_hidden": false
    }
   },
   "source": [
    "## 1. Huggingface dataset"
   ]
  },
  {
   "cell_type": "code",
   "execution_count": 21,
   "metadata": {
    "pycharm": {
     "name": "#%%\n"
    },
    "scrolled": true
   },
   "outputs": [
    {
     "name": "stderr",
     "output_type": "stream",
     "text": [
      "Skipping line 12: expected 6 fields, saw 69\n",
      "Skipping line 32: expected 6 fields, saw 10\n",
      "Skipping line 64: expected 6 fields, saw 69\n",
      "Skipping line 89: expected 6 fields, saw 192\n",
      "Skipping line 90: expected 6 fields, saw 60\n",
      "\n"
     ]
    }
   ],
   "source": [
    "import pandas as pd\n",
    "\n",
    "# We first check if the dataset is well formatted. If you get warnings, check the erroneous lines. \n",
    "# We are currently ignoring the wrongly formatted lines\n",
    "pandas_dataset = pd.read_csv(\"../results/mediastack_results/veganism_overview.tsv\", sep = \"\\t\", on_bad_lines=\"warn\")\n"
   ]
  },
  {
   "cell_type": "markdown",
   "metadata": {},
   "source": [
    "**Investigate what went wrong in the erroneous lines and maybe adjust the crawling process.** Your peers need to be able to read in your test dataset without errors."
   ]
  },
  {
   "cell_type": "code",
   "execution_count": 22,
   "metadata": {
    "pycharm": {
     "name": "#%%\n"
    },
    "scrolled": true
   },
   "outputs": [
    {
     "name": "stdout",
     "output_type": "stream",
     "text": [
      "{'URL': ['https://tribuneonlineng.com/10-alternative-sources-of-protein/', 'https://www.reviewjournal.com/opinion/letters/letter-las-vegans-face-the-mosquito-menace-2917655/', 'https://www.twincities.com/2023/10/07/five-great-veggie-burgers-that-wont-have-you-missing-the-meat/'], 'Text': [None, 'Where are the abatement efforts? This summer, we in Clark County have been besieged by the aides aegypti mosquito. They mostly lay their eggs in standing water. The washes throughout the county are full of just that. Isn’t it time for the powers that be to institute a mosquito abatement plan? Public health is at risk.', 'Over the years, I’ve gotten more than a few emails from readers asking me where they can get a good veggie burger. And though I really appreciate a great one, I find that many restaurants either serve a pre-made patty or a flavorless facsimile thereof. But lately, I’ve been researching regular burgers for our annual burger guide, and where there’s a house-made veggie burger on the menu, I make a point to order it alongside the beef version. I can’t recommend all of them, but I did find five meatless burgers that I would order again. Please note that I am a meat eater and prefer real cheese if I can get it, so this is not a vegan burger list. I think this rice-and-bean-based burger is probably the one I liked the best from this list. Properly spiced (even a little spicy!), smashed like the trendy beef patties and topped with American cheese, caramelized onions, French onion dip, tomato and onion (and a fried egg if you want it), it’s filling and delicious and did not make me feel like I was missing out on something better. I also loved that I could pair this with a delicious margarita and fried Brussels sprouts from Centro, which shares space with Everywhen in St. Paul. Everywhen Burger Bar: 750 S. Cleveland Ave., St. Paul, 612-489-5558; or 2412 Nicollet Ave., Minneapolis, 612-452-9785; everywhenburgers.com The solo version of J. Selby’s infamous Dirty Double is the only pure vegan burger on this list, but it’s not the only one I tried. It is on this list because it’s the only vegan burger that did not make me, as a meat and cheese lover, grimace when I took a bite. It’s a little sorcery that allows the very meat-like patty and very cheese-like cheese to taste like the real thing, and I’m not sure I really want to peel back the curtain. Taste-wise, this is just a really simple, really good burger, topped with vegan cheese and mayo, crisp lettuce, tomato, and onion and served with really good fries. If you’re vegan or vegetarian (or just really like veggie burgers) and haven’t been here, you’re really missing out. J. Selby’s: 169 N. Victoria St., St. Paul; 651-222-3263; jselbys.com This brewery, with its magical, art-stuffed patio, just keeps getting better. It recently added a full kitchen and is serving burgers and other casual fare along with its delicious wood-fired pizzas. We weren’t over the moon for the regular burger (it was a little dry), but the black bean burger is fantastic. The earthy patty has plenty of spice and lots of interesting, flavorful crispy bits and is topped with guacamole, which added some needed moisture, caramelized onion for a little sweetness and lettuce and tomato for freshness. There’s plenty of inside seating, too, if the weather isn’t cooperating. St. Paul Brewing: 688 E. Minnehaha Ave., St. Paul; 651-698-1945; stpaulbrewing.com I always forget about this spot, tucked into the sleepy St. Anthony neighborhood on the border of St. Paul and Minneapolis. It reminds me of the coffee shops I liked to frequent in my college years, but with better food. I really liked that this patty is walnut-based, and you can definitely taste the nuts. I was bummed that the restaurant was out of buns when we visited, but even on toast, this was a tasty burger, topped with cheddar, hummus, greens, onion and tomato. Especially when served on toast, the hummus and nutty patty made it a little un-burger-like, but the fact that it was undeniably delicious kept it on the list. Finnish Bistro: 2264 Como Ave., St. Paul; 651-645-9181; finnishbistro.com One of the few things on Sea Salt’s menu that isn’t seafood is its walnut-cheese burger, and it was so good that I’m including it on this list even though you’ll have to wait until next season to get it. (The Minneapolis Parks restaurant next to Minnehaha Falls closed for the season last weekend.) It’s just a really good, nutty veggie burger (the cheese is inside the patty), topped with lettuce, tomato and onion and served with a side of the restaurant’s super tasty creamy coleslaw. I’m convinced that everything tastes better when eaten overlooking the falls, but who am I to count that against them? Let’s start the countdown until they’re open again. Sea Salt: 4801 Minnehaha Ave. S., Minneapolis; seasaltmpls.com']}\n"
     ]
    }
   ],
   "source": [
    "from datasets import Dataset\n",
    "\n",
    "# You could also load the Huggingface dataset directly from the tsv file but only if it does not contain erroneous lines\n",
    "# Check the documentation on Huggingface for more options on loading data. \n",
    "dataset = Dataset.from_pandas(pandas_dataset)\n",
    "reduced_dataset = dataset.select_columns(['URL', 'Text'])\n",
    "print(reduced_dataset[0:3])\n",
    "\n"
   ]
  },
  {
   "cell_type": "code",
   "execution_count": 29,
   "metadata": {
    "pycharm": {
     "name": "#%%\n"
    },
    "scrolled": true
   },
   "outputs": [
    {
     "data": {
      "application/vnd.jupyter.widget-view+json": {
       "model_id": "b60646815c4846d3a44de83edfe47ae1",
       "version_major": 2,
       "version_minor": 0
      },
      "text/plain": [
       "Filter:   0%|          | 0/95 [00:00<?, ? examples/s]"
      ]
     },
     "metadata": {},
     "output_type": "display_data"
    },
    {
     "name": "stdout",
     "output_type": "stream",
     "text": [
      "{'URL': ['https://www.reviewjournal.com/opinion/letters/letter-las-vegans-face-the-mosquito-menace-2917655/', 'https://www.twincities.com/2023/10/07/five-great-veggie-burgers-that-wont-have-you-missing-the-meat/', 'https://www.essentiallysports.com/soccer-football-news-wta-tennis-news-despite-opposing-vegan-novak-djokovic-principles-five-hundred-million-dollar-rich-zlatan-ibrahimovic-lauds-twenty-four-times-grand-slam-champion/'], 'Text': ['Where are the abatement efforts? This summer, we in Clark County have been besieged by the aides aegypti mosquito. They mostly lay their eggs in standing water. The washes throughout the county are full of just that. Isn’t it time for the powers that be to institute a mosquito abatement plan? Public health is at risk.', 'Over the years, I’ve gotten more than a few emails from readers asking me where they can get a good veggie burger. And though I really appreciate a great one, I find that many restaurants either serve a pre-made patty or a flavorless facsimile thereof. But lately, I’ve been researching regular burgers for our annual burger guide, and where there’s a house-made veggie burger on the menu, I make a point to order it alongside the beef version. I can’t recommend all of them, but I did find five meatless burgers that I would order again. Please note that I am a meat eater and prefer real cheese if I can get it, so this is not a vegan burger list. I think this rice-and-bean-based burger is probably the one I liked the best from this list. Properly spiced (even a little spicy!), smashed like the trendy beef patties and topped with American cheese, caramelized onions, French onion dip, tomato and onion (and a fried egg if you want it), it’s filling and delicious and did not make me feel like I was missing out on something better. I also loved that I could pair this with a delicious margarita and fried Brussels sprouts from Centro, which shares space with Everywhen in St. Paul. Everywhen Burger Bar: 750 S. Cleveland Ave., St. Paul, 612-489-5558; or 2412 Nicollet Ave., Minneapolis, 612-452-9785; everywhenburgers.com The solo version of J. Selby’s infamous Dirty Double is the only pure vegan burger on this list, but it’s not the only one I tried. It is on this list because it’s the only vegan burger that did not make me, as a meat and cheese lover, grimace when I took a bite. It’s a little sorcery that allows the very meat-like patty and very cheese-like cheese to taste like the real thing, and I’m not sure I really want to peel back the curtain. Taste-wise, this is just a really simple, really good burger, topped with vegan cheese and mayo, crisp lettuce, tomato, and onion and served with really good fries. If you’re vegan or vegetarian (or just really like veggie burgers) and haven’t been here, you’re really missing out. J. Selby’s: 169 N. Victoria St., St. Paul; 651-222-3263; jselbys.com This brewery, with its magical, art-stuffed patio, just keeps getting better. It recently added a full kitchen and is serving burgers and other casual fare along with its delicious wood-fired pizzas. We weren’t over the moon for the regular burger (it was a little dry), but the black bean burger is fantastic. The earthy patty has plenty of spice and lots of interesting, flavorful crispy bits and is topped with guacamole, which added some needed moisture, caramelized onion for a little sweetness and lettuce and tomato for freshness. There’s plenty of inside seating, too, if the weather isn’t cooperating. St. Paul Brewing: 688 E. Minnehaha Ave., St. Paul; 651-698-1945; stpaulbrewing.com I always forget about this spot, tucked into the sleepy St. Anthony neighborhood on the border of St. Paul and Minneapolis. It reminds me of the coffee shops I liked to frequent in my college years, but with better food. I really liked that this patty is walnut-based, and you can definitely taste the nuts. I was bummed that the restaurant was out of buns when we visited, but even on toast, this was a tasty burger, topped with cheddar, hummus, greens, onion and tomato. Especially when served on toast, the hummus and nutty patty made it a little un-burger-like, but the fact that it was undeniably delicious kept it on the list. Finnish Bistro: 2264 Como Ave., St. Paul; 651-645-9181; finnishbistro.com One of the few things on Sea Salt’s menu that isn’t seafood is its walnut-cheese burger, and it was so good that I’m including it on this list even though you’ll have to wait until next season to get it. (The Minneapolis Parks restaurant next to Minnehaha Falls closed for the season last weekend.) It’s just a really good, nutty veggie burger (the cheese is inside the patty), topped with lettuce, tomato and onion and served with a side of the restaurant’s super tasty creamy coleslaw. I’m convinced that everything tastes better when eaten overlooking the falls, but who am I to count that against them? Let’s start the countdown until they’re open again. Sea Salt: 4801 Minnehaha Ave. S., Minneapolis; seasaltmpls.com', 'Despite their differing principles, Zlatan Ibrahimovic recently praised Novak Djokovic. While on the surface, these two sports icons may seem like an unlikely duo, their friendship dates back to 2013 and they have always held a mutual respect for each other’s work. One might wonder how Ibrahimovic, the soccer legend, and Djokovic, the men’s tennis world number one, could find common ground. It is true that Ibrahimovic does not agree with the principles that Djokovic adheres to. However, this has not prevented Ibra from recognizing Djokovic’s achievements. Recently the 24x Grand Slam champion attended a UCL match between his home club, Red Star Belgrade, and Young Boys. His friend, Ibrahimovic on the other hand sat in an exclusive interview with renowned television personality Piers Morgan. During the interview, Morgan asked Ibrahimovic about his thoughts on Djokovic as an athlete. The ex-MLS star known for his straightforward nature, did not hold back. He stated, “I think he’s an amazing, amazing example for what he’s doing”. However, the $500 million rich athlete did not shy away from pointing out their differences. He acknowledged, “We have different philosophies. And he has all these things he does to perform. And it and for him doing that is doing an individual sport. I was doing a collective sport”. One notable difference that Ibrahimovic mentioned is Djokovic’s commitment to a vegan lifestyle. “He’s a vegan. He does this, things getting energy from different kinds of things. I’m not 100% in it. I’m opposite,” added the 42-year-old. 1.3k readers Last 30 min October 07, 2023 05:38 pm EDT October 08, 2023 03:52 pm EDT October 09, 2023 09:17 am EDT October 09, 2023 01:14 pm EDT October 09, 2023 08:58 am EDT Get instantly notified of the hottest Tennis stories via Google! Click on Follow Us and Tap the Blue Star. The ex-PSG superstar then gave a look into his ideology. “Those things doesn’t change me. I change my own game,” said Ibrahimovic. “You tell me good luck. I don’t need luck to perform. I decide when to perform good, I am in control to do good or bad”. The Puskas winner then concluded: “That is what I believe in. I don’t need to knock wood three times to go out and it brings me luck”. This strong statement reveals Ibrahimovic’s independent mindset and his ability to excel on his own terms. This is a mindset fans have got to see from the Swedish striker throughout his career. It is this unwavering determination that allows him to boldly proclaim himself as the greatest soccer player of all time. “You Don’t Ask the Young Guys for Respect” – Forced to Join Al Nassr, Cristiano Ronaldo’s Chaotic Spell Detailed by Zlatan Ibrahimovic In soccer, Cristiano Ronaldo and Lionel Messi have dominated the narrative of the GOAT debate for decades. However, in an unprecedented move, Zlatan Ibrahimovic boldly proclaimed himself as the most complete player in history. During his conversation with Piers Morgan, Ibrahimovic was questioned about his position among the all-time greats. Enjoyed Your Read? Let us know how likely you are to recommend EssentiallySports to your friends! FUSSBALL CHAMPIONS LEAGUE SAISON 2014/2015 Vorrunde FC Barcelona Barca – Paris St. Germain 10.12.2014 Lionel Messi (li, Barca) begruesst Zlatan Ibrahimovic (Paris Saint-Germain) am Ball PUBLICATIONxNOTxINxAUTxSUIxITAFootball Champions League Season 2014 2015 Fight FC Barcelona Barca Paris St Germain 10 12 2014 Lionel Messi left Barca welcomes Zlatan Ibrahimovic Paris Saint Germain at Ball PUBLICATIONxNOTxINxAUTxSUIxITA Ibrahimovic confidentially declared, “Just the skill, without winning anything, I think I’m the best. Without joking. I’m the most complete player that ever exits”. This statement exemplifies what sets the retired striker apart from his peers. His unwavering self-assurance has always been one of his greatest strengths. What are your thoughts on Zlatan Ibrahimovic? Let us know in the comments.']}\n"
     ]
    }
   ],
   "source": [
    "# Let's remove empty articles\n",
    "filtered_dataset = reduced_dataset.filter(lambda instance: not instance[\"Text\"] == None)\n",
    "print(filtered_dataset[0:3])"
   ]
  },
  {
   "cell_type": "code",
   "execution_count": 33,
   "metadata": {
    "pycharm": {
     "name": "#%%\n"
    }
   },
   "outputs": [
    {
     "data": {
      "application/vnd.jupyter.widget-view+json": {
       "model_id": "28ae1824ce30459f91ecdb94f104c6b8",
       "version_major": 2,
       "version_minor": 0
      },
      "text/plain": [
       "Filter:   0%|          | 0/95 [00:00<?, ? examples/s]"
      ]
     },
     "metadata": {},
     "output_type": "display_data"
    },
    {
     "name": "stdout",
     "output_type": "stream",
     "text": [
      "URLs with empty articles:\n",
      "['https://tribuneonlineng.com/10-alternative-sources-of-protein/', 'https://torontosun.com/news/world/men-wont-go-vegan-because-its-not-seen-as-masculine-study', 'https://www.healthcanal.com/nutrition/diet/is-vegetable-oil-vegan', 'https://www.healthcanal.com/nutrition/diet/is-white-chocolate-vegan', 'https://www.healthcanal.com/nutrition/diet/is-tahini-vegan', 'https://www.marketscreener.com/quote/stock/CARNIVAL-CORPORATION-PLC-12213/news/Princess-Cruises-Introduces-Expansive-Vegan-Menus-For-Plant-Based-Cruisers-44964714/?utm_medium=RSS&utm_content=20231002', 'https://montreal.ctvnews.ca/a-taste-for-plant-based-foods-is-growing-and-so-is-montreal-s-vegan-festival-1.6584727', 'https://www.jutarnji.hr/dobrahrana/promo/nove-di-go-gotove-mjesavine-idealno-su-rjesenje-za-domaci-kruh-iz-snova-15379427', 'https://www.healthcanal.com/nutrition/diet/is-greek-yogurt-vegan', 'https://www.hellomagazine.com/cuisine/503411/pow-food-dinner-party-review/', 'https://thebusinessjournal.com/a-small-venture-capital-player-becomes-a-symbol-in-the-fight-over-corporate-diversity-policies/?utm_source=rss&utm_medium=rss&utm_campaign=a-small-venture-capital-player-becomes-a-symbol-in-the-fight-over-corporate-diversity-policies', 'https://politics.ie/threads/veganism-is-the-new-black-the-growth-of-the-vegan-movement-in-ireland.208886/?utm_source=rss&utm_medium=rss', 'https://www.healthcanal.com/nutrition/diet/plant-based-diet-meal-plan', 'https://www.healthcanal.com/nutrition/diet/is-margarine-vegan']\n",
      "\n",
      "This should add up:\n",
      "81 14 95\n"
     ]
    }
   ],
   "source": [
    "# Let's keep track of the articles we removed. We might want to investigate what went wrong during crawling. \n",
    "removed = reduced_dataset.filter(lambda instance: instance[\"Text\"] == None)\n",
    "\n",
    "print(\"URLs with empty articles:\")\n",
    "print(removed[\"URL\"])\n",
    "\n",
    "print(\"\\nThis should add up:\" )\n",
    "print(len(filtered_dataset), len(removed), len(reduced_dataset))"
   ]
  },
  {
   "cell_type": "markdown",
   "metadata": {
    "collapsed": false,
    "jupyter": {
     "outputs_hidden": false
    }
   },
   "source": [
    "## 2. Split into train and test\n",
    "\n",
    "For NLP experiment, we want to split our dataset into training and test data. When working with machine learning models, the training data is further split into a training and a development portion. The development data is used for exploring hyperparameters and for finetuning the model. During the development phase, the test data is not touched at all. For many shared tasks, the test data is not even publicly available to avoid overfitting. "
   ]
  },
  {
   "cell_type": "code",
   "execution_count": 35,
   "metadata": {},
   "outputs": [
    {
     "name": "stdout",
     "output_type": "stream",
     "text": [
      "64 17 81\n"
     ]
    }
   ],
   "source": [
    "seed = 5\n",
    "splitted = filtered_dataset.train_test_split(test_size=0.2)\n",
    "train = splitted[\"train\"]\n",
    "test = splitted[\"test\"]\n",
    "print(len(train), len(test), len(filtered_dataset))"
   ]
  },
  {
   "cell_type": "markdown",
   "metadata": {
    "collapsed": false,
    "jupyter": {
     "outputs_hidden": false
    }
   },
   "source": [
    "Take a look at the source code of the method. **Why do we need to set a seed?**"
   ]
  }
 ],
 "metadata": {
  "kernelspec": {
   "display_name": "LaD2023",
   "language": "python",
   "name": "lad2023"
  },
  "language_info": {
   "codemirror_mode": {
    "name": "ipython",
    "version": 3
   },
   "file_extension": ".py",
   "mimetype": "text/x-python",
   "name": "python",
   "nbconvert_exporter": "python",
   "pygments_lexer": "ipython3",
   "version": "3.9.0"
  }
 },
 "nbformat": 4,
 "nbformat_minor": 4
}
