{
 "cells": [
  {
   "cell_type": "markdown",
   "metadata": {},
   "source": [
    "Copyright: Vrije Universiteit Amsterdam, Faculty of Humanities, CLTL"
   ]
  },
  {
   "cell_type": "markdown",
   "metadata": {},
   "source": [
    "# Lab 1.5: Querying Mastodon TODO"
   ]
  },
  {
   "cell_type": "markdown",
   "metadata": {},
   "source": [
    "In this notebook, we are going to query Twitter streams using the library *tweepy*. Take a look at its [documentation](https://github.com/tweepy/tweepy/tree/master/docs)\n",
    "\n",
    "Tweepy allows you to access Twitter using credentials and returns a so-called Cursor object. From the Cursor object, you can access the twitter data in e.g. JSON format. Documentation on the Twitter data objects can be found [here](https://developer.twitter.com/en/docs)\n",
    "\n",
    "\n",
    "Make sure you installed the package and obtained the Twitter credentials before your start using the API.\n",
    "\n",
    "https://www.earthdatascience.org/courses/use-data-open-source-python/intro-to-apis/twitter-data-in-python/"
   ]
  },
  {
   "cell_type": "markdown",
   "metadata": {},
   "source": [
    "## 1. Setting up your twitter credentials to use the API"
   ]
  },
  {
   "cell_type": "markdown",
   "metadata": {},
   "source": [
    "First of all you need to have a standard Twitter account. It is easy to create a dummy account and you do not have to use your own name. It is okay, if you do not want to register for a Twitter account. In this case, you cannot test or modify the code. You need to make sure that you still understand how this works.\n",
    "\n",
    "1. Log in to your twitter account and go to developer.twitter.com\n",
    "2. Click on “Apply” in the top right and then on “Apply for a developer account”\n",
    "3. Choose “Academic”, then “Student” and “Get started” and fill in the required fields.\n",
    "4. Use the following text block for all text fields and mark questions 1 and 3 “yes“ and 2 and 4 \"no\":\n",
    "`Text Mining course at the VU university master program of the faculty of humanities. We analyse tweets for extracting data and information and obtaining statistics on language use. Analyses will be described in a password-protected blog. I am a student in this course\"`\n",
    "5. Read the Developer agreement and policy and agree (if you agree). Confirm the email and obtain the credentials.\n",
    "\n",
    "Set the constants API_KEY and API_Secret to your values:"
   ]
  },
  {
   "cell_type": "code",
   "execution_count": 1,
   "metadata": {},
   "outputs": [],
   "source": [
    "import tweepy\n",
    "# The API-Key and the API-secret were displayed to you after you registered\n",
    "API_KEY = 'YFYfgiHXjWNSHMsijDotdJOYe'\n",
    "API_SECRET = 'FFiTBELfzlDQgMsMLh3OqUg9agvd1mXPDJRcWOlIJ4fAXsB9r2'"
   ]
  },
  {
   "cell_type": "markdown",
   "metadata": {},
   "source": [
    "6. Go to the developer portal, then Project and Apps, and create a Standalone App. Fill in a name for your app, it can be anything, e.g. ‘YOURNAME_Lab1”. Copy the access token and secret and store it in a file.\n"
   ]
  },
  {
   "cell_type": "code",
   "execution_count": 2,
   "metadata": {},
   "outputs": [],
   "source": [
    "# The Access token and the Access secret were displayed when you clicked on \"generate\"\n",
    "ACCESS_TOKEN = '1303609046247841792-kQwdxiL6MGaRrNI30JfcVr86aaUKp8'\n",
    "ACCESS_SECRET = 'R5bnSex3UsrPi7XcD00lj7WpPwFS6ai35VpURBXNC0v4V'"
   ]
  },
  {
   "cell_type": "markdown",
   "metadata": {},
   "source": [
    "# 2. Querying the Twitter API"
   ]
  },
  {
   "cell_type": "markdown",
   "metadata": {},
   "source": [
    "We are using Tweepy to crawl tweets, but it is important to know that it has some limitations that affect reproducibility. The Twitter API is not exhaustive, it simply provides a sample and the documentation does not provide much detail on how this sample is determined. https://stackoverflow.com/questions/32445553/tweepy-not-finding-results-that-should-be-there"
   ]
  },
  {
   "cell_type": "markdown",
   "metadata": {},
   "source": [
    "The Twitter API returns the results as a JSON object. You learned how to use JSON objects in [Chapter 17](https://github.com/cltl/python-for-text-analysis/blob/master/Chapters/Chapter%2017%20-%20%20Data%20formats%20II%20(JSON).ipynb) of the Python course. The tweepy library makes it easier to access these JSON objects. \n",
    "\n",
    "The code below is used to set up the connection: "
   ]
  },
  {
   "cell_type": "code",
   "execution_count": 3,
   "metadata": {},
   "outputs": [],
   "source": [
    "import tweepy\n",
    "\n",
    "# Setup the authentication with your Twitter credentials:\n",
    "auth = tweepy.OAuthHandler(API_KEY, API_SECRET)\n",
    "auth.set_access_token(ACCESS_TOKEN, ACCESS_SECRET)\n",
    "\n",
    "# Create the api to connect to Twitter using your authentication \n",
    "api = tweepy.API(auth, wait_on_rate_limit=True)"
   ]
  },
  {
   "cell_type": "markdown",
   "metadata": {},
   "source": [
    "We set a few variables to limit our search. Note that we can include hashtags and words in our keywords and combine them using Boolean operators such as OR and AND. Check the [Twitter API documentation](https://developer.twitter.com/en/docs/twitter-api/v1/rules-and-filtering/overview/standard-operators) for more details on how to customize queries. \n",
    "\n",
    "**Play around with the parameters and understand how the queries are composed.**"
   ]
  },
  {
   "cell_type": "code",
   "execution_count": 5,
   "metadata": {},
   "outputs": [
    {
     "name": "stdout",
     "output_type": "stream",
     "text": [
      "0\n",
      "User:LiberiaAnimal\n",
      "Tweet:Our #schoolbasedgarden program not only improve children`s\n",
      "nutrition, but also improve their behaviors and attitudes toward the environment and other creatures that share the Earth with us. To make a donation, visit https://t.co/r6A9R1DB7q\n",
      "#schoolgardening #schoolgarden #veganism https://t.co/KH3bLyA07Z\n",
      "\n",
      "1\n",
      "User:Vegan_Tubers\n",
      "Tweet:@notice_until As a person who is sympathetic towards #Communism, I’ll say this: ‘Please make more of an effort to study the ENTIRETY of the nuances of this #Veganism vs. #Carnism debate! That’s dialectical! If you don’t, then you’ll sever the trust bond between us, and endanger #Children!\n",
      "\n",
      "2\n",
      "User:EssentialsfromN\n",
      "Tweet:If you are looking for a fertile future with lots of children, the gym is the place to go. Studies conducted by Harvard University researchers showed a higher sperm level among males who exercised regularly.\n",
      "-\n",
      "-\n",
      "-\n",
      "-\n",
      "-\n",
      "-\n",
      "-\n",
      "#HealthandWellness #EatWell #Vitamins #Supplements #Vegan https://t.co/vGjWSUbMVO\n",
      "\n",
      "3\n",
      "User:plant_made\n",
      "Tweet:Milk has been a part of children diet for many years, but a lot of children don't like the taste, smell of milk or they are simply lactose intolerant\n",
      "At Plantmade, we bring to you vegan and plant-based alternatives for milk like Coconut Milk and Soy Milk.\n",
      "\n",
      "#vegan #plantbased https://t.co/1ppUMtY2OJ\n",
      "\n",
      "4\n",
      "User:SafferTheGaffer\n",
      "Tweet:On this day. At this moment. We honour the souls, both human and animal, that gave their lives so we might have a better tomorrow. \n",
      "\n",
      "Let’s continue their legacy by doing what we can in the modern world to save the tomorrow of our children  #COP26 #Vegan https://t.co/J0RGegoyLf\n",
      "\n",
      "5\n",
      "User:olisgang\n",
      "Tweet:My love for animals is unconditional, those I have rescued are my family, I love them like my children.\n",
      "\n",
      "I am vegan for the animals\n",
      "\n",
      "#Vegan #animallovers https://t.co/vCv5wvyUx3\n",
      "\n",
      "6\n",
      "User:SammaFarm\n",
      "Tweet:More than two-thirds of children classified #chickens, #cows, &amp; #pigs as “NOT OK to eat.”\n",
      "When asked if foods like hamburgers were plant or animal-based, almost half got it wrong.  #Vegan https://t.co/QLw0aLtY6g\n",
      "\n",
      "7\n",
      "User:imaJJami\n",
      "Tweet:Need to bring a vegan gluten-free dinner to a family with small children. Anybody have some kid-friendly recipes? Things your kids like? #glutenfree #vegan\n",
      "\n",
      "8\n",
      "User:PlantBasedBrief\n",
      "Tweet:Veerle Vrindts at @proveg_int shares her 5 best tips on how to get children to eat more plant based foods.\n",
      "\n",
      "#vegan #plantbased #proveg #proveginternational #plantbasedkids #vegankids #bentobox #cookingwithkids #gardening #gardeningwithkids #sprouts https://t.co/rfqUrsoMK2\n",
      "\n",
      "9\n",
      "User:WilcoNannies\n",
      "Tweet:It is World Vegan Month!  Try introducing meatless meals to your kids.  It's easier than you think!  How about spaghetti with marinara sauce, side salad and oreos for dessert?  All vegan!\n",
      "\n",
      "#WorldVeganDay #vegan #mom #momlife #Children #nanny #babysitter #austin #Texas\n",
      "\n"
     ]
    }
   ],
   "source": [
    "#We define the keywords in our target language\n",
    "language = \"en\"\n",
    "keywords = \"(#veganism OR #vegan) AND (children)\"\n",
    "\n",
    "# Optional: we can define a filter, for example, to ignore retweets\n",
    "filter = \"-filter:retweets\"\n",
    "\n",
    "query = keywords + filter\n",
    "\n",
    "# # Optional: Limit the number of tweets  \n",
    "count = 10\n",
    "\n",
    "# Request the tweets\n",
    "tweet_iterator = api.search_tweets(q=query,lang=language,count=count, tweet_mode=\"extended\")\n",
    "\n",
    "# We save the tweets as a list, so that we can access them later. \n",
    "tweets = list(tweet_iterator)   \n",
    "\n",
    "for i, tweet in enumerate(tweets): \n",
    "    print(i)\n",
    "    print(\"User:\" + tweet.user.screen_name)\n",
    "    print(\"Tweet:\" + tweet.full_text)\n",
    "    print()"
   ]
  },
  {
   "cell_type": "markdown",
   "metadata": {},
   "source": [
    "# 3. Examining the attributes\n",
    "\n",
    "In the above code, we only check the username and the text of the tweet. The result that the API returns contains much more information that might be interesting for your analyses. Let's take a look at the attributes of the first tweet in our result list. \n",
    "\n",
    "**Discuss which of these properties would be interesting for your analysis.**"
   ]
  },
  {
   "cell_type": "code",
   "execution_count": 5,
   "metadata": {},
   "outputs": [
    {
     "data": {
      "text/plain": [
       "{'_api': <tweepy.api.API at 0x7ffc2b8cf1c0>,\n",
       " '_json': {'created_at': 'Thu Nov 04 11:10:00 +0000 2021',\n",
       "  'id': 1456217158141333504,\n",
       "  'id_str': '1456217158141333504',\n",
       "  'text': 'Children eating plant protein have late puberty\\nChildren eating animal protein have early puberty\\nEarly puberty occ… https://t.co/FUyrRoINbW',\n",
       "  'truncated': True,\n",
       "  'entities': {'hashtags': [],\n",
       "   'symbols': [],\n",
       "   'user_mentions': [],\n",
       "   'urls': [{'url': 'https://t.co/FUyrRoINbW',\n",
       "     'expanded_url': 'https://twitter.com/i/web/status/1456217158141333504',\n",
       "     'display_url': 'twitter.com/i/web/status/1…',\n",
       "     'indices': [117, 140]}]},\n",
       "  'metadata': {'iso_language_code': 'en', 'result_type': 'recent'},\n",
       "  'source': '<a href=\"https://mobile.twitter.com\" rel=\"nofollow\">Twitter Web App</a>',\n",
       "  'in_reply_to_status_id': None,\n",
       "  'in_reply_to_status_id_str': None,\n",
       "  'in_reply_to_user_id': None,\n",
       "  'in_reply_to_user_id_str': None,\n",
       "  'in_reply_to_screen_name': None,\n",
       "  'user': {'id': 1331407557647187968,\n",
       "   'id_str': '1331407557647187968',\n",
       "   'name': '穀食.com（テレパシー情報屋）',\n",
       "   'screen_name': 'kokushokucom',\n",
       "   'location': '',\n",
       "   'description': '穀食主義／グラリアンと完全穀食主義／グラーンは完全菜食主義／ヴィーガンの次に始める食事法です。テレパシーも得意なので色々面白い情報を出していきます。アニメファンやアニメ関係者は私に少しも近づいてこないでください。DMやリプライなど見ないのでブログかメールにお願いします。フォロバできないのでフォローしないで。',\n",
       "   'url': 'https://t.co/pLboBjYbIM',\n",
       "   'entities': {'url': {'urls': [{'url': 'https://t.co/pLboBjYbIM',\n",
       "       'expanded_url': 'https://kokushoku.com/',\n",
       "       'display_url': 'kokushoku.com',\n",
       "       'indices': [0, 23]}]},\n",
       "    'description': {'urls': []}},\n",
       "   'protected': False,\n",
       "   'followers_count': 282,\n",
       "   'friends_count': 901,\n",
       "   'listed_count': 0,\n",
       "   'created_at': 'Wed Nov 25 01:41:03 +0000 2020',\n",
       "   'favourites_count': 3780,\n",
       "   'utc_offset': None,\n",
       "   'time_zone': None,\n",
       "   'geo_enabled': False,\n",
       "   'verified': False,\n",
       "   'statuses_count': 20929,\n",
       "   'lang': None,\n",
       "   'contributors_enabled': False,\n",
       "   'is_translator': False,\n",
       "   'is_translation_enabled': False,\n",
       "   'profile_background_color': 'F5F8FA',\n",
       "   'profile_background_image_url': None,\n",
       "   'profile_background_image_url_https': None,\n",
       "   'profile_background_tile': False,\n",
       "   'profile_image_url': 'http://pbs.twimg.com/profile_images/1335439799230951428/AR6k1h1C_normal.jpg',\n",
       "   'profile_image_url_https': 'https://pbs.twimg.com/profile_images/1335439799230951428/AR6k1h1C_normal.jpg',\n",
       "   'profile_banner_url': 'https://pbs.twimg.com/profile_banners/1331407557647187968/1609665727',\n",
       "   'profile_link_color': '1DA1F2',\n",
       "   'profile_sidebar_border_color': 'C0DEED',\n",
       "   'profile_sidebar_fill_color': 'DDEEF6',\n",
       "   'profile_text_color': '333333',\n",
       "   'profile_use_background_image': True,\n",
       "   'has_extended_profile': True,\n",
       "   'default_profile': True,\n",
       "   'default_profile_image': False,\n",
       "   'following': False,\n",
       "   'follow_request_sent': False,\n",
       "   'notifications': False,\n",
       "   'translator_type': 'none',\n",
       "   'withheld_in_countries': []},\n",
       "  'geo': None,\n",
       "  'coordinates': None,\n",
       "  'place': None,\n",
       "  'contributors': None,\n",
       "  'is_quote_status': False,\n",
       "  'retweet_count': 0,\n",
       "  'favorite_count': 0,\n",
       "  'favorited': False,\n",
       "  'retweeted': False,\n",
       "  'possibly_sensitive': False,\n",
       "  'lang': 'en'},\n",
       " 'created_at': datetime.datetime(2021, 11, 4, 11, 10, tzinfo=datetime.timezone.utc),\n",
       " 'id': 1456217158141333504,\n",
       " 'id_str': '1456217158141333504',\n",
       " 'text': 'Children eating plant protein have late puberty\\nChildren eating animal protein have early puberty\\nEarly puberty occ… https://t.co/FUyrRoINbW',\n",
       " 'truncated': True,\n",
       " 'entities': {'hashtags': [],\n",
       "  'symbols': [],\n",
       "  'user_mentions': [],\n",
       "  'urls': [{'url': 'https://t.co/FUyrRoINbW',\n",
       "    'expanded_url': 'https://twitter.com/i/web/status/1456217158141333504',\n",
       "    'display_url': 'twitter.com/i/web/status/1…',\n",
       "    'indices': [117, 140]}]},\n",
       " 'metadata': {'iso_language_code': 'en', 'result_type': 'recent'},\n",
       " 'source': 'Twitter Web App',\n",
       " 'source_url': 'https://mobile.twitter.com',\n",
       " 'in_reply_to_status_id': None,\n",
       " 'in_reply_to_status_id_str': None,\n",
       " 'in_reply_to_user_id': None,\n",
       " 'in_reply_to_user_id_str': None,\n",
       " 'in_reply_to_screen_name': None,\n",
       " 'author': User(_api=<tweepy.api.API object at 0x7ffc2b8cf1c0>, _json={'id': 1331407557647187968, 'id_str': '1331407557647187968', 'name': '穀食.com（テレパシー情報屋）', 'screen_name': 'kokushokucom', 'location': '', 'description': '穀食主義／グラリアンと完全穀食主義／グラーンは完全菜食主義／ヴィーガンの次に始める食事法です。テレパシーも得意なので色々面白い情報を出していきます。アニメファンやアニメ関係者は私に少しも近づいてこないでください。DMやリプライなど見ないのでブログかメールにお願いします。フォロバできないのでフォローしないで。', 'url': 'https://t.co/pLboBjYbIM', 'entities': {'url': {'urls': [{'url': 'https://t.co/pLboBjYbIM', 'expanded_url': 'https://kokushoku.com/', 'display_url': 'kokushoku.com', 'indices': [0, 23]}]}, 'description': {'urls': []}}, 'protected': False, 'followers_count': 282, 'friends_count': 901, 'listed_count': 0, 'created_at': 'Wed Nov 25 01:41:03 +0000 2020', 'favourites_count': 3780, 'utc_offset': None, 'time_zone': None, 'geo_enabled': False, 'verified': False, 'statuses_count': 20929, 'lang': None, 'contributors_enabled': False, 'is_translator': False, 'is_translation_enabled': False, 'profile_background_color': 'F5F8FA', 'profile_background_image_url': None, 'profile_background_image_url_https': None, 'profile_background_tile': False, 'profile_image_url': 'http://pbs.twimg.com/profile_images/1335439799230951428/AR6k1h1C_normal.jpg', 'profile_image_url_https': 'https://pbs.twimg.com/profile_images/1335439799230951428/AR6k1h1C_normal.jpg', 'profile_banner_url': 'https://pbs.twimg.com/profile_banners/1331407557647187968/1609665727', 'profile_link_color': '1DA1F2', 'profile_sidebar_border_color': 'C0DEED', 'profile_sidebar_fill_color': 'DDEEF6', 'profile_text_color': '333333', 'profile_use_background_image': True, 'has_extended_profile': True, 'default_profile': True, 'default_profile_image': False, 'following': False, 'follow_request_sent': False, 'notifications': False, 'translator_type': 'none', 'withheld_in_countries': []}, id=1331407557647187968, id_str='1331407557647187968', name='穀食.com（テレパシー情報屋）', screen_name='kokushokucom', location='', description='穀食主義／グラリアンと完全穀食主義／グラーンは完全菜食主義／ヴィーガンの次に始める食事法です。テレパシーも得意なので色々面白い情報を出していきます。アニメファンやアニメ関係者は私に少しも近づいてこないでください。DMやリプライなど見ないのでブログかメールにお願いします。フォロバできないのでフォローしないで。', url='https://t.co/pLboBjYbIM', entities={'url': {'urls': [{'url': 'https://t.co/pLboBjYbIM', 'expanded_url': 'https://kokushoku.com/', 'display_url': 'kokushoku.com', 'indices': [0, 23]}]}, 'description': {'urls': []}}, protected=False, followers_count=282, friends_count=901, listed_count=0, created_at=datetime.datetime(2020, 11, 25, 1, 41, 3, tzinfo=datetime.timezone.utc), favourites_count=3780, utc_offset=None, time_zone=None, geo_enabled=False, verified=False, statuses_count=20929, lang=None, contributors_enabled=False, is_translator=False, is_translation_enabled=False, profile_background_color='F5F8FA', profile_background_image_url=None, profile_background_image_url_https=None, profile_background_tile=False, profile_image_url='http://pbs.twimg.com/profile_images/1335439799230951428/AR6k1h1C_normal.jpg', profile_image_url_https='https://pbs.twimg.com/profile_images/1335439799230951428/AR6k1h1C_normal.jpg', profile_banner_url='https://pbs.twimg.com/profile_banners/1331407557647187968/1609665727', profile_link_color='1DA1F2', profile_sidebar_border_color='C0DEED', profile_sidebar_fill_color='DDEEF6', profile_text_color='333333', profile_use_background_image=True, has_extended_profile=True, default_profile=True, default_profile_image=False, following=False, follow_request_sent=False, notifications=False, translator_type='none', withheld_in_countries=[]),\n",
       " 'user': User(_api=<tweepy.api.API object at 0x7ffc2b8cf1c0>, _json={'id': 1331407557647187968, 'id_str': '1331407557647187968', 'name': '穀食.com（テレパシー情報屋）', 'screen_name': 'kokushokucom', 'location': '', 'description': '穀食主義／グラリアンと完全穀食主義／グラーンは完全菜食主義／ヴィーガンの次に始める食事法です。テレパシーも得意なので色々面白い情報を出していきます。アニメファンやアニメ関係者は私に少しも近づいてこないでください。DMやリプライなど見ないのでブログかメールにお願いします。フォロバできないのでフォローしないで。', 'url': 'https://t.co/pLboBjYbIM', 'entities': {'url': {'urls': [{'url': 'https://t.co/pLboBjYbIM', 'expanded_url': 'https://kokushoku.com/', 'display_url': 'kokushoku.com', 'indices': [0, 23]}]}, 'description': {'urls': []}}, 'protected': False, 'followers_count': 282, 'friends_count': 901, 'listed_count': 0, 'created_at': 'Wed Nov 25 01:41:03 +0000 2020', 'favourites_count': 3780, 'utc_offset': None, 'time_zone': None, 'geo_enabled': False, 'verified': False, 'statuses_count': 20929, 'lang': None, 'contributors_enabled': False, 'is_translator': False, 'is_translation_enabled': False, 'profile_background_color': 'F5F8FA', 'profile_background_image_url': None, 'profile_background_image_url_https': None, 'profile_background_tile': False, 'profile_image_url': 'http://pbs.twimg.com/profile_images/1335439799230951428/AR6k1h1C_normal.jpg', 'profile_image_url_https': 'https://pbs.twimg.com/profile_images/1335439799230951428/AR6k1h1C_normal.jpg', 'profile_banner_url': 'https://pbs.twimg.com/profile_banners/1331407557647187968/1609665727', 'profile_link_color': '1DA1F2', 'profile_sidebar_border_color': 'C0DEED', 'profile_sidebar_fill_color': 'DDEEF6', 'profile_text_color': '333333', 'profile_use_background_image': True, 'has_extended_profile': True, 'default_profile': True, 'default_profile_image': False, 'following': False, 'follow_request_sent': False, 'notifications': False, 'translator_type': 'none', 'withheld_in_countries': []}, id=1331407557647187968, id_str='1331407557647187968', name='穀食.com（テレパシー情報屋）', screen_name='kokushokucom', location='', description='穀食主義／グラリアンと完全穀食主義／グラーンは完全菜食主義／ヴィーガンの次に始める食事法です。テレパシーも得意なので色々面白い情報を出していきます。アニメファンやアニメ関係者は私に少しも近づいてこないでください。DMやリプライなど見ないのでブログかメールにお願いします。フォロバできないのでフォローしないで。', url='https://t.co/pLboBjYbIM', entities={'url': {'urls': [{'url': 'https://t.co/pLboBjYbIM', 'expanded_url': 'https://kokushoku.com/', 'display_url': 'kokushoku.com', 'indices': [0, 23]}]}, 'description': {'urls': []}}, protected=False, followers_count=282, friends_count=901, listed_count=0, created_at=datetime.datetime(2020, 11, 25, 1, 41, 3, tzinfo=datetime.timezone.utc), favourites_count=3780, utc_offset=None, time_zone=None, geo_enabled=False, verified=False, statuses_count=20929, lang=None, contributors_enabled=False, is_translator=False, is_translation_enabled=False, profile_background_color='F5F8FA', profile_background_image_url=None, profile_background_image_url_https=None, profile_background_tile=False, profile_image_url='http://pbs.twimg.com/profile_images/1335439799230951428/AR6k1h1C_normal.jpg', profile_image_url_https='https://pbs.twimg.com/profile_images/1335439799230951428/AR6k1h1C_normal.jpg', profile_banner_url='https://pbs.twimg.com/profile_banners/1331407557647187968/1609665727', profile_link_color='1DA1F2', profile_sidebar_border_color='C0DEED', profile_sidebar_fill_color='DDEEF6', profile_text_color='333333', profile_use_background_image=True, has_extended_profile=True, default_profile=True, default_profile_image=False, following=False, follow_request_sent=False, notifications=False, translator_type='none', withheld_in_countries=[]),\n",
       " 'geo': None,\n",
       " 'coordinates': None,\n",
       " 'place': None,\n",
       " 'contributors': None,\n",
       " 'is_quote_status': False,\n",
       " 'retweet_count': 0,\n",
       " 'favorite_count': 0,\n",
       " 'favorited': False,\n",
       " 'retweeted': False,\n",
       " 'possibly_sensitive': False,\n",
       " 'lang': 'en'}"
      ]
     },
     "execution_count": 5,
     "metadata": {},
     "output_type": "execute_result"
    }
   ],
   "source": [
    "# Show all attributes of a tweet that you can access\n",
    "tweets[0].__dict__"
   ]
  },
  {
   "cell_type": "code",
   "execution_count": 6,
   "metadata": {},
   "outputs": [
    {
     "name": "stdout",
     "output_type": "stream",
     "text": [
      "User(_api=<tweepy.api.API object at 0x7ffc2b8cf1c0>, _json={'id': 1331407557647187968, 'id_str': '1331407557647187968', 'name': '穀食.com（テレパシー情報屋）', 'screen_name': 'kokushokucom', 'location': '', 'description': '穀食主義／グラリアンと完全穀食主義／グラーンは完全菜食主義／ヴィーガンの次に始める食事法です。テレパシーも得意なので色々面白い情報を出していきます。アニメファンやアニメ関係者は私に少しも近づいてこないでください。DMやリプライなど見ないのでブログかメールにお願いします。フォロバできないのでフォローしないで。', 'url': 'https://t.co/pLboBjYbIM', 'entities': {'url': {'urls': [{'url': 'https://t.co/pLboBjYbIM', 'expanded_url': 'https://kokushoku.com/', 'display_url': 'kokushoku.com', 'indices': [0, 23]}]}, 'description': {'urls': []}}, 'protected': False, 'followers_count': 282, 'friends_count': 901, 'listed_count': 0, 'created_at': 'Wed Nov 25 01:41:03 +0000 2020', 'favourites_count': 3780, 'utc_offset': None, 'time_zone': None, 'geo_enabled': False, 'verified': False, 'statuses_count': 20929, 'lang': None, 'contributors_enabled': False, 'is_translator': False, 'is_translation_enabled': False, 'profile_background_color': 'F5F8FA', 'profile_background_image_url': None, 'profile_background_image_url_https': None, 'profile_background_tile': False, 'profile_image_url': 'http://pbs.twimg.com/profile_images/1335439799230951428/AR6k1h1C_normal.jpg', 'profile_image_url_https': 'https://pbs.twimg.com/profile_images/1335439799230951428/AR6k1h1C_normal.jpg', 'profile_banner_url': 'https://pbs.twimg.com/profile_banners/1331407557647187968/1609665727', 'profile_link_color': '1DA1F2', 'profile_sidebar_border_color': 'C0DEED', 'profile_sidebar_fill_color': 'DDEEF6', 'profile_text_color': '333333', 'profile_use_background_image': True, 'has_extended_profile': True, 'default_profile': True, 'default_profile_image': False, 'following': False, 'follow_request_sent': False, 'notifications': False, 'translator_type': 'none', 'withheld_in_countries': []}, id=1331407557647187968, id_str='1331407557647187968', name='穀食.com（テレパシー情報屋）', screen_name='kokushokucom', location='', description='穀食主義／グラリアンと完全穀食主義／グラーンは完全菜食主義／ヴィーガンの次に始める食事法です。テレパシーも得意なので色々面白い情報を出していきます。アニメファンやアニメ関係者は私に少しも近づいてこないでください。DMやリプライなど見ないのでブログかメールにお願いします。フォロバできないのでフォローしないで。', url='https://t.co/pLboBjYbIM', entities={'url': {'urls': [{'url': 'https://t.co/pLboBjYbIM', 'expanded_url': 'https://kokushoku.com/', 'display_url': 'kokushoku.com', 'indices': [0, 23]}]}, 'description': {'urls': []}}, protected=False, followers_count=282, friends_count=901, listed_count=0, created_at=datetime.datetime(2020, 11, 25, 1, 41, 3, tzinfo=datetime.timezone.utc), favourites_count=3780, utc_offset=None, time_zone=None, geo_enabled=False, verified=False, statuses_count=20929, lang=None, contributors_enabled=False, is_translator=False, is_translation_enabled=False, profile_background_color='F5F8FA', profile_background_image_url=None, profile_background_image_url_https=None, profile_background_tile=False, profile_image_url='http://pbs.twimg.com/profile_images/1335439799230951428/AR6k1h1C_normal.jpg', profile_image_url_https='https://pbs.twimg.com/profile_images/1335439799230951428/AR6k1h1C_normal.jpg', profile_banner_url='https://pbs.twimg.com/profile_banners/1331407557647187968/1609665727', profile_link_color='1DA1F2', profile_sidebar_border_color='C0DEED', profile_sidebar_fill_color='DDEEF6', profile_text_color='333333', profile_use_background_image=True, has_extended_profile=True, default_profile=True, default_profile_image=False, following=False, follow_request_sent=False, notifications=False, translator_type='none', withheld_in_countries=[])\n"
     ]
    }
   ],
   "source": [
    "# Show all attributes of the user who wrote the tweet\n",
    "print(tweets[0].user)"
   ]
  },
  {
   "cell_type": "markdown",
   "metadata": {},
   "source": [
    "# 3. Saving the results"
   ]
  },
  {
   "cell_type": "markdown",
   "metadata": {},
   "source": [
    "We have two options for saving the results. \n",
    "1. We can select specific attributes and save them as a tsv-file. \n",
    "2. If we do not want to decide yet which attributes we need, we can simply dump the whole JSON result to a file and process it later. \n",
    "\n",
    "**Make sure that you understand the code below. Open the result files in an editor and compare the differences.** "
   ]
  },
  {
   "cell_type": "code",
   "execution_count": 7,
   "metadata": {},
   "outputs": [],
   "source": [
    "import json\n",
    "# Collect the results\n",
    "tweets_as_json =[]\n",
    "tweets_as_text =[]\n",
    "\n",
    "for tweet in tweets: \n",
    "    \n",
    "    # Option 1: only keep selected attributes\n",
    "    text = tweet.text.replace(\"\\n\", \" \")\n",
    "    keep = str(tweet.created_at) + \"\\t\" + tweet.user.screen_name + \"\\t\" + text\n",
    "    tweets_as_text.append(keep)  \n",
    "    \n",
    "    # Option 2: keep everything and process later\n",
    "    tweets_as_json.append(tweet._json)\n",
    "    \n",
    "# Write them to a file\n",
    "csv_file = \"../results/twitter_search_results/results_veganism.csv\"\n",
    "json_file = \"../results/twitter_search_results/results_veganism.json\"\n",
    "\n",
    "with open(csv_file, 'w',encoding=\"utf-8\") as outfile:\n",
    "    csv_header = \"Created at\\tUser\\tText\\n\"\n",
    "    outfile.write(csv_header)\n",
    "    outfile.write(\"\\n\".join(tweets_as_text))\n",
    "\n",
    "with open(json_file, 'w') as outfile:\n",
    "    json.dump(tweets_as_json, outfile)"
   ]
  }
 ],
 "metadata": {
  "kernelspec": {
   "display_name": "LaDKernel",
   "language": "python",
   "name": "ladkernel"
  },
  "language_info": {
   "codemirror_mode": {
    "name": "ipython",
    "version": 3
   },
   "file_extension": ".py",
   "mimetype": "text/x-python",
   "name": "python",
   "nbconvert_exporter": "python",
   "pygments_lexer": "ipython3",
   "version": "3.12.0"
  }
 },
 "nbformat": 4,
 "nbformat_minor": 4
}