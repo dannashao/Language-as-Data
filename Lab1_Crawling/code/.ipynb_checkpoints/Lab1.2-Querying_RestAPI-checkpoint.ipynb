{
 "cells": [
  {
   "cell_type": "markdown",
   "metadata": {},
   "source": [
    "Copyright: Vrije Universiteit Amsterdam, Faculty of Humanities, CLTL"
   ]
  },
  {
   "cell_type": "markdown",
   "metadata": {},
   "source": [
    "# Lab 1.2: Querying a REST API"
   ]
  },
  {
   "cell_type": "markdown",
   "metadata": {},
   "source": [
    "News articles are a powerful resource to analyze current trends and events. In this Lab, we will extract Dutch news articles from nos.nl.\n",
    "\n",
    "**Visit https://nos.nl/zoeken/ and have a look at the search utility.**\n",
    "\n",
    "It provides access to a database. Instead of searching the database in the browser, we can also access it using code through a so-called REST API. REST stands for REpresentational State Transfer and makes it possible to query information from a server. "
   ]
  },
  {
   "cell_type": "markdown",
   "metadata": {},
   "source": [
    "## 1. Querying keywords"
   ]
  },
  {
   "cell_type": "markdown",
   "metadata": {},
   "source": [
    "We want to create a dataset that contains articles related to a specific topic. In order to find these articles, we need to determine good keywords for the topic. In this example, we use the keyword \"veganisme\".\n",
    "**Make sure to test several keywords for your topic and inspect the quality of the results.**  \n",
    "\n",
    "Instead of manually copying all search results into files, we want to automate the task. We create a URL by appending the keyword to the search URL of NOS. Note that other websites can use a different syntax. It helps to first test the search interface manually to understand how searches are specified. "
   ]
  },
  {
   "cell_type": "code",
   "execution_count": 35,
   "metadata": {
    "scrolled": true
   },
   "outputs": [
    {
     "name": "stdout",
     "output_type": "stream",
     "text": [
      "The search request URL: https://nos.nl/zoeken/?q=veganisme\n",
      "/artikel/2486980-zevende-nieuwe-speler-voor-ajax-rechtsback-gaaei-komt-over-van-viborg\n",
      "/artikel/2487558-ajax-zonder-aanwinsten-sutalo-en-akpom-naar-loedogorets-voor-play-offs\n",
      "/liveblog/2491817-gestaakt-duel-uitspelen-dit-zijn-de-regels-yesilgoz-en-halsema-eisen-actie-van-knvb-en-clubs\n",
      "/artikel/2491669-klassieker-ajax-feyenoord-0-3-in-tweede-helft-gestaakt-na-vuurwerk\n",
      "/artikel/2488808-ajax-heeft-met-mannsverk-en-sosa-elfde-en-twaalfde-zomerse-aankoop-binnen\n",
      "/artikel/2491772-tijdlijn-gitzwarte-dag-hoe-24-september-dieptepunt-in-ajax-clubhistorie-werd\n",
      "/artikel/2488534-ajax-betaalt-opnieuw-miljoenen-en-neemt-spits-mikautadze-over-van-metz\n",
      "/artikel/2489024-de-twaalf-van-mislintat-hoe-ziet-ajax-eruit-na-de-totale-metamorfose\n",
      "/artikel/2487583-ajax-koopt-argentijnse-linksback-avila-komt-voor-12-5-miljoen-over-van-antwerp\n",
      "/artikel/2491405-steijn-strijdbaar-naar-feyenoord-zij-zijn-kampioen-maar-wij-zijn-ajax\n",
      "/artikel/2489062-steijn-moet-nog-flink-gaan-puzzelen-na-nieuw-gelijkspel-ajax-ditmaal-in-sittard\n",
      "/liveblog/2491632-knvb-over-gestaakte-klassieker-afschuwelijk-psv-en-az-met-volle-buit-bovenaan-eredivisie\n",
      "/artikel/2488904-de-rookwolken-zijn-opgetrokken-het-transferoverzicht-van-de-eredivisieclubs\n",
      "/liveblog/2492002-fc-twente-drukt-vitesse-verder-in-de-problemen-psv-blijft-koploper-na-makkelijke-zege\n",
      "/liveblog/2491320-ajax-blijft-kwetsbaar-maar-pakt-punt-tegen-marseille-historische-afgang-az-in-mostar\n",
      "/liveblog/2490777-az-te-sterk-voor-sparta-ajax-doet-aangifte-na-racistisch-incident-na-twente-uit\n",
      "/liveblog/2492383-rkc-keeper-vaessen-bij-kennis-na-harde-botsing-doelman-naar-ziekenhuis-voor-scans\n",
      "/liveblog/2487848-jansen-rekent-op-hatzidiakos-en-pavlidis-in-return-kudus-in-voetsporen-haller-en-litmanen\n",
      "/liveblog/2489030-simpele-zeges-feyenoord-az-en-fc-twente-puntenverlies-ajax\n",
      "/liveblog/2493322-pavlidis-is-acht-uit-acht-evenaart-record-blik-gaat-op-oranje-maar-niet-bij-clasie\n"
     ]
    }
   ],
   "source": [
    "from util_html import *\n",
    "\n",
    "keyword=\"veganisme\"\n",
    "url = \"https://nos.nl/zoeken/?q=\" + keyword\n",
    "\n",
    "print('The search request URL:', url)\n",
    "\n",
    "parser_content= url_to_html(url)\n",
    "\n",
    "# The class for the search results has a weird name\n",
    "# You can find it out when you look at the HTML source in your web browser\n",
    "search_results = parser_content.find_all(\"a\", {\"class\":\"sc-3bf07e7a-4 cyMYml\"})\n",
    "\n",
    "# For comparison, print the full output, scroll through it and make sure you find the search results in there. \n",
    "# print(parser_content)"
   ]
  },
  {
   "cell_type": "markdown",
   "metadata": {},
   "source": [
    "## 2. Collecting results"
   ]
  },
  {
   "cell_type": "markdown",
   "metadata": {},
   "source": [
    "If you inspect the search results, you can see that they have different properties such as *title*, *time*, and *category*. It would be possible, to filter our results based on these categories. For the moment, we only want to collect the links to the articles in a list.  \n",
    "\n",
    "We iterate through all links, send a request and extract the text. Then we store the text in a file."
   ]
  },
  {
   "cell_type": "code",
   "execution_count": null,
   "metadata": {
    "scrolled": true
   },
   "outputs": [
    {
     "name": "stdout",
     "output_type": "stream",
     "text": [
      "https://nos.nl//artikel/2486980-zevende-nieuwe-speler-voor-ajax-rechtsback-gaaei-komt-over-van-viborg\n",
      "https://nos.nl//artikel/2487558-ajax-zonder-aanwinsten-sutalo-en-akpom-naar-loedogorets-voor-play-offs\n",
      "https://nos.nl//liveblog/2491817-gestaakt-duel-uitspelen-dit-zijn-de-regels-yesilgoz-en-halsema-eisen-actie-van-knvb-en-clubs\n",
      "https://nos.nl//artikel/2491669-klassieker-ajax-feyenoord-0-3-in-tweede-helft-gestaakt-na-vuurwerk\n"
     ]
    }
   ],
   "source": [
    "domain = \"https://nos.nl/\"\n",
    "for i, link in enumerate(search_results):    \n",
    "    found_url = domain + link[\"href\"]\n",
    "    print(i, found_url)\n",
    "    \n",
    "    # Extract text and add the url as first line\n",
    "    text = found_url + '\\n'+ url_to_string(found_url) \n",
    "    \n",
    "    # Save in file\n",
    "    dir = \"../results/nos_search_results/\"\n",
    "    filename = keyword + \"_\" + str(i) + \".txt\"\n",
    "    with open(dir + filename, \"w\", encoding = \"utf-8\") as f:\n",
    "        f.write(text)\n"
   ]
  },
  {
   "cell_type": "markdown",
   "metadata": {},
   "source": [
    "## 3. Inspecting data"
   ]
  },
  {
   "cell_type": "markdown",
   "metadata": {},
   "source": [
    "Once you collected your preliminary data, the most important pre-processing phase begins: **Data Analyis**. \n",
    "\n",
    "Inspect the collected files and examine the following aspects: \n",
    "- Are the articles related to the topic that you had in mind when choosing the keyword? Or do you need to re-adjust the query? Many search engines allow you to use combinations of keywords using regular expressions in your queries.\n",
    "- Is the data structure of the results homogeneous?\n",
    "- How useful is the extracted text? What kind of additional data pre-processing would be helpful? How could you do that? \n",
    "- Can you identify different thematic groups or perspectives in the results? Are the differences reflected in the language? \n",
    " "
   ]
  },
  {
   "cell_type": "markdown",
   "metadata": {},
   "source": [
    "**Try out other public APIs to collect texts from interesting sources. You can find some examples here: https://github.com/public-apis/public-apis. Experiment with data from different languages.** \n",
    "\n",
    "How do you need to adjust the code? \n",
    "\n",
    "Note: Many APIs require that you register and obtain an API Key. This key is an identifier that you add to the query. It controls the number of queries that you send to avoid abuse.  "
   ]
  }
 ],
 "metadata": {
  "kernelspec": {
   "display_name": "LaDKernel",
   "language": "python",
   "name": "ladkernel"
  },
  "language_info": {
   "codemirror_mode": {
    "name": "ipython",
    "version": 3
   },
   "file_extension": ".py",
   "mimetype": "text/x-python",
   "name": "python",
   "nbconvert_exporter": "python",
   "pygments_lexer": "ipython3",
   "version": "3.12.0"
  }
 },
 "nbformat": 4,
 "nbformat_minor": 4
}
