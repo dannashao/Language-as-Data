{
 "cells": [
  {
   "cell_type": "code",
   "execution_count": null,
   "id": "c9dc8baf-234c-4d8d-acd5-259caec70085",
   "metadata": {},
   "outputs": [],
   "source": [
    "from util_html import *\n",
    "\n",
    "keyword=\"abortus\"\n",
    "url = \"https://nos.nl/zoeken/?q=\" + keyword\n",
    "\n",
    "print('The search request URL:', url)\n",
    "\n",
    "parser_content= url_to_html(url)\n",
    "\n",
    "# The class for the search results has a weird name\n",
    "# You can find it out when you look at the HTML source in your web browser\n",
    "search_results = parser_content.find_all(\"a\", {\"class\":\"sc-f75afcb6-4 isiLEZ\"})\n",
    "\n",
    "# For comparison, print the full output, scroll through it and make sure you find the search results in there. \n",
    "print(search_results)"
   ]
  },
  {
   "cell_type": "code",
   "execution_count": 18,
   "id": "9f5ed5ae-85da-4e30-88c4-a2d76960b735",
   "metadata": {},
   "outputs": [],
   "source": [
    "import requests\n",
    "import re\n",
    "from bs4 import BeautifulSoup\n",
    "import html5lib\n",
    "import pandas as pd"
   ]
  },
  {
   "cell_type": "code",
   "execution_count": 5,
   "id": "1a5a82ea-823c-4282-a234-fa580fef90c5",
   "metadata": {},
   "outputs": [],
   "source": [
    "def url_to_html(url):\n",
    "    \"\"\"Scrapes the html content from a web page. Takes a URL string as input and returns an html object. \"\"\"\n",
    "    \n",
    "    # Get the html content\n",
    "    headers = {\n",
    "    'user-agent': 'Mozilla/5.0 (Macintosh; Intel Mac OS X 10_15_7) AppleWebKit/537.36 (KHTML, like Gecko) Chrome/102.0.0.0 Safari/537.36',\n",
    "    }\n",
    "    res = requests.get(url, headers=headers)\n",
    "    #res = requests.get(url + \".pdf\", headers={\"User-Agent\": \"XY\"})\n",
    "    html = res.text\n",
    "    parser_content = BeautifulSoup(html, 'html5lib')\n",
    "    return parser_content"
   ]
  },
  {
   "cell_type": "code",
   "execution_count": 41,
   "id": "f7a628dd-42a6-40fd-a33b-7de1b81ebf3d",
   "metadata": {},
   "outputs": [],
   "source": [
    "def get_nos_metadata(keyword, page_range):\n",
    "    urls = []\n",
    "    titles = []\n",
    "    times = []\n",
    "    domain = \"https://nos.nl/\"\n",
    "    for i in range(1,page_range+1):\n",
    "        search_url = \"https://nos.nl/zoeken/?q=\" + keyword + \"&page=\" + str(i)\n",
    "        parser_content= url_to_html(search_url)\n",
    "        result_url = parser_content.find_all(\"a\", {\"class\":\"sc-f75afcb6-4 isiLEZ\"})\n",
    "        result_times = parser_content.find_all(\"div\",{\"class\":\"sc-d6d7be46-0 jjSfnY sc-f75afcb6-6 hGGBnM\"})\n",
    "        result_titles = parser_content.find_all(\"h2\",{\"class\":\"sc-f75afcb6-3 lhteiV\"})\n",
    "        for j, url in enumerate(result_url):\n",
    "            article_url = domain + url[\"href\"]\n",
    "            urls.append(article_url)\n",
    "        for m, title in enumerate(result_titles):\n",
    "            article_title = re.search(r'\\<h2 class\\=\\\"sc\\-f75afcb6\\-3 lhteiV\\\"\\>(.*?)\\<\\/h2\\>', str(title)).group(1)\n",
    "            titles.append(article_title)\n",
    "        for k,time in enumerate(result_times):\n",
    "            article_time = re.search(r'time datetime\\=\\\"(.*?)\\\"\\>', str(time)).group(1)\n",
    "            times.append(article_time)\n",
    "    return times, titles, urls"
   ]
  },
  {
   "cell_type": "code",
   "execution_count": 79,
   "id": "a0ff11bf-43a8-4b63-bd3a-60f3c1129a7c",
   "metadata": {
    "scrolled": true
   },
   "outputs": [],
   "source": [
    "nos_metadata = get_nos_metadata(keyword = \"abortus\", page_range = 35)"
   ]
  },
  {
   "cell_type": "code",
   "execution_count": 82,
   "id": "ec970b66-721d-442b-84fc-0d73300bf68b",
   "metadata": {},
   "outputs": [],
   "source": [
    "def remove_nos_videos(metadata):\n",
    "    '''\n",
    "    NOS search results sometimes includes video links\n",
    "    example: https://nos.nl/nieuwsuur/video/2496544-cu-lid-annelijn-door-wie-wil-je-eigenlijk-aardig-gevonden-worden\n",
    "    This function removes such links\n",
    "    '''\n",
    "    df = pd.DataFrame(metadata).T.rename(columns={0:'time', 1:'title', 2:'url'})\n",
    "    video_pattern = \"\\/video\\/\"\n",
    "    filter = df['url'].str.contains(video_pattern)\n",
    "    cleaned_df = df[~filter].head(600)\n",
    "    \n",
    "    return cleaned_df"
   ]
  },
  {
   "cell_type": "code",
   "execution_count": 83,
   "id": "76c186ef-262a-4fe6-a9f7-adf749d3e301",
   "metadata": {},
   "outputs": [
    {
     "data": {
      "text/html": [
       "<div>\n",
       "<style scoped>\n",
       "    .dataframe tbody tr th:only-of-type {\n",
       "        vertical-align: middle;\n",
       "    }\n",
       "\n",
       "    .dataframe tbody tr th {\n",
       "        vertical-align: top;\n",
       "    }\n",
       "\n",
       "    .dataframe thead th {\n",
       "        text-align: right;\n",
       "    }\n",
       "</style>\n",
       "<table border=\"1\" class=\"dataframe\">\n",
       "  <thead>\n",
       "    <tr style=\"text-align: right;\">\n",
       "      <th></th>\n",
       "      <th>time</th>\n",
       "      <th>title</th>\n",
       "      <th>url</th>\n",
       "    </tr>\n",
       "  </thead>\n",
       "  <tbody>\n",
       "    <tr>\n",
       "      <th>0</th>\n",
       "      <td>2023-10-23T15:33:23+0200</td>\n",
       "      <td>Podcast De Dag: Mike Johnson is onbekend, chri...</td>\n",
       "      <td>https://nos.nl//artikel/2495085-podcast-de-dag...</td>\n",
       "    </tr>\n",
       "    <tr>\n",
       "      <th>1</th>\n",
       "      <td>2023-10-13T23:25:30+0200</td>\n",
       "      <td>Met vrouwenrechten als splijtzwam gaat Polen d...</td>\n",
       "      <td>https://nos.nl//artikel/2494020-met-vrouwenrec...</td>\n",
       "    </tr>\n",
       "    <tr>\n",
       "      <th>2</th>\n",
       "      <td>2023-10-12T20:11:23+0200</td>\n",
       "      <td>Aantal abortussen vorig jaar flink gestegen</td>\n",
       "      <td>https://nos.nl//artikel/2493865-aantal-abortus...</td>\n",
       "    </tr>\n",
       "    <tr>\n",
       "      <th>4</th>\n",
       "      <td>2023-09-07T02:49:47+0200</td>\n",
       "      <td>Hoogste hof Mexico bekrachtigt recht op abortus</td>\n",
       "      <td>https://nos.nl//artikel/2489520-hoogste-hof-me...</td>\n",
       "    </tr>\n",
       "    <tr>\n",
       "      <th>5</th>\n",
       "      <td>2023-08-09T05:22:22+0200</td>\n",
       "      <td>Regels referenda Ohio niet veranderd, overwinn...</td>\n",
       "      <td>https://nos.nl//artikel/2485970-regels-referen...</td>\n",
       "    </tr>\n",
       "    <tr>\n",
       "      <th>...</th>\n",
       "      <td>...</td>\n",
       "      <td>...</td>\n",
       "      <td>...</td>\n",
       "    </tr>\n",
       "    <tr>\n",
       "      <th>661</th>\n",
       "      <td>2023-10-13T23:25:30+0200</td>\n",
       "      <td>Met vrouwenrechten als splijtzwam gaat Polen d...</td>\n",
       "      <td>https://nos.nl//artikel/2494020-met-vrouwenrec...</td>\n",
       "    </tr>\n",
       "    <tr>\n",
       "      <th>662</th>\n",
       "      <td>2023-10-12T20:11:23+0200</td>\n",
       "      <td>Aantal abortussen vorig jaar flink gestegen</td>\n",
       "      <td>https://nos.nl//artikel/2493865-aantal-abortus...</td>\n",
       "    </tr>\n",
       "    <tr>\n",
       "      <th>664</th>\n",
       "      <td>2023-09-07T02:49:47+0200</td>\n",
       "      <td>Hoogste hof Mexico bekrachtigt recht op abortus</td>\n",
       "      <td>https://nos.nl//artikel/2489520-hoogste-hof-me...</td>\n",
       "    </tr>\n",
       "    <tr>\n",
       "      <th>665</th>\n",
       "      <td>2023-08-09T05:22:22+0200</td>\n",
       "      <td>Regels referenda Ohio niet veranderd, overwinn...</td>\n",
       "      <td>https://nos.nl//artikel/2485970-regels-referen...</td>\n",
       "    </tr>\n",
       "    <tr>\n",
       "      <th>666</th>\n",
       "      <td>2023-08-08T23:05:23+0200</td>\n",
       "      <td>Referendum Ohio gaat toekomst abortusrechten b...</td>\n",
       "      <td>https://nos.nl//artikel/2485959-referendum-ohi...</td>\n",
       "    </tr>\n",
       "  </tbody>\n",
       "</table>\n",
       "<p>600 rows × 3 columns</p>\n",
       "</div>"
      ],
      "text/plain": [
       "                         time  \\\n",
       "0    2023-10-23T15:33:23+0200   \n",
       "1    2023-10-13T23:25:30+0200   \n",
       "2    2023-10-12T20:11:23+0200   \n",
       "4    2023-09-07T02:49:47+0200   \n",
       "5    2023-08-09T05:22:22+0200   \n",
       "..                        ...   \n",
       "661  2023-10-13T23:25:30+0200   \n",
       "662  2023-10-12T20:11:23+0200   \n",
       "664  2023-09-07T02:49:47+0200   \n",
       "665  2023-08-09T05:22:22+0200   \n",
       "666  2023-08-08T23:05:23+0200   \n",
       "\n",
       "                                                 title  \\\n",
       "0    Podcast De Dag: Mike Johnson is onbekend, chri...   \n",
       "1    Met vrouwenrechten als splijtzwam gaat Polen d...   \n",
       "2          Aantal abortussen vorig jaar flink gestegen   \n",
       "4     Hoogste hof Mexico bekrachtigt recht op abortus    \n",
       "5    Regels referenda Ohio niet veranderd, overwinn...   \n",
       "..                                                 ...   \n",
       "661  Met vrouwenrechten als splijtzwam gaat Polen d...   \n",
       "662        Aantal abortussen vorig jaar flink gestegen   \n",
       "664   Hoogste hof Mexico bekrachtigt recht op abortus    \n",
       "665  Regels referenda Ohio niet veranderd, overwinn...   \n",
       "666  Referendum Ohio gaat toekomst abortusrechten b...   \n",
       "\n",
       "                                                   url  \n",
       "0    https://nos.nl//artikel/2495085-podcast-de-dag...  \n",
       "1    https://nos.nl//artikel/2494020-met-vrouwenrec...  \n",
       "2    https://nos.nl//artikel/2493865-aantal-abortus...  \n",
       "4    https://nos.nl//artikel/2489520-hoogste-hof-me...  \n",
       "5    https://nos.nl//artikel/2485970-regels-referen...  \n",
       "..                                                 ...  \n",
       "661  https://nos.nl//artikel/2494020-met-vrouwenrec...  \n",
       "662  https://nos.nl//artikel/2493865-aantal-abortus...  \n",
       "664  https://nos.nl//artikel/2489520-hoogste-hof-me...  \n",
       "665  https://nos.nl//artikel/2485970-regels-referen...  \n",
       "666  https://nos.nl//artikel/2485959-referendum-ohi...  \n",
       "\n",
       "[600 rows x 3 columns]"
      ]
     },
     "execution_count": 83,
     "metadata": {},
     "output_type": "execute_result"
    }
   ],
   "source": [
    "cleaned_nos_metadata = remove_nos_videos(nos_metadata)"
   ]
  },
  {
   "cell_type": "code",
   "execution_count": 46,
   "id": "b2fae8fe-fc20-42e0-9498-ba30827fb78d",
   "metadata": {},
   "outputs": [],
   "source": [
    "def nos_metadata_train_test_split(metadata, n = 20):\n",
    "    '''\n",
    "    Split the train/test with n% of test data for nos\n",
    "    '''\n",
    "    df = pd.DataFrame(metadata).T.rename(columns={0:'time', 1:'title', 2:'url'})\n",
    "    rdf = df.sample(frac=1, random_state=1) # reproducibility\n",
    "    \n",
    "    test = int(len(df)*(n/100))\n",
    "    train = len(df)\n",
    "    \n",
    "    test_index = rdf.index[0:test]\n",
    "    train_index = rdf.index[test:train]\n",
    "    \n",
    "    test_metadata = rdf.head(test)\n",
    "    train_metadata = rdf.tail(train-test)\n",
    "    \n",
    "    return train_metadata, test_metadata, train_index, test_index"
   ]
  },
  {
   "cell_type": "code",
   "execution_count": 68,
   "id": "63df5aca-a52e-49b9-92af-09283d31b7a2",
   "metadata": {},
   "outputs": [],
   "source": [
    "nos_splittedmedatada = nos_metadata_train_test_split(nos_metadata)"
   ]
  },
  {
   "cell_type": "code",
   "execution_count": 53,
   "id": "72007043-3f49-421a-9387-5f211db39717",
   "metadata": {},
   "outputs": [
    {
     "data": {
      "text/plain": [
       "Int64Index([ 82, 568, 347, 544,  34,  67, 124,  39, 438, 414,\n",
       "            ...\n",
       "            178, 281, 390, 508, 583, 129, 144,  72, 235,  37],\n",
       "           dtype='int64', length=480)"
      ]
     },
     "execution_count": 53,
     "metadata": {},
     "output_type": "execute_result"
    }
   ],
   "source": [
    "nos_splittedmedatada[2]"
   ]
  },
  {
   "cell_type": "code",
   "execution_count": 54,
   "id": "1ced7eed-605e-4b4d-bc14-a846da014cf6",
   "metadata": {},
   "outputs": [],
   "source": [
    "def write_nos_metadata(dirs, outfile_keywords, splittedmetadata):\n",
    "    trainfile = dirs[2] + '/' + outfile_keywords + \"_train_metadata.csv\"\n",
    "    testfile = dirs[3] + '/' + outfile_keywords + \"_test_metadata.csv\"\n",
    "    splittedmetadata[0].to_csv(trainfile)\n",
    "    splittedmetadata[1].to_csv(testfile)"
   ]
  },
  {
   "cell_type": "code",
   "execution_count": 55,
   "id": "a7b4e4c6-8cf9-4d17-bfc2-8e1cbc6b56fa",
   "metadata": {},
   "outputs": [],
   "source": [
    "write_nos_metadata(dirs, 'abortus', nos_splittedmedatada)"
   ]
  },
  {
   "cell_type": "code",
   "execution_count": 72,
   "id": "d8802e09-2c69-4046-abe9-909292edcccc",
   "metadata": {},
   "outputs": [],
   "source": [
    "def get_nos_content_and_section(url):\n",
    "    '''\n",
    "    Get the text from url link\n",
    "    '''\n",
    "    print(url)\n",
    "    soup = BeautifulSoup(requests.get(url).text,\"html5lib\")\n",
    "    section_container = soup.select(\"p\",{\"class\":\"sc-f9df6382-7 cMuisv\"}) # NOS section class\n",
    "    section = re.search(r'cMuisv\\\"\\>(.*?)\\<\\/p\\>', str(section_container)).group(1)\n",
    "    text = \"\"\n",
    "    for item in soup.select(\"p\",{\"class\":\"sc-6d77a1d1-0 chzewu\"}): # NOS body text class\n",
    "        text += item.text.strip()\n",
    "    return text, section"
   ]
  },
  {
   "cell_type": "code",
   "execution_count": 65,
   "id": "94525e9c-be6b-4ea3-908d-c30f5539870b",
   "metadata": {},
   "outputs": [
    {
     "data": {
      "text/plain": [
       "'Buitenland'"
      ]
     },
     "execution_count": 65,
     "metadata": {},
     "output_type": "execute_result"
    }
   ],
   "source": [
    "get_nos_content_and_section('https://nos.nl/artikel/2455639-groenlandse-vrouwen-kregen-ook-na-1991-nog-ongewilde-anticonceptie')[1]"
   ]
  },
  {
   "cell_type": "code",
   "execution_count": 70,
   "id": "589b4b5a-1d5c-4f7d-9fa2-f8e4fa26e88d",
   "metadata": {},
   "outputs": [],
   "source": [
    "def write_nos_output_and_section(splitted_metadata, keyword, dirs):\n",
    "    # train\n",
    "    train_section = []\n",
    "    train = splitted_metadata[0].reset_index()\n",
    "    for i in range(len(train)):\n",
    "        title = train['title'][i]\n",
    "        url = train['url'][i]\n",
    "        nos = get_nos_content_and_section(url)\n",
    "        section = nos[1]\n",
    "        train_section.append(section)\n",
    "        text = nos[0]\n",
    "        dir = dirs[2]\n",
    "        filename = keyword + \"_\" + str(title).replace('/','_') + \".txt\"\n",
    "        with open(dir + \"/\" + filename, \"w\", encoding = \"utf-8\") as f:\n",
    "            f.write(text)\n",
    "    \n",
    "    # test\n",
    "    test_section = []\n",
    "    test = splitted_metadata[1].reset_index()\n",
    "    for j in range(len(test)):\n",
    "        title = test['title'][j]\n",
    "        url = test['url'][j]\n",
    "        nos = get_nos_content_and_section(url)\n",
    "        section = nos[1]\n",
    "        test_section.append(section)\n",
    "        text = nos[0]\n",
    "        dir = dirs[3]\n",
    "        filename = keyword + \"_\" + str(title).replace('/','_') + \".txt\"\n",
    "        with open(dir + \"/\" + filename, \"w\", encoding = \"utf-8\") as f:\n",
    "            f.write(text)\n",
    "\n",
    "    return train_section, test_section    "
   ]
  },
  {
   "cell_type": "code",
   "execution_count": 73,
   "id": "665c10c5-8fe9-404d-a083-2860c146e3f6",
   "metadata": {},
   "outputs": [
    {
     "name": "stdout",
     "output_type": "stream",
     "text": [
      "https://nos.nl//artikel/2483714-biden-draagt-eerste-vrouwelijke-admiraal-voor-als-bevelhebber-marine\n",
      "https://nos.nl//artikel/2485959-referendum-ohio-gaat-toekomst-abortusrechten-bepalen\n",
      "https://nos.nl//artikel/2495031-nog-geen-nieuwe-president-argentinie-tweede-stemronde-in-november-nodig\n",
      "https://nos.nl//artikel/2485974-wekdienst-9-8-kwartaalcijfers-abn-amro-en-ahold-laatste-dag-wk-baanwielrennen\n",
      "https://nos.nl//artikel/2494631-belangrijkste-mensenrechtenprijs-eu-postuum-naar-mahsa-amini-spil-iraanse-protesten\n",
      "https://nos.nl//artikel/2494960-rechtse-econoom-blikvanger-bij-belangrijkste-verkiezingen-in-jaren-in-argentinie\n",
      "https://nos.nl//nieuwsuur/artikel/2496542-christenunie-schippert-tussen-principes-en-macht\n",
      "https://nos.nl//nieuwsuur/video/2496544-cu-lid-annelijn-door-wie-wil-je-eigenlijk-aardig-gevonden-worden\n"
     ]
    },
    {
     "ename": "AttributeError",
     "evalue": "'NoneType' object has no attribute 'group'",
     "output_type": "error",
     "traceback": [
      "\u001b[0;31m---------------------------------------------------------------------------\u001b[0m",
      "\u001b[0;31mAttributeError\u001b[0m                            Traceback (most recent call last)",
      "Cell \u001b[0;32mIn[73], line 1\u001b[0m\n\u001b[0;32m----> 1\u001b[0m \u001b[43mwrite_nos_output_and_section\u001b[49m\u001b[43m(\u001b[49m\u001b[43msplitted_metadata\u001b[49m\u001b[43m \u001b[49m\u001b[38;5;241;43m=\u001b[39;49m\u001b[43m \u001b[49m\u001b[43mnos_splittedmedatada\u001b[49m\u001b[43m,\u001b[49m\u001b[43m \u001b[49m\u001b[43mkeyword\u001b[49m\u001b[43m \u001b[49m\u001b[38;5;241;43m=\u001b[39;49m\u001b[43m \u001b[49m\u001b[38;5;124;43m'\u001b[39;49m\u001b[38;5;124;43mabortus\u001b[39;49m\u001b[38;5;124;43m'\u001b[39;49m\u001b[43m,\u001b[49m\u001b[43m \u001b[49m\u001b[43mdirs\u001b[49m\u001b[38;5;241;43m=\u001b[39;49m\u001b[43mdirs\u001b[49m\u001b[43m)\u001b[49m\n",
      "Cell \u001b[0;32mIn[70], line 8\u001b[0m, in \u001b[0;36mwrite_nos_output_and_section\u001b[0;34m(splitted_metadata, keyword, dirs)\u001b[0m\n\u001b[1;32m      6\u001b[0m title \u001b[38;5;241m=\u001b[39m train[\u001b[38;5;124m'\u001b[39m\u001b[38;5;124mtitle\u001b[39m\u001b[38;5;124m'\u001b[39m][i]\n\u001b[1;32m      7\u001b[0m url \u001b[38;5;241m=\u001b[39m train[\u001b[38;5;124m'\u001b[39m\u001b[38;5;124murl\u001b[39m\u001b[38;5;124m'\u001b[39m][i]\n\u001b[0;32m----> 8\u001b[0m nos \u001b[38;5;241m=\u001b[39m \u001b[43mget_nos_content_and_section\u001b[49m\u001b[43m(\u001b[49m\u001b[43murl\u001b[49m\u001b[43m)\u001b[49m\n\u001b[1;32m      9\u001b[0m section \u001b[38;5;241m=\u001b[39m nos[\u001b[38;5;241m1\u001b[39m]\n\u001b[1;32m     10\u001b[0m train_section\u001b[38;5;241m.\u001b[39mappend(section)\n",
      "Cell \u001b[0;32mIn[72], line 8\u001b[0m, in \u001b[0;36mget_nos_content_and_section\u001b[0;34m(url)\u001b[0m\n\u001b[1;32m      6\u001b[0m soup \u001b[38;5;241m=\u001b[39m BeautifulSoup(requests\u001b[38;5;241m.\u001b[39mget(url)\u001b[38;5;241m.\u001b[39mtext,\u001b[38;5;124m\"\u001b[39m\u001b[38;5;124mhtml5lib\u001b[39m\u001b[38;5;124m\"\u001b[39m)\n\u001b[1;32m      7\u001b[0m section_container \u001b[38;5;241m=\u001b[39m soup\u001b[38;5;241m.\u001b[39mselect(\u001b[38;5;124m\"\u001b[39m\u001b[38;5;124mp\u001b[39m\u001b[38;5;124m\"\u001b[39m,{\u001b[38;5;124m\"\u001b[39m\u001b[38;5;124mclass\u001b[39m\u001b[38;5;124m\"\u001b[39m:\u001b[38;5;124m\"\u001b[39m\u001b[38;5;124msc-f9df6382-7 cMuisv\u001b[39m\u001b[38;5;124m\"\u001b[39m}) \u001b[38;5;66;03m# NOS section class\u001b[39;00m\n\u001b[0;32m----> 8\u001b[0m section \u001b[38;5;241m=\u001b[39m \u001b[43mre\u001b[49m\u001b[38;5;241;43m.\u001b[39;49m\u001b[43msearch\u001b[49m\u001b[43m(\u001b[49m\u001b[38;5;124;43mr\u001b[39;49m\u001b[38;5;124;43m'\u001b[39;49m\u001b[38;5;124;43mcMuisv\u001b[39;49m\u001b[38;5;124;43m\\\u001b[39;49m\u001b[38;5;124;43m\"\u001b[39;49m\u001b[38;5;124;43m\\\u001b[39;49m\u001b[38;5;124;43m>(.*?)\u001b[39;49m\u001b[38;5;124;43m\\\u001b[39;49m\u001b[38;5;124;43m<\u001b[39;49m\u001b[38;5;124;43m\\\u001b[39;49m\u001b[38;5;124;43m/p\u001b[39;49m\u001b[38;5;124;43m\\\u001b[39;49m\u001b[38;5;124;43m>\u001b[39;49m\u001b[38;5;124;43m'\u001b[39;49m\u001b[43m,\u001b[49m\u001b[43m \u001b[49m\u001b[38;5;28;43mstr\u001b[39;49m\u001b[43m(\u001b[49m\u001b[43msection_container\u001b[49m\u001b[43m)\u001b[49m\u001b[43m)\u001b[49m\u001b[38;5;241;43m.\u001b[39;49m\u001b[43mgroup\u001b[49m(\u001b[38;5;241m1\u001b[39m)\n\u001b[1;32m      9\u001b[0m text \u001b[38;5;241m=\u001b[39m \u001b[38;5;124m\"\u001b[39m\u001b[38;5;124m\"\u001b[39m\n\u001b[1;32m     10\u001b[0m \u001b[38;5;28;01mfor\u001b[39;00m item \u001b[38;5;129;01min\u001b[39;00m soup\u001b[38;5;241m.\u001b[39mselect(\u001b[38;5;124m\"\u001b[39m\u001b[38;5;124mp\u001b[39m\u001b[38;5;124m\"\u001b[39m,{\u001b[38;5;124m\"\u001b[39m\u001b[38;5;124mclass\u001b[39m\u001b[38;5;124m\"\u001b[39m:\u001b[38;5;124m\"\u001b[39m\u001b[38;5;124msc-6d77a1d1-0 chzewu\u001b[39m\u001b[38;5;124m\"\u001b[39m}): \u001b[38;5;66;03m# NOS body text class\u001b[39;00m\n",
      "\u001b[0;31mAttributeError\u001b[0m: 'NoneType' object has no attribute 'group'"
     ]
    }
   ],
   "source": [
    "write_nos_output_and_section(splitted_metadata = nos_splittedmedatada, keyword = 'abortus', dirs=dirs)"
   ]
  },
  {
   "cell_type": "code",
   "execution_count": 2,
   "id": "4d27130a-8931-4517-b391-de9fe4d5970a",
   "metadata": {},
   "outputs": [
    {
     "name": "stdout",
     "output_type": "stream",
     "text": [
      "https://nos.nl/zoeken/?q=abortus&page=1\n",
      "https://nos.nl/zoeken/?q=abortus&page=2\n",
      "https://nos.nl/zoeken/?q=abortus&page=3\n",
      "https://nos.nl/zoeken/?q=abortus&page=4\n",
      "https://nos.nl/zoeken/?q=abortus&page=5\n",
      "https://nos.nl/zoeken/?q=abortus&page=6\n",
      "https://nos.nl/zoeken/?q=abortus&page=7\n",
      "https://nos.nl/zoeken/?q=abortus&page=8\n",
      "https://nos.nl/zoeken/?q=abortus&page=9\n",
      "https://nos.nl/zoeken/?q=abortus&page=10\n",
      "https://nos.nl/zoeken/?q=abortus&page=11\n",
      "https://nos.nl/zoeken/?q=abortus&page=12\n",
      "https://nos.nl/zoeken/?q=abortus&page=13\n",
      "https://nos.nl/zoeken/?q=abortus&page=14\n",
      "https://nos.nl/zoeken/?q=abortus&page=15\n",
      "https://nos.nl/zoeken/?q=abortus&page=16\n",
      "https://nos.nl/zoeken/?q=abortus&page=17\n",
      "https://nos.nl/zoeken/?q=abortus&page=18\n",
      "https://nos.nl/zoeken/?q=abortus&page=19\n",
      "https://nos.nl/zoeken/?q=abortus&page=20\n",
      "https://nos.nl/zoeken/?q=abortus&page=21\n",
      "https://nos.nl/zoeken/?q=abortus&page=22\n",
      "https://nos.nl/zoeken/?q=abortus&page=23\n",
      "https://nos.nl/zoeken/?q=abortus&page=24\n",
      "https://nos.nl/zoeken/?q=abortus&page=25\n",
      "https://nos.nl/zoeken/?q=abortus&page=26\n",
      "https://nos.nl/zoeken/?q=abortus&page=27\n",
      "https://nos.nl/zoeken/?q=abortus&page=28\n",
      "https://nos.nl/zoeken/?q=abortus&page=29\n",
      "https://nos.nl/zoeken/?q=abortus&page=30\n"
     ]
    }
   ],
   "source": [
    "keyword = \"abortus\"\n",
    "for i in range(1,32):\n",
    "    url = \"https://nos.nl/zoeken/?q=\" + keyword + \"&page=\" + str(i)\n",
    "    parser_content= url_to_html(url)\n",
    "    search_results = parser_content.find_all(\"a\", {\"class\":\"sc-f75afcb6-4 isiLEZ\"})\n",
    "\n",
    "    domain = \"https://nos.nl/\"\n",
    "    for i, link in enumerate(search_results):    \n",
    "        found_url = domain + link[\"href\"]\n",
    "        print(i, found_url)\n",
    "    \n",
    "    # Extract text and add the url as first line\n",
    "        text = found_url + '\\n'+ url_to_string(found_url) \n",
    "    \n",
    "    # Save in file\n",
    "        dir = \"../results/nos_search_results/\"\n",
    "        filename = keyword + \"_\" + str(i) + \".txt\"\n",
    "        with open(dir + filename, \"w\", encoding = \"utf-8\") as f:\n",
    "            f.write(text)"
   ]
  },
  {
   "cell_type": "code",
   "execution_count": null,
   "id": "6595586e-e61e-467e-9452-5f2d01494cc1",
   "metadata": {},
   "outputs": [],
   "source": []
  }
 ],
 "metadata": {
  "kernelspec": {
   "display_name": "py3.9",
   "language": "python",
   "name": "py3.9"
  },
  "language_info": {
   "codemirror_mode": {
    "name": "ipython",
    "version": 3
   },
   "file_extension": ".py",
   "mimetype": "text/x-python",
   "name": "python",
   "nbconvert_exporter": "python",
   "pygments_lexer": "ipython3",
   "version": "3.9.18"
  }
 },
 "nbformat": 4,
 "nbformat_minor": 5
}
