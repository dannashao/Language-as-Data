{
 "cells": [
  {
   "cell_type": "markdown",
   "metadata": {},
   "source": [
    "Copyright: Vrije Universiteit Amsterdam, Faculty of Humanities, CLTL"
   ]
  },
  {
   "cell_type": "markdown",
   "metadata": {},
   "source": [
    "# Introduction Lab 1: Getting Data"
   ]
  },
  {
   "cell_type": "markdown",
   "metadata": {},
   "source": [
    "In Lab 1 we are going to explore different ways to access online data. \n",
    "\n",
    "Before you crawl any data, always collect information about the licenses and privacy regulations. Keep in mind that crawling regulations and APIs change quickly. \n",
    "\n",
    "TODO: UPDATE THIS --> probably directly on canvas In this LAB session, we are experimenting with some example sources. Feel free to explore other options!\n"
   ]
  }
 ],
 "metadata": {
  "kernelspec": {
   "display_name": "LaD",
   "language": "python",
   "name": "lad"
  },
  "language_info": {
   "codemirror_mode": {
    "name": "ipython",
    "version": 3
   },
   "file_extension": ".py",
   "mimetype": "text/x-python",
   "name": "python",
   "nbconvert_exporter": "python",
   "pygments_lexer": "ipython3",
   "version": "3.8.5"
  }
 },
 "nbformat": 4,
 "nbformat_minor": 4
}
