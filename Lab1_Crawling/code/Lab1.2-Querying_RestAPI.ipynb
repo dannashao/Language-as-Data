{
 "cells": [
  {
   "cell_type": "markdown",
   "metadata": {},
   "source": [
    "Copyright: Vrije Universiteit Amsterdam, Faculty of Humanities, CLTL"
   ]
  },
  {
   "cell_type": "markdown",
   "metadata": {},
   "source": [
    "# Lab 1.2: Querying a REST API"
   ]
  },
  {
   "cell_type": "markdown",
   "metadata": {},
   "source": [
    "News articles are a powerful resource to analyze current trends and events. In this Lab, we will extract Dutch news articles from nos.nl.\n",
    "\n",
    "**Visit https://nos.nl/zoeken/ and have a look at the search utility.**\n",
    "\n",
    "It provides access to a database. Instead of searching the database in the browser, we can also access it using code through a so-called REST API. REST stands for REpresentational State Transfer and makes it possible to query information from a server. "
   ]
  },
  {
   "cell_type": "markdown",
   "metadata": {},
   "source": [
    "## 1. Querying keywords"
   ]
  },
  {
   "cell_type": "markdown",
   "metadata": {},
   "source": [
    "We want to create a dataset that contains articles related to a specific topic. In order to find these articles, we need to determine good keywords for the topic. In this example, we use the keyword \"veganisme\".\n",
    "**Make sure to test several keywords for your topic and inspect the quality of the results.**  \n",
    "\n",
    "Instead of manually copying all search results into files, we want to automate the task. We create a URL by appending the keyword to the search URL of NOS. Note that other websites can use a different syntax. It helps to first test the search interface manually to understand how searches are specified. "
   ]
  },
  {
   "cell_type": "code",
   "execution_count": 1,
   "metadata": {
    "scrolled": true
   },
   "outputs": [
    {
     "name": "stdout",
     "output_type": "stream",
     "text": [
      "The search request URL: https://nos.nl/zoeken/?q=veganisme\n",
      "[<a class=\"sc-f75afcb6-4 isiLEZ\" data-testid=\"listitem\" href=\"/artikel/2314011-veganistische-moeder-niet-langer-geweerd-van-moedermelkbank\"><div class=\"sc-f75afcb6-1 dwJDmr\"><span class=\"sc-89aee953-0 flpnmJ\"><picture><source media=\"\" sizes=\"(min-width: 760px) 165px, 100px\" srcset=\"https://cdn.nos.nl/image/2019/12/09/612898/96x72a.jpg 96w, https://cdn.nos.nl/image/2019/12/09/612898/192x144a.jpg 192w, https://cdn.nos.nl/image/2019/12/09/612898/288x216a.jpg 288w, https://cdn.nos.nl/image/2019/12/09/612898/384x288a.jpg 384w, https://cdn.nos.nl/image/2019/12/09/612898/480x360a.jpg 480w, https://cdn.nos.nl/image/2019/12/09/612898/576x432a.jpg 576w, https://cdn.nos.nl/image/2019/12/09/612898/768x576a.jpg 768w, https://cdn.nos.nl/image/2019/12/09/612898/960x720a.jpg 960w, https://cdn.nos.nl/image/2019/12/09/612898/1152x864a.jpg 1152w, https://cdn.nos.nl/image/2019/12/09/612898/1440x1080a.jpg 1440w, https://cdn.nos.nl/image/2019/12/09/612898/1920x1440a.jpg 1920w, https://cdn.nos.nl/image/2019/12/09/612898/2400x1800a.jpg 2400w, https://cdn.nos.nl/image/2019/12/09/612898/2880x2160a.jpg 2880w\"/><img alt=\"\" class=\"sc-89aee953-1 dQLfsp\" decoding=\"async\" loading=\"lazy\" src=\"https://cdn.nos.nl/image/2019/12/09/612898/768x576a.jpg\"/></picture></span></div><div class=\"sc-f75afcb6-0 bNrJZy\"><div class=\"sc-d6d7be46-0 jjSfnY sc-f75afcb6-6 hGGBnM\" data-testid=\"metadata-container\"><span><time datetime=\"2019-12-09T15:29:45+0100\">maandag 9 december 2019, 15:29</time></span></div><h2 class=\"sc-f75afcb6-3 lhteiV\">Veganistische moeder niet langer geweerd van Moedermelkbank</h2><p class=\"sc-f75afcb6-5 eZWFfJ\">Wetenschappelijk onderzoek heeft nu aangetoond dat een verantwoord plantaardig dieet resulteert in kwalitatief goede moedermelk.</p></div></a>, <a class=\"sc-f75afcb6-4 isiLEZ\" data-testid=\"listitem\" href=\"/artikel/2309909-ellen-degeneres-krijgt-golden-globe-oeuvreprijs\"><div class=\"sc-f75afcb6-1 dwJDmr\"><span class=\"sc-89aee953-0 flpnmJ\"><picture><source media=\"\" sizes=\"(min-width: 760px) 165px, 100px\" srcset=\"https://cdn.nos.nl/image/2019/11/10/591977/96x72a.jpg 96w, https://cdn.nos.nl/image/2019/11/10/591977/192x144a.jpg 192w, https://cdn.nos.nl/image/2019/11/10/591977/288x216a.jpg 288w, https://cdn.nos.nl/image/2019/11/10/591977/384x288a.jpg 384w, https://cdn.nos.nl/image/2019/11/10/591977/480x360a.jpg 480w, https://cdn.nos.nl/image/2019/11/10/591977/576x432a.jpg 576w, https://cdn.nos.nl/image/2019/11/10/591977/768x576a.jpg 768w, https://cdn.nos.nl/image/2019/11/10/591977/960x720a.jpg 960w, https://cdn.nos.nl/image/2019/11/10/591977/1152x864a.jpg 1152w, https://cdn.nos.nl/image/2019/11/10/591977/1440x1080a.jpg 1440w, https://cdn.nos.nl/image/2019/11/10/591977/1920x1440a.jpg 1920w, https://cdn.nos.nl/image/2019/11/10/591977/2400x1800a.jpg 2400w, https://cdn.nos.nl/image/2019/11/10/591977/2880x2160a.jpg 2880w\"/><img alt=\"\" class=\"sc-89aee953-1 dQLfsp\" decoding=\"async\" loading=\"lazy\" src=\"https://cdn.nos.nl/image/2019/11/10/591977/768x576a.jpg\"/></picture></span></div><div class=\"sc-f75afcb6-0 bNrJZy\"><div class=\"sc-d6d7be46-0 jjSfnY sc-f75afcb6-6 hGGBnM\" data-testid=\"metadata-container\"><span><time datetime=\"2019-11-10T22:19:48+0100\">zondag 10 november 2019, 22:19</time></span></div><h2 class=\"sc-f75afcb6-3 lhteiV\">Ellen DeGeneres krijgt Golden Globe-oeuvreprijs</h2><p class=\"sc-f75afcb6-5 eZWFfJ\">DeGeneres draait al bijna 25 jaar mee in de Amerikaanse televisiewereld. Ze is comédienne, maar vestigt de aandacht regelmatig op maatschappelijke onderwerpen als seksuele geaardheid en veganisme.</p></div></a>, <a class=\"sc-f75afcb6-4 isiLEZ\" data-testid=\"listitem\" href=\"/artikel/2247497-veganisten-protesteren-in-amsterdam-tegen-hamburgers-en-bontjassen\"><div class=\"sc-f75afcb6-1 dwJDmr\"><span class=\"sc-89aee953-0 flpnmJ\"><picture><source media=\"\" sizes=\"(min-width: 760px) 165px, 100px\" srcset=\"https://cdn.nos.nl/image/2018/08/25/495556/128x72.jpg 96w, https://cdn.nos.nl/image/2018/08/25/495556/320x180.jpg 240w, https://cdn.nos.nl/image/2018/08/25/495556/480x270.jpg 360w, https://cdn.nos.nl/image/2018/08/25/495556/640x360.jpg 480w, https://cdn.nos.nl/image/2018/08/25/495556/xxl.jpg 600w, https://cdn.nos.nl/image/2018/08/25/495556/1008x567.jpg 756w, https://cdn.nos.nl/image/2018/08/25/495556/1200x675.jpg 900w, https://cdn.nos.nl/image/2018/08/25/495556/1600x900.jpg 1200w, https://cdn.nos.nl/image/2018/08/25/495556/2048x1152.jpg 1536w\"/><img alt=\"\" class=\"sc-89aee953-1 dQLfsp\" decoding=\"async\" loading=\"lazy\" src=\"https://cdn.nos.nl/image/2018/08/25/495556/xxl.jpg\"/></picture></span></div><div class=\"sc-f75afcb6-0 bNrJZy\"><div class=\"sc-d6d7be46-0 jjSfnY sc-f75afcb6-6 hGGBnM\" data-testid=\"metadata-container\"><span><time datetime=\"2018-08-25T15:56:43+0200\">zaterdag 25 augustus 2018, 15:56</time></span></div><h2 class=\"sc-f75afcb6-3 lhteiV\">Veganisten protesteren in Amsterdam tegen hamburgers en bontjassen</h2><p class=\"sc-f75afcb6-5 eZWFfJ\">Honderden mensen verzamelden zich om aandacht te vragen voor dierenwelzijn.</p></div></a>, <a class=\"sc-f75afcb6-4 isiLEZ\" data-testid=\"listitem\" href=\"/nieuwsuur/artikel/2234918-is-rundvlees-eten-vervuilender-dan-autorijden\"><div class=\"sc-f75afcb6-1 dwJDmr\"><span class=\"sc-89aee953-0 flpnmJ\"><picture><source media=\"\" sizes=\"(min-width: 760px) 165px, 100px\" srcset=\"https://cdn.nos.nl/image/2017/04/13/369917/128x72.jpg 96w, https://cdn.nos.nl/image/2017/04/13/369917/320x180.jpg 240w, https://cdn.nos.nl/image/2017/04/13/369917/480x270.jpg 360w, https://cdn.nos.nl/image/2017/04/13/369917/640x360.jpg 480w, https://cdn.nos.nl/image/2017/04/13/369917/xxl.jpg 600w, https://cdn.nos.nl/image/2017/04/13/369917/1008x567.jpg 756w, https://cdn.nos.nl/image/2017/04/13/369917/1200x675.jpg 900w, https://cdn.nos.nl/image/2017/04/13/369917/1600x900.jpg 1200w, https://cdn.nos.nl/image/2017/04/13/369917/2048x1152.jpg 1536w\"/><img alt=\"\" class=\"sc-89aee953-1 dQLfsp\" decoding=\"async\" loading=\"lazy\" src=\"https://cdn.nos.nl/image/2017/04/13/369917/xxl.jpg\"/></picture></span></div><div class=\"sc-f75afcb6-0 bNrJZy\"><div class=\"sc-d6d7be46-0 jjSfnY sc-f75afcb6-6 hGGBnM\" data-testid=\"metadata-container\"><span><time datetime=\"2018-06-03T21:50:25+0200\">zondag 3 juni 2018, 21:50</time></span><span>•</span><span>Nieuwsuur</span></div><h2 class=\"sc-f75afcb6-3 lhteiV\">Is rundvlees eten vervuilender dan autorijden?</h2><p class=\"sc-f75afcb6-5 eZWFfJ\">Nieuw onderzoek toont aan dat vooral je biefstukje relatief erg vervuilend is. De onderzoekers pleiten voor het veganisme: alle dierlijke producten van het menu geschrapt.</p></div></a>, <a class=\"sc-f75afcb6-4 isiLEZ\" data-testid=\"listitem\" href=\"/artikel/2218583-nepleer-is-nu-ineens-veganistisch\"><div class=\"sc-f75afcb6-1 dwJDmr\"><span class=\"sc-89aee953-0 flpnmJ\"><picture><source media=\"\" sizes=\"(min-width: 760px) 165px, 100px\" srcset=\"https://cdn.nos.nl/image/2018/02/21/453663/128x72.jpg 96w, https://cdn.nos.nl/image/2018/02/21/453663/320x180.jpg 240w, https://cdn.nos.nl/image/2018/02/21/453663/480x270.jpg 360w, https://cdn.nos.nl/image/2018/02/21/453663/640x360.jpg 480w, https://cdn.nos.nl/image/2018/02/21/453663/xxl.jpg 600w, https://cdn.nos.nl/image/2018/02/21/453663/1008x567.jpg 756w, https://cdn.nos.nl/image/2018/02/21/453663/1200x675.jpg 900w, https://cdn.nos.nl/image/2018/02/21/453663/1600x900.jpg 1200w, https://cdn.nos.nl/image/2018/02/21/453663/2048x1152.jpg 1536w\"/><img alt=\"\" class=\"sc-89aee953-1 dQLfsp\" decoding=\"async\" loading=\"lazy\" src=\"https://cdn.nos.nl/image/2018/02/21/453663/xxl.jpg\"/></picture></span></div><div class=\"sc-f75afcb6-0 bNrJZy\"><div class=\"sc-d6d7be46-0 jjSfnY sc-f75afcb6-6 hGGBnM\" data-testid=\"metadata-container\"><span><time datetime=\"2018-02-21T11:36:49+0100\">woensdag 21 februari 2018, 11:36</time></span></div><h2 class=\"sc-f75afcb6-3 lhteiV\">'Nepleer is nu ineens veganistisch'</h2><p class=\"sc-f75afcb6-5 eZWFfJ\">Meer schoenmerken willen zich een diervriendelijk imago aanmeten met schoenen van 'veganistisch leer'. Is dit echt een nieuw materiaal, of proberen winkels makkelijk te scoren?</p></div></a>, <a class=\"sc-f75afcb6-4 isiLEZ\" data-testid=\"listitem\" href=\"/artikel/2208423-mcdonald-s-komt-met-mcvegan-over-15-jaar-zijn-alle-snacks-vega\"><div class=\"sc-f75afcb6-1 dwJDmr\"><span class=\"sc-89aee953-0 flpnmJ\"><picture><source media=\"\" sizes=\"(min-width: 760px) 165px, 100px\" srcset=\"https://cdn.nos.nl/image/2017/12/19/438998/128x72.jpg 96w, https://cdn.nos.nl/image/2017/12/19/438998/320x180.jpg 240w, https://cdn.nos.nl/image/2017/12/19/438998/480x270.jpg 360w, https://cdn.nos.nl/image/2017/12/19/438998/640x360.jpg 480w, https://cdn.nos.nl/image/2017/12/19/438998/xxl.jpg 600w, https://cdn.nos.nl/image/2017/12/19/438998/1008x567.jpg 756w, https://cdn.nos.nl/image/2017/12/19/438998/1200x675.jpg 900w, https://cdn.nos.nl/image/2017/12/19/438998/1600x900.jpg 1200w, https://cdn.nos.nl/image/2017/12/19/438998/2048x1152.jpg 1536w\"/><img alt=\"\" class=\"sc-89aee953-1 dQLfsp\" decoding=\"async\" loading=\"lazy\" src=\"https://cdn.nos.nl/image/2017/12/19/438998/xxl.jpg\"/></picture></span></div><div class=\"sc-f75afcb6-0 bNrJZy\"><div class=\"sc-d6d7be46-0 jjSfnY sc-f75afcb6-6 hGGBnM\" data-testid=\"metadata-container\"><span><time datetime=\"2017-12-19T20:13:58+0100\">dinsdag 19 december 2017, 20:13</time></span></div><h2 class=\"sc-f75afcb6-3 lhteiV\">McDonald's komt met McVegan: 'Over 15 jaar zijn alle snacks vega'</h2><p class=\"sc-f75afcb6-5 eZWFfJ\">Vanaf 28 december is de McVegan te koop in Zweden en Finland. Dat was te verwachten, zegt duurzame voedselexpert Marco Agema. </p></div></a>, <a class=\"sc-f75afcb6-4 isiLEZ\" data-testid=\"listitem\" href=\"/nieuwsuur/video/2204560-veganisme-is-populair-maar-is-het-ook-gezond\"><div class=\"sc-f75afcb6-1 dwJDmr\"><span class=\"sc-89aee953-0 flpnmJ\"><picture><source media=\"\" sizes=\"(min-width: 760px) 165px, 100px\" srcset=\"https://cdn.nos.nl/image/2017/11/25/433714/128x72.jpg 96w, https://cdn.nos.nl/image/2017/11/25/433714/320x180.jpg 240w, https://cdn.nos.nl/image/2017/11/25/433714/480x270.jpg 360w, https://cdn.nos.nl/image/2017/11/25/433714/640x360.jpg 480w, https://cdn.nos.nl/image/2017/11/25/433714/xxl.jpg 600w, https://cdn.nos.nl/image/2017/11/25/433714/1008x567.jpg 756w, https://cdn.nos.nl/image/2017/11/25/433714/1200x675.jpg 900w, https://cdn.nos.nl/image/2017/11/25/433714/1600x900.jpg 1200w, https://cdn.nos.nl/image/2017/11/25/433714/2048x1152.jpg 1536w\"/><img alt=\"\" class=\"sc-89aee953-1 dQLfsp\" decoding=\"async\" loading=\"lazy\" src=\"https://cdn.nos.nl/image/2017/11/25/433714/xxl.jpg\"/></picture></span><div class=\"sc-f75afcb6-2 hZcrHU\"><span class=\"sc-25fb26b3-0 bHzpyE\"><span class=\"sc-25fb26b3-1 kSTlQS\"><svg height=\"24\" role=\"presentation\" viewBox=\"0 0 24 24\" width=\"24\" xmlns=\"http://www.w3.org/2000/svg\"><path d=\"M7.706 2.467C5.694 1.247 3 2.558 3 4.757v14.486c0 2.198 2.694 3.51 4.706 2.29l11.946-7.243c1.797-1.09 1.797-3.49 0-4.58L7.706 2.467z\" fill=\"#FFF\"></path></svg></span><span class=\"sc-25fb26b3-2 dwxgYe\">6:43</span></span></div></div><div class=\"sc-f75afcb6-0 bNrJZy\"><div class=\"sc-d6d7be46-0 jjSfnY sc-f75afcb6-6 hGGBnM\" data-testid=\"metadata-container\"><span><time datetime=\"2017-11-25T19:06:49+0100\">zaterdag 25 november 2017, 19:06</time></span><span>•</span><span>Nieuwsuur</span></div><h2 class=\"sc-f75afcb6-3 lhteiV\">Veganisme is populair, maar is het ook gezond?</h2><p class=\"sc-f75afcb6-5 eZWFfJ\">Veganistische ijswinkels, veganistische producten in de supermarkt, veganistische restaurants. Veganisme is hip.</p></div></a>, <a class=\"sc-f75afcb6-4 isiLEZ\" data-testid=\"listitem\" href=\"/nieuwsuur/artikel/2204524-veganisme-is-populair-maar-is-het-ook-gezond\"><div class=\"sc-f75afcb6-1 dwJDmr\"><span class=\"sc-89aee953-0 flpnmJ\"><picture><source media=\"\" sizes=\"(min-width: 760px) 165px, 100px\" srcset=\"https://cdn.nos.nl/image/2017/11/25/433641/128x72.jpg 96w, https://cdn.nos.nl/image/2017/11/25/433641/320x180.jpg 240w, https://cdn.nos.nl/image/2017/11/25/433641/480x270.jpg 360w, https://cdn.nos.nl/image/2017/11/25/433641/640x360.jpg 480w, https://cdn.nos.nl/image/2017/11/25/433641/xxl.jpg 600w, https://cdn.nos.nl/image/2017/11/25/433641/1008x567.jpg 756w, https://cdn.nos.nl/image/2017/11/25/433641/1200x675.jpg 900w, https://cdn.nos.nl/image/2017/11/25/433641/1600x900.jpg 1200w, https://cdn.nos.nl/image/2017/11/25/433641/2048x1152.jpg 1536w\"/><img alt=\"\" class=\"sc-89aee953-1 dQLfsp\" decoding=\"async\" loading=\"lazy\" src=\"https://cdn.nos.nl/image/2017/11/25/433641/xxl.jpg\"/></picture></span></div><div class=\"sc-f75afcb6-0 bNrJZy\"><div class=\"sc-d6d7be46-0 jjSfnY sc-f75afcb6-6 hGGBnM\" data-testid=\"metadata-container\"><span><time datetime=\"2017-11-25T15:50:09+0100\">zaterdag 25 november 2017, 15:50</time></span><span>•</span><span>Nieuwsuur</span></div><h2 class=\"sc-f75afcb6-3 lhteiV\">Veganisme is populair, maar is het ook gezond?</h2><p class=\"sc-f75afcb6-5 eZWFfJ\">Vooral in de Randstad eten mensen meer en meer plantaardige producten. Want veganisme is hip en lijkt een succes als nieuwe levensstijl. Maar doet een veganist zichzelf niet tekort?</p></div></a>, <a class=\"sc-f75afcb6-4 isiLEZ\" data-testid=\"listitem\" href=\"/op3/artikel/2128277-veganisme-is-booming-business-in-israel\"><div class=\"sc-f75afcb6-1 dwJDmr\"><span class=\"sc-89aee953-0 flpnmJ\"><picture><source media=\"\" sizes=\"(min-width: 760px) 165px, 100px\" srcset=\"https://cdn.nos.nl/image/2016/08/26/312204/128x72.jpg 96w, https://cdn.nos.nl/image/2016/08/26/312204/320x180.jpg 240w, https://cdn.nos.nl/image/2016/08/26/312204/480x270.jpg 360w, https://cdn.nos.nl/image/2016/08/26/312204/640x360.jpg 480w, https://cdn.nos.nl/image/2016/08/26/312204/xxl.jpg 600w, https://cdn.nos.nl/image/2016/08/26/312204/1008x567.jpg 756w, https://cdn.nos.nl/image/2016/08/26/312204/1200x675.jpg 900w, https://cdn.nos.nl/image/2016/08/26/312204/1600x900.jpg 1200w, https://cdn.nos.nl/image/2016/08/26/312204/2048x1152.jpg 1536w\"/><img alt=\"\" class=\"sc-89aee953-1 dQLfsp\" decoding=\"async\" loading=\"lazy\" src=\"https://cdn.nos.nl/image/2016/08/26/312204/xxl.jpg\"/></picture></span></div><div class=\"sc-f75afcb6-0 bNrJZy\"><div class=\"sc-d6d7be46-0 jjSfnY sc-f75afcb6-6 hGGBnM\" data-testid=\"metadata-container\"><span><time datetime=\"2016-08-26T14:04:59+0200\">vrijdag 26 augustus 2016, 14:04</time></span><span>•</span><span>NOS op 3</span></div><h2 class=\"sc-f75afcb6-3 lhteiV\">Veganisme is booming business  in Israël</h2><p class=\"sc-f75afcb6-5 eZWFfJ\">In Israël is de markt voor veganistische producten groot. Daardoor is er veel ruimte voor innovatie. Sinds kort kent het land bijvoorbeeld een veganistische chocoladefabriek.</p></div></a>, <a class=\"sc-f75afcb6-4 isiLEZ\" data-testid=\"listitem\" href=\"/artikel/2099574-discussierende-demonstranten-en-politie-botsen-in-parijs\"><div class=\"sc-f75afcb6-1 dwJDmr\"><span class=\"sc-89aee953-0 flpnmJ\"><picture><source media=\"\" sizes=\"(min-width: 760px) 165px, 100px\" srcset=\"https://cdn.nos.nl/image/2016/04/16/274396/128x72.jpg 96w, https://cdn.nos.nl/image/2016/04/16/274396/320x180.jpg 240w, https://cdn.nos.nl/image/2016/04/16/274396/480x270.jpg 360w, https://cdn.nos.nl/image/2016/04/16/274396/640x360.jpg 480w, https://cdn.nos.nl/image/2016/04/16/274396/xxl.jpg 600w, https://cdn.nos.nl/image/2016/04/16/274396/1008x567.jpg 756w, https://cdn.nos.nl/image/2016/04/16/274396/1200x675.jpg 900w, https://cdn.nos.nl/image/2016/04/16/274396/1600x900.jpg 1200w, https://cdn.nos.nl/image/2016/04/16/274396/2048x1152.jpg 1536w\"/><img alt=\"\" class=\"sc-89aee953-1 dQLfsp\" decoding=\"async\" loading=\"lazy\" src=\"https://cdn.nos.nl/image/2016/04/16/274396/xxl.jpg\"/></picture></span></div><div class=\"sc-f75afcb6-0 bNrJZy\"><div class=\"sc-d6d7be46-0 jjSfnY sc-f75afcb6-6 hGGBnM\" data-testid=\"metadata-container\"><span><time datetime=\"2016-04-16T16:46:22+0200\">zaterdag 16 april 2016, 16:46</time></span></div><h2 class=\"sc-f75afcb6-3 lhteiV\">Discussiërende demonstranten en politie botsen in Parijs</h2><p class=\"sc-f75afcb6-5 eZWFfJ\">Al meer dan twee weken wordt in Parijs gediscussieerd en gedemonstreerd tegen sociale ongelijkheid. Vannacht liep het uit de hand.</p></div></a>, <a class=\"sc-f75afcb6-4 isiLEZ\" data-testid=\"listitem\" href=\"/op3/artikel/2090859-gaat-het-nieuwe-vlees-het-oude-vlees-verslaan\"><div class=\"sc-f75afcb6-1 dwJDmr\"><span class=\"sc-89aee953-0 flpnmJ\"><picture><source media=\"\" sizes=\"(min-width: 760px) 165px, 100px\" srcset=\"https://cdn.nos.nl/image/2016/03/05/262111/128x72.jpg 96w, https://cdn.nos.nl/image/2016/03/05/262111/320x180.jpg 240w, https://cdn.nos.nl/image/2016/03/05/262111/480x270.jpg 360w, https://cdn.nos.nl/image/2016/03/05/262111/640x360.jpg 480w, https://cdn.nos.nl/image/2016/03/05/262111/xxl.jpg 600w, https://cdn.nos.nl/image/2016/03/05/262111/1008x567.jpg 756w, https://cdn.nos.nl/image/2016/03/05/262111/1200x675.jpg 900w, https://cdn.nos.nl/image/2016/03/05/262111/1600x900.jpg 1200w, https://cdn.nos.nl/image/2016/03/05/262111/2048x1152.jpg 1536w\"/><img alt=\"\" class=\"sc-89aee953-1 dQLfsp\" decoding=\"async\" loading=\"lazy\" src=\"https://cdn.nos.nl/image/2016/03/05/262111/xxl.jpg\"/></picture></span></div><div class=\"sc-f75afcb6-0 bNrJZy\"><div class=\"sc-d6d7be46-0 jjSfnY sc-f75afcb6-6 hGGBnM\" data-testid=\"metadata-container\"><span><time datetime=\"2016-03-05T16:46:24+0100\">zaterdag 5 maart 2016, 16:46</time></span><span>•</span><span>NOS op 3</span></div><h2 class=\"sc-f75afcb6-3 lhteiV\">Gaat het nieuwe vlees het oude vlees verslaan?</h2><p class=\"sc-f75afcb6-5 eZWFfJ\">Dit weekend staat de veganistenbeurs VeggieWorld voor het eerst in Nederland, in de Jaarbeurs in Utrecht. En daar is het druk.</p></div></a>]\n"
     ]
    }
   ],
   "source": [
    "from util_html import *\n",
    "\n",
    "keyword=\"veganisme\"\n",
    "url = \"https://nos.nl/zoeken/?q=\" + keyword\n",
    "\n",
    "print('The search request URL:', url)\n",
    "\n",
    "parser_content= url_to_html(url)\n",
    "\n",
    "# The class for the search results has a weird name\n",
    "# You can find it out when you look at the HTML source in your web browser\n",
    "search_results = parser_content.find_all(\"a\", {\"class\":\"sc-f75afcb6-4 isiLEZ\"})\n",
    "\n",
    "# For comparison, print the full output, scroll through it and make sure you find the search results in there. \n",
    "print(search_results)"
   ]
  },
  {
   "cell_type": "code",
   "execution_count": 4,
   "metadata": {},
   "outputs": [
    {
     "data": {
      "text/plain": [
       "[<div class=\"sc-d6d7be46-0 jjSfnY sc-f75afcb6-6 hGGBnM\" data-testid=\"metadata-container\"><span><time datetime=\"2019-12-09T15:29:45+0100\">maandag 9 december 2019, 15:29</time></span></div>,\n",
       " <div class=\"sc-d6d7be46-0 jjSfnY sc-f75afcb6-6 hGGBnM\" data-testid=\"metadata-container\"><span><time datetime=\"2019-11-10T22:19:48+0100\">zondag 10 november 2019, 22:19</time></span></div>,\n",
       " <div class=\"sc-d6d7be46-0 jjSfnY sc-f75afcb6-6 hGGBnM\" data-testid=\"metadata-container\"><span><time datetime=\"2018-08-25T15:56:43+0200\">zaterdag 25 augustus 2018, 15:56</time></span></div>,\n",
       " <div class=\"sc-d6d7be46-0 jjSfnY sc-f75afcb6-6 hGGBnM\" data-testid=\"metadata-container\"><span><time datetime=\"2018-06-03T21:50:25+0200\">zondag 3 juni 2018, 21:50</time></span><span>•</span><span>Nieuwsuur</span></div>,\n",
       " <div class=\"sc-d6d7be46-0 jjSfnY sc-f75afcb6-6 hGGBnM\" data-testid=\"metadata-container\"><span><time datetime=\"2018-02-21T11:36:49+0100\">woensdag 21 februari 2018, 11:36</time></span></div>,\n",
       " <div class=\"sc-d6d7be46-0 jjSfnY sc-f75afcb6-6 hGGBnM\" data-testid=\"metadata-container\"><span><time datetime=\"2017-12-19T20:13:58+0100\">dinsdag 19 december 2017, 20:13</time></span></div>,\n",
       " <div class=\"sc-d6d7be46-0 jjSfnY sc-f75afcb6-6 hGGBnM\" data-testid=\"metadata-container\"><span><time datetime=\"2017-11-25T19:06:49+0100\">zaterdag 25 november 2017, 19:06</time></span><span>•</span><span>Nieuwsuur</span></div>,\n",
       " <div class=\"sc-d6d7be46-0 jjSfnY sc-f75afcb6-6 hGGBnM\" data-testid=\"metadata-container\"><span><time datetime=\"2017-11-25T15:50:09+0100\">zaterdag 25 november 2017, 15:50</time></span><span>•</span><span>Nieuwsuur</span></div>,\n",
       " <div class=\"sc-d6d7be46-0 jjSfnY sc-f75afcb6-6 hGGBnM\" data-testid=\"metadata-container\"><span><time datetime=\"2016-08-26T14:04:59+0200\">vrijdag 26 augustus 2016, 14:04</time></span><span>•</span><span>NOS op 3</span></div>,\n",
       " <div class=\"sc-d6d7be46-0 jjSfnY sc-f75afcb6-6 hGGBnM\" data-testid=\"metadata-container\"><span><time datetime=\"2016-04-16T16:46:22+0200\">zaterdag 16 april 2016, 16:46</time></span></div>,\n",
       " <div class=\"sc-d6d7be46-0 jjSfnY sc-f75afcb6-6 hGGBnM\" data-testid=\"metadata-container\"><span><time datetime=\"2016-03-05T16:46:24+0100\">zaterdag 5 maart 2016, 16:46</time></span><span>•</span><span>NOS op 3</span></div>]"
      ]
     },
     "execution_count": 4,
     "metadata": {},
     "output_type": "execute_result"
    }
   ],
   "source": [
    "parser_content.find_all(\"div\",{\"class\":\"sc-d6d7be46-0 jjSfnY sc-f75afcb6-6 hGGBnM\"})"
   ]
  },
  {
   "cell_type": "code",
   "execution_count": 20,
   "metadata": {},
   "outputs": [],
   "source": [
    "titles = parser_content.find_all(\"h2\",{\"class\":\"sc-f75afcb6-3 lhteiV\"})\n",
    "s = str(titles[0])"
   ]
  },
  {
   "cell_type": "code",
   "execution_count": 21,
   "metadata": {},
   "outputs": [
    {
     "data": {
      "text/plain": [
       "'<h2 class=\"sc-f75afcb6-3 lhteiV\">Veganistische moeder niet langer geweerd van Moedermelkbank</h2>'"
      ]
     },
     "execution_count": 21,
     "metadata": {},
     "output_type": "execute_result"
    }
   ],
   "source": [
    "s"
   ]
  },
  {
   "cell_type": "code",
   "execution_count": 22,
   "metadata": {},
   "outputs": [
    {
     "data": {
      "text/plain": [
       "'Veganistische moeder niet langer geweerd van Moedermelkbank'"
      ]
     },
     "execution_count": 22,
     "metadata": {},
     "output_type": "execute_result"
    }
   ],
   "source": [
    "import re\n",
    "re.search(r'\\<h2 class\\=\\\"sc\\-f75afcb6\\-3 lhteiV\\\"\\>(.*?)\\<\\/h2\\>', s).group(1)"
   ]
  },
  {
   "cell_type": "code",
   "execution_count": 33,
   "metadata": {},
   "outputs": [],
   "source": [
    "def get_nos_content_and_section(url):\n",
    "    '''\n",
    "    Get the text from url link\n",
    "    '''\n",
    "    soup = BeautifulSoup(requests.get(url).text,\"html5lib\")\n",
    "    section_container = soup.select(\"p\",{\"class\":\"sc-f9df6382-7 cMuisv\"}) # NOS section class\n",
    "    section = re.search(r'cMuisv\\\"\\>(.*?)\\<\\/p\\>', str(section_container)).group(1)\n",
    "    return section"
   ]
  },
  {
   "cell_type": "code",
   "execution_count": 34,
   "metadata": {},
   "outputs": [
    {
     "data": {
      "text/plain": [
       "'Buitenland'"
      ]
     },
     "execution_count": 34,
     "metadata": {},
     "output_type": "execute_result"
    }
   ],
   "source": [
    "get_nos_content_and_section('https://nos.nl/artikel/2455639-groenlandse-vrouwen-kregen-ook-na-1991-nog-ongewilde-anticonceptie')"
   ]
  },
  {
   "cell_type": "markdown",
   "metadata": {},
   "source": [
    "## 2. Collecting results"
   ]
  },
  {
   "cell_type": "markdown",
   "metadata": {},
   "source": [
    "If you inspect the search results, you can see that they have different properties such as *title*, *time*, and *category*. It would be possible, to filter our results based on these categories. For the moment, we only want to collect the links to the articles in a list.  \n",
    "\n",
    "We iterate through all links, send a request and extract the text. Then we store the text in a file."
   ]
  },
  {
   "cell_type": "code",
   "execution_count": 2,
   "metadata": {
    "scrolled": true
   },
   "outputs": [
    {
     "name": "stdout",
     "output_type": "stream",
     "text": [
      "0 https://nos.nl//artikel/2314011-veganistische-moeder-niet-langer-geweerd-van-moedermelkbank\n",
      "1 https://nos.nl//artikel/2309909-ellen-degeneres-krijgt-golden-globe-oeuvreprijs\n",
      "2 https://nos.nl//artikel/2247497-veganisten-protesteren-in-amsterdam-tegen-hamburgers-en-bontjassen\n",
      "3 https://nos.nl//nieuwsuur/artikel/2234918-is-rundvlees-eten-vervuilender-dan-autorijden\n",
      "4 https://nos.nl//artikel/2218583-nepleer-is-nu-ineens-veganistisch\n",
      "5 https://nos.nl//artikel/2208423-mcdonald-s-komt-met-mcvegan-over-15-jaar-zijn-alle-snacks-vega\n",
      "6 https://nos.nl//nieuwsuur/video/2204560-veganisme-is-populair-maar-is-het-ook-gezond\n",
      "7 https://nos.nl//nieuwsuur/artikel/2204524-veganisme-is-populair-maar-is-het-ook-gezond\n",
      "8 https://nos.nl//op3/artikel/2128277-veganisme-is-booming-business-in-israel\n",
      "9 https://nos.nl//artikel/2099574-discussierende-demonstranten-en-politie-botsen-in-parijs\n",
      "10 https://nos.nl//op3/artikel/2090859-gaat-het-nieuwe-vlees-het-oude-vlees-verslaan\n"
     ]
    }
   ],
   "source": [
    "domain = \"https://nos.nl/\"\n",
    "for i, link in enumerate(search_results):    \n",
    "    found_url = domain + link[\"href\"]\n",
    "    print(i, found_url)\n",
    "    \n",
    "    # Extract text and add the url as first line\n",
    "    text = found_url + '\\n'+ url_to_string(found_url) \n",
    "    \n",
    "    # Save in file\n",
    "    dir = \"../results/nos_search_results/\"\n",
    "    filename = keyword + \"_\" + str(i) + \".txt\"\n",
    "    with open(dir + filename, \"w\", encoding = \"utf-8\") as f:\n",
    "        f.write(text)\n"
   ]
  },
  {
   "cell_type": "markdown",
   "metadata": {},
   "source": [
    "## 3. Inspecting data"
   ]
  },
  {
   "cell_type": "markdown",
   "metadata": {},
   "source": [
    "Once you collected your preliminary data, the most important pre-processing phase begins: **Data Analyis**. \n",
    "\n",
    "Inspect the collected files and examine the following aspects: \n",
    "- Are the articles related to the topic that you had in mind when choosing the keyword? Or do you need to re-adjust the query? Many search engines allow you to use combinations of keywords using regular expressions in your queries.\n",
    "- Is the data structure of the results homogeneous?\n",
    "- How useful is the extracted text? What kind of additional data pre-processing would be helpful? How could you do that? \n",
    "- Can you identify different thematic groups or perspectives in the results? Are the differences reflected in the language? \n",
    " "
   ]
  },
  {
   "cell_type": "markdown",
   "metadata": {},
   "source": [
    "**Try out other public APIs to collect texts from interesting sources. You can find some examples here: https://github.com/public-apis/public-apis. Experiment with data from different languages.** \n",
    "\n",
    "How do you need to adjust the code? \n",
    "\n",
    "Note: Many APIs require that you register and obtain an API Key. This key is an identifier that you add to the query. It controls the number of queries that you send to avoid abuse.  "
   ]
  }
 ],
 "metadata": {
  "kernelspec": {
   "display_name": "py3.9",
   "language": "python",
   "name": "py3.9"
  },
  "language_info": {
   "codemirror_mode": {
    "name": "ipython",
    "version": 3
   },
   "file_extension": ".py",
   "mimetype": "text/x-python",
   "name": "python",
   "nbconvert_exporter": "python",
   "pygments_lexer": "ipython3",
   "version": "3.9.18"
  }
 },
 "nbformat": 4,
 "nbformat_minor": 4
}
