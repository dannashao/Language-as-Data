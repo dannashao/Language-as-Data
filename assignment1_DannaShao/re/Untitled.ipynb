{
 "cells": [
  {
   "cell_type": "code",
   "execution_count": 7,
   "id": "7f5e84ae-ab86-4120-828f-42678251b7d6",
   "metadata": {},
   "outputs": [],
   "source": [
    "import http.client, urllib.parse, json\n",
    "import pandas as pd\n",
    "import requests\n",
    "import re\n",
    "from bs4 import BeautifulSoup\n",
    "import html5lib\n",
    "import os\n",
    "import sys\n",
    "from tqdm import tqdm"
   ]
  },
  {
   "cell_type": "code",
   "execution_count": 3,
   "id": "eb44f5ea-150e-4ceb-98c9-5aa28b0a5e64",
   "metadata": {},
   "outputs": [],
   "source": [
    "######## NOS SCRAPE ########\n",
    "def url_to_html(url):\n",
    "    \"\"\"Scrapes the html content from a web page. Takes a URL string as input and returns an html object. \"\"\"\n",
    "    # THIS FUNCTION COMES FROM Lab 1 of the course Language as Data 2023, Vrije Universiteit Amsterdam. \n",
    "    # Get the html content\n",
    "    headers = {\n",
    "    'user-agent': 'Mozilla/5.0 (X11; Ubuntu; Linux x86_64; rv:109.0) Gecko/20100101 Firefox/119.0',\n",
    "    }\n",
    "    cookies = dict(cookie='kantar_id=1700790955666_87044266; atidvisitor=%7B%22name%22%3A%22atidvisitor%22%2C%22val%22%3A%7B%22vrn%22%3A%22-595271--596579-%22%7D%2C%22options%22%3A%7B%22path%22%3A%22%2F%22%2C%22session%22%3A15724800%2C%22end%22%3A15724800%7D%7D; atuserid=%7B%22name%22%3A%22atuserid%22%2C%22val%22%3A%2249fcf06b-68f6-494b-a5c6-1c2f8b7b60ee%22%2C%22options%22%3A%7B%22end%22%3A%222024-12-25T01%3A55%3A55.697Z%22%2C%22path%22%3A%22%2F%22%7D%7D; CCM_Wrapper_Cache=eyJ2ZXIiOiJ2My4yLjUiLCJqc2giOiIiLCJjaWQiOiJ1dlk0d0JTWDJsRm1pVTJtIiwiY29uaWQiOiJJazlHSCJ9; Cookie_Consent=Fri Nov 24 2023 02:58:03 GMT+0100 (Central European Standard Time); CCM_ID=uvY4wBSX2lFmiU2m; Cookie_Category_Necessary=true; Cookie_Category_Analytics=true')\n",
    "    \n",
    "    res = requests.get(url, headers=headers, cookies=cookies)\n",
    "    #res = requests.get(url + \".pdf\", headers={\"User-Agent\": \"XY\"})\n",
    "    html = res.text\n",
    "    parser_content = BeautifulSoup(html, 'html5lib')\n",
    "    return parser_content"
   ]
  },
  {
   "cell_type": "code",
   "execution_count": 196,
   "id": "e28e6fb4-2993-41a7-a4ac-a93ee939e4a2",
   "metadata": {},
   "outputs": [],
   "source": [
    "from selenium.webdriver import ActionChains\n",
    "from selenium.webdriver.common.by import By\n",
    "from selenium import webdriver\n",
    "from selenium.webdriver.support.ui import WebDriverWait\n",
    "\n",
    "keyword = \"abortus\"\n",
    "search_url = \"https://nos.nl/zoeken/?q=\" + keyword + \"&page=1\"\n",
    "driver = webdriver.Chrome(service=ChromeService(ChromeDriverManager().install()))\n",
    "driver.get(search_url)\n",
    "\n",
    "time.sleep(10)\n",
    "driver.find_element(\"xpath\", '/html/body/div[2]/main/div/form/div[2]/div/ul[1]/li[9]/a').click()\n",
    "#driver.switch_to.frame(\"#ccm_notification\")\n",
    "#driver.find_element(By.CSS_SELECTOR, \"#ccm_close\")\n",
    "#ActionChains(driver).click('<button title=\"Sluiten\" id=\"ccm_close\"></button>').perform()\n",
    "#driver.find_element(\"xpath\", '/html/body/div[4]//div/div[2]/div/div/button').click()"
   ]
  },
  {
   "cell_type": "code",
   "execution_count": null,
   "id": "053c7809-3906-4a67-83e9-a325d207982d",
   "metadata": {},
   "outputs": [],
   "source": []
  },
  {
   "cell_type": "code",
   "execution_count": 208,
   "id": "ef0c7006-d467-4e2a-b401-8e9ca29b8abc",
   "metadata": {},
   "outputs": [],
   "source": [
    "def get_nos_metadata_with_selenium(keyword, page_range):\n",
    "    from selenium import webdriver\n",
    "    from selenium.webdriver.chrome.service import Service as ChromeService\n",
    "    from webdriver_manager.chrome import ChromeDriverManager\n",
    "    from selenium.webdriver import ActionChains\n",
    "    import time as tm\n",
    "    import re\n",
    "    \n",
    "    driver = webdriver.Chrome(service=ChromeService(ChromeDriverManager().install()))\n",
    "\n",
    "    urls = []\n",
    "    titles = []\n",
    "    times = []\n",
    "    search_url = \"https://nos.nl/zoeken/?q=\" + keyword + \"&page=1\"\n",
    "    driver.get(search_url)\n",
    "    tm.sleep(6)\n",
    "    i=1\n",
    "    while i <= page_range:\n",
    "        tm.sleep(0.1)\n",
    "        soup = BeautifulSoup(driver.page_source, 'html.parser')\n",
    "        links = soup(attrs={'class': 'sc-f75afcb6-4 isiLEZ'})\n",
    "        result_times = soup(attrs={'class': 'sc-d6d7be46-0 jjSfnY sc-f75afcb6-6 hGGBnM'})\n",
    "        result_titles = soup(attrs={'class': 'sc-f75afcb6-3 lhteiV'})\n",
    "        \n",
    "        for link in links:\n",
    "            urls.append('https://nos.nl'+link['href'])\n",
    "            \n",
    "        for time in result_times:\n",
    "            article_time = str(time)\n",
    "            times.append(re.search(r'datetime\\=\\\"(.*?)\\\"', article_time).group(1))\n",
    "\n",
    "        for title in result_titles:\n",
    "            article_title = re.search(r'\\<h2 class\\=\\\"sc\\-f75afcb6\\-3 lhteiV\\\"\\>(.*?)\\<\\/h2\\>', str(title)).group(1)\n",
    "            titles.append(article_title)\n",
    "        \n",
    "        driver.find_element(\"xpath\", '/html/body/div[2]/main/div/form/div[2]/div/ul[1]/li[9]/a').click()\n",
    "        i += 1\n",
    "        \n",
    "    return times, titles, urls"
   ]
  },
  {
   "cell_type": "code",
   "execution_count": 8,
   "id": "e9907ada-5347-43f7-995c-169407757397",
   "metadata": {},
   "outputs": [],
   "source": [
    "def get_nos_metadata(keyword, page_range):\n",
    "    '''\n",
    "    Scrape NOS metadata from the search page since it does not have an official API\n",
    "    '''\n",
    "    import time as tm\n",
    "    urls = []\n",
    "    titles = []\n",
    "    times = []\n",
    "    domain = \"https://nos.nl/\"\n",
    "    headers = {\n",
    "    'user-agent': 'Mozilla/5.0 (X11; Ubuntu; Linux x86_64; rv:109.0) Gecko/20100101 Firefox/119.0',\n",
    "    }\n",
    "    cookies = dict(cookie='kantar_id=1700790955666_87044266; atidvisitor=%7B%22name%22%3A%22atidvisitor%22%2C%22val%22%3A%7B%22vrn%22%3A%22-595271--596579-%22%7D%2C%22options%22%3A%7B%22path%22%3A%22%2F%22%2C%22session%22%3A15724800%2C%22end%22%3A15724800%7D%7D; atuserid=%7B%22name%22%3A%22atuserid%22%2C%22val%22%3A%2249fcf06b-68f6-494b-a5c6-1c2f8b7b60ee%22%2C%22options%22%3A%7B%22end%22%3A%222024-12-25T01%3A55%3A55.697Z%22%2C%22path%22%3A%22%2F%22%7D%7D; CCM_Wrapper_Cache=eyJ2ZXIiOiJ2My4yLjUiLCJqc2giOiIiLCJjaWQiOiJ1dlk0d0JTWDJsRm1pVTJtIiwiY29uaWQiOiJJazlHSCJ9; Cookie_Consent=Fri Nov 24 2023 02:58:03 GMT+0100 (Central European Standard Time); CCM_ID=uvY4wBSX2lFmiU2m; Cookie_Category_Necessary=true; Cookie_Category_Analytics=true')\n",
    "    #baggage = dict(baggage = 'sentry-environment=production,sentry-release=production%4015.2.1,sentry-transaction=%2Fzoeken,sentry-public_key=3caf4fd1080f42859504caf5189fa266,sentry-trace_id=c6587f27595b44638850d45e9fc6cdc9,sentry-sample_rate=0')\n",
    "    \n",
    "    for i in range(1,page_range+1):\n",
    "        js_url = \"https://atconnect.npo.nl/hit.xiti?s=595271&idclient=49fcf06b-68f6-494b-a5c6-1c2f8b7b60ee&ts=1700791633386&vtag=5.29.1&ptag=js&r=2560x1440x24x24&re=2490x1328&hl=3x7x13&lng=en-US&p=site.search.pagination.\" + str(i) + \".open&click=A&s2=1&pclick=search.abortus.open&s2click=1\"\n",
    "        requests.post(js_url, headers=headers,cookies=cookies)\n",
    "        search_url = \"https://nos.nl/zoeken/?q=\" + keyword + \"&page=\" + str(i)\n",
    "        requests.post(\"https://o314617.ingest.sentry.io/api/5686804/envelope/?sentry_key=3caf4fd1080f42859504caf5189fa266&sentry_version=7&sentry_client=sentry.javascript.nextjs%2F7.39.0\", headers=headers)\n",
    "        requests.post(\"https://o314617.ingest.sentry.io/api/5686804/envelope/?sentry_key=3caf4fd1080f42859504caf5189fa266&sentry_version=7&sentry_client=sentry.javascript.nextjs%2F7.39.0\", headers=headers)\n",
    "        parser_content= url_to_html(search_url)\n",
    "        result_url = parser_content.find_all(\"a\", {\"class\":\"sc-f75afcb6-4 isiLEZ\"})\n",
    "        result_times = parser_content.find_all(\"div\",{\"class\":\"sc-d6d7be46-0 jjSfnY sc-f75afcb6-6 hGGBnM\"})\n",
    "        result_titles = parser_content.find_all(\"h2\",{\"class\":\"sc-f75afcb6-3 lhteiV\"})\n",
    "        for j, url in enumerate(result_url):\n",
    "            article_url = domain + url[\"href\"]\n",
    "            urls.append(article_url)\n",
    "        for m, title in enumerate(result_titles):\n",
    "            article_title = re.search(r'\\<h2 class\\=\\\"sc\\-f75afcb6\\-3 lhteiV\\\"\\>(.*?)\\<\\/h2\\>', str(title)).group(1)\n",
    "            titles.append(article_title)\n",
    "        for k,time in enumerate(result_times):\n",
    "            article_time = re.search(r'time datetime\\=\\\"(.*?)\\\"\\>', str(time)).group(1)\n",
    "            times.append(article_time)\n",
    "            \n",
    "        tm.sleep(40)\n",
    "    return times, titles, urls\n",
    "\n",
    "nos_metadata2 = get_nos_metadata(keyword = \"abortus\", page_range = 2) # scraping some extra links as there may be invalid video links"
   ]
  },
  {
   "cell_type": "code",
   "execution_count": 209,
   "id": "961ba90f-07c6-478b-a3c6-1c682eba4710",
   "metadata": {},
   "outputs": [],
   "source": [
    "nos_metadata = get_nos_metadata_with_selenium(keyword = \"abortus\", page_range = 40)"
   ]
  },
  {
   "cell_type": "code",
   "execution_count": 210,
   "id": "065785bf-fb6f-4722-bf0a-14c5c4a55c1f",
   "metadata": {},
   "outputs": [],
   "source": [
    "def remove_nos_dups_and_vids(metadata):\n",
    "    '''\n",
    "    remove the duplicates and\n",
    "    NOS search results sometimes includes video links\n",
    "    example: https://nos.nl/nieuwsuur/video/2496544-cu-lid-annelijn-door-wie-wil-je-eigenlijk-aardig-gevonden-worden\n",
    "    This function removes such links\n",
    "    '''\n",
    "    df = pd.DataFrame(metadata).T.rename(columns={0:'time', 1:'title', 2:'url'})\n",
    "    df = df.drop_duplicates(subset='url', keep=\"last\")\n",
    "    video_pattern = \"\\/video\\/\"\n",
    "    filter = df['url'].str.contains(video_pattern)\n",
    "    cleaned_df = df[~filter].head(600)\n",
    "    \n",
    "    return cleaned_df\n",
    "\n",
    "cleaned_nos_metadata = remove_nos_dups_and_vids(nos_metadata)"
   ]
  },
  {
   "cell_type": "code",
   "execution_count": 216,
   "id": "d6761a7d-3a08-4fa7-96c2-1480bf0ce515",
   "metadata": {},
   "outputs": [
    {
     "data": {
      "text/plain": [
       "0     https://nos.nl/artikel/2497109-conservatieve-s...\n",
       "2     https://nos.nl/artikel/2495085-podcast-de-dag-...\n",
       "3     https://nos.nl/artikel/2494020-met-vrouwenrech...\n",
       "4     https://nos.nl/artikel/2493865-aantal-abortuss...\n",
       "6     https://nos.nl/artikel/2489520-hoogste-hof-mex...\n",
       "7     https://nos.nl/artikel/2485970-regels-referend...\n",
       "8     https://nos.nl/artikel/2485959-referendum-ohio...\n",
       "10    https://nos.nl/artikel/2486982-stijgende-sterf...\n",
       "11    https://nos.nl/nieuwsuur/artikel/2497513-nieuw...\n",
       "12    https://nos.nl/nieuwsuur/artikel/2496542-chris...\n",
       "13    https://nos.nl/artikel/2497388-poolse-oppositi...\n",
       "14    https://nos.nl/artikel/2494631-belangrijkste-m...\n",
       "15    https://nos.nl/artikel/2495031-nog-geen-nieuwe...\n",
       "16    https://nos.nl/artikel/2498505-uiterst-rechtse...\n",
       "17    https://nos.nl/artikel/2492262-sgp-kwetsbaar-l...\n",
       "18    https://nos.nl/liveblog/2497872-beeld-in-peili...\n",
       "19    https://nos.nl/artikel/2482705-amerikaanse-vro...\n",
       "20    https://nos.nl/artikel/2497245-vvd-en-gl-pvda-...\n",
       "21    https://nos.nl/artikel/2494960-rechtse-econoom...\n",
       "22    https://nos.nl/artikel/2489526-wekdienst-7-9-e...\n",
       "Name: url, dtype: object"
      ]
     },
     "execution_count": 216,
     "metadata": {},
     "output_type": "execute_result"
    }
   ],
   "source": [
    "cleaned_nos_metadata.head(20)[\"url\"]"
   ]
  },
  {
   "cell_type": "code",
   "execution_count": null,
   "id": "f43d82ec-a85c-438a-8046-8efb7379911c",
   "metadata": {},
   "outputs": [],
   "source": []
  },
  {
   "cell_type": "code",
   "execution_count": null,
   "id": "2539e068-7512-43b5-81fe-8e51d5902b85",
   "metadata": {},
   "outputs": [],
   "source": [
    "soup = BeautifulSoup(requests.get(url).text,\"html5lib\")\n",
    "section_container = soup.select(\"p\",{\"class\":\"sc-f9df6382-7 cMuisv\"}) # NOS section class\n",
    "section = re.search(r'cMuisv\\\"\\>(.*?)\\<\\/p\\>', str(section_container)).group(1)\n",
    "text = \"\"\n",
    "for item in soup.select(\"p\",{\"class\":\"sc-6d77a1d1-0 chzewu\"}): # NOS body text class\n",
    "    text += item.text.strip()"
   ]
  }
 ],
 "metadata": {
  "kernelspec": {
   "display_name": "py3.9",
   "language": "python",
   "name": "py3.9"
  },
  "language_info": {
   "codemirror_mode": {
    "name": "ipython",
    "version": 3
   },
   "file_extension": ".py",
   "mimetype": "text/x-python",
   "name": "python",
   "nbconvert_exporter": "python",
   "pygments_lexer": "ipython3",
   "version": "3.9.18"
  }
 },
 "nbformat": 4,
 "nbformat_minor": 5
}
