{
 "cells": [
  {
   "cell_type": "markdown",
   "metadata": {},
   "source": [
    "Copyright: Vrije Universiteit Amsterdam, Faculty of Humanities, CLTL"
   ]
  },
  {
   "cell_type": "markdown",
   "metadata": {},
   "source": [
    "# Lab 4.1: Senses and Relations"
   ]
  },
  {
   "cell_type": "markdown",
   "metadata": {},
   "source": [
    "In this lab, we will query lexical information from [Babelnet](https://babelnet.org/). It is a multilingual collection of multiple resources, for example WordNet and Wiktionary. We will also learn how to plot networks.\n",
    "\n",
    "You first need to [register](https://babelnet.org/register) to obtain an API key. Please use your student e-mail address. It is easier, if you specify English as your native language (this will be the interface language). \n",
    "\n",
    "Before you start, explore the browser search interface to understand what type of information Babelnet can provide. \n",
    "\n",
    "A word can have multiple senses and a sense can be referred to by multiple words. Babelnet organizes concepts as synsets which are groups of synonyms referring to the same sense. As a first step, you need to obtain the synset ids for your search term. "
   ]
  },
  {
   "cell_type": "markdown",
   "metadata": {},
   "source": [
    "## 1. Synsets"
   ]
  },
  {
   "cell_type": "code",
   "execution_count": null,
   "metadata": {},
   "outputs": [],
   "source": [
    "import requests\n",
    "\n",
    "# Query\n",
    "word = \"dinner\"\n",
    "language = \"EN\"\n",
    "\n",
    "# Babelnet parameters, please add your own key here!\n",
    "babelnet_key = \"ADD YOUR KEY HERE\"\n",
    "wordurl = \"https://babelnet.io/v5/getSynsetIds?\"\n",
    "params = dict(lemma=word, searchLang=language,key=babelnet_key)\n",
    "\n",
    "# Get all synsets for the word\n",
    "resp = requests.get(url=wordurl, params=params)\n",
    "word_data = resp.json()\n",
    "\n",
    "print(word_data)"
   ]
  },
  {
   "cell_type": "markdown",
   "metadata": {},
   "source": [
    "Now, you can query the information for each synset id. Note that the definitions of the synsets are a mix of different sources and target languages. **How can you adjust the code to filter by source or language?** \n"
   ]
  },
  {
   "cell_type": "code",
   "execution_count": null,
   "metadata": {},
   "outputs": [],
   "source": [
    "# Get the information for each synset of the word\n",
    "synseturl= \"https://babelnet.io/v5/getSynset?\"\n",
    "\n",
    "# We can specify multiple target languages\n",
    "languages =[\"EN\", \"ES\", \"NL\"]\n",
    "synsets ={}\n",
    "\n",
    "for synset in word_data:\n",
    "    id = synset[\"id\"]\n",
    "    pos = synset[\"pos\"]\n",
    "    synset_params = dict(id=id,key=babelnet_key, targetLang=languages)\n",
    "\n",
    "    resp = requests.get(url=synseturl, params=synset_params)\n",
    "    synsetdata = resp.json()\n",
    "    \n",
    "    # Output the definitions for each synset\n",
    "    print(\"Synset: \", str(id), str(pos) )\n",
    "    for definition in synsetdata[\"glosses\"]: \n",
    "        print(\"\\t\",definition[\"source\"], definition[\"language\"], definition[\"gloss\"])\n",
    "        print()\n",
    "    print(\"-----------\")\n",
    "    \n",
    "    synsets[id] = synsetdata\n",
    "    \n",
    "\n",
    "\n"
   ]
  },
  {
   "cell_type": "markdown",
   "metadata": {},
   "source": [
    "## 2. Word sense disambiguation\n",
    "\n",
    "Identifying the most suitable synset for a word in a specific context is called *word sense disambiguation*. **Which of the retrieved synsets are most relevant for your dataset? How do you know?** \n",
    "\n",
    "A very simple algorithm for identifying the synset of a term calculates the overlap between the words occurring in the context of the term and the words occurring in the definition of the synset. The idea is called [Simplified Lesk Algorithm](https://citeseerx.ist.psu.edu/viewdoc/download?doi=10.1.1.178.2744&rep=rep1&type=pdf). It can be improved by ignoring function words, considering the POS of the word, lemmatizing the tokens and by including the words in the example sentences. **What do you think about this approach? Is it useful? How could you improve it?**\n"
   ]
  },
  {
   "cell_type": "code",
   "execution_count": null,
   "metadata": {},
   "outputs": [],
   "source": [
    "import string\n",
    "# Simple example, already tokenized and no punctuation\n",
    "language =\"EN\"\n",
    "context = \"we will have pasta for dinner tomorrow evening\"\n",
    "context_tokens = context.split(\" \")\n",
    "\n",
    "max_overlap = 0\n",
    "best_synset = \"\"\n",
    "best_definition = \"\"\n",
    "for synset_id, properties in synsets.items(): \n",
    "    \n",
    "        for definition in properties[\"glosses\"]:\n",
    "            if definition[\"language\"]==language:\n",
    "                # Remove punctuation\n",
    "                gloss = definition[\"gloss\"]\n",
    "                for c in string.punctuation:\n",
    "                    gloss=gloss.replace(c,\"\")\n",
    "                gloss_tokens = gloss.split(\" \")\n",
    "\n",
    "                # Calculate overlap\n",
    "                overlap = set(gloss_tokens).intersection(context_tokens)\n",
    "                print(gloss_tokens)\n",
    "                print(overlap)\n",
    "                print()\n",
    "\n",
    "                # Update best synset\n",
    "                if (len(overlap)>max_overlap):\n",
    "                    max_overlap = len(overlap)\n",
    "                    best_synset = synset_id\n",
    "                    best_definition = gloss\n",
    "    \n",
    "print(best_synset, best_definition)\n",
    "    \n",
    "\n",
    "\n"
   ]
  },
  {
   "cell_type": "markdown",
   "metadata": {},
   "source": [
    "## 3. Synset properties\n",
    "\n",
    "Babelnet provides a lot of additional information for each synset. You might want to check the browser interface again. "
   ]
  },
  {
   "cell_type": "code",
   "execution_count": null,
   "metadata": {},
   "outputs": [],
   "source": [
    "example_id = \"bn:00027206n\" \n",
    "\n",
    "print(synsets[example_id].keys())\n"
   ]
  },
  {
   "cell_type": "code",
   "execution_count": null,
   "metadata": {
    "scrolled": true
   },
   "outputs": [],
   "source": [
    "for sense in synsets[example_id][\"senses\"]:\n",
    "    print(sense[\"properties\"][\"source\"], sense[\"properties\"][\"language\"],sense[\"properties\"][\"simpleLemma\"])\n"
   ]
  },
  {
   "cell_type": "code",
   "execution_count": null,
   "metadata": {
    "scrolled": true
   },
   "outputs": [],
   "source": [
    "for translation in synsets[example_id][\"translations\"]: \n",
    "    source = translation[0][\"properties\"]\n",
    "    print(source[\"language\"], source[\"simpleLemma\"])\n",
    "    \n",
    "    for target in translation[1]:\n",
    "        print(\"\\t\",target[\"properties\"][\"language\"], target[\"properties\"][\"simpleLemma\"], target[\"properties\"][\"pronunciations\"][\"transcriptions\"])\n",
    "        \n",
    "    print(\"-----------\")"
   ]
  },
  {
   "cell_type": "markdown",
   "metadata": {},
   "source": [
    "## 4. Synset relations\n",
    "\n",
    "We can also identify relations between synsets. **Brainstorm: Could you recursively identify relations between the important terms in your dataset?**"
   ]
  },
  {
   "cell_type": "code",
   "execution_count": null,
   "metadata": {},
   "outputs": [],
   "source": [
    "relations_url= 'https://babelnet.io/v5/getOutgoingEdges?'\n",
    "relations_params = dict(id=example_id,key=babelnet_key)\n",
    "resp = requests.get(url=relations_url, params=relations_params)\n",
    "    \n",
    "relations_data = resp.json()\n",
    "for relation in relations_data: \n",
    "    print(relation[\"pointer\"][\"name\"], relation[\"target\"])\n",
    "    print()\n"
   ]
  },
  {
   "cell_type": "markdown",
   "metadata": {},
   "source": [
    "## 5. Plotting networks\n",
    "\n",
    "The relations between concepts can be interpreted as a network graph. In python, such graphs can be created using the *networkx* module. **What kind of information can you derive from such a network about the terms in your dataset? Would it be possible to create a deeper network and draw relation edges from the target nodes?**"
   ]
  },
  {
   "cell_type": "code",
   "execution_count": null,
   "metadata": {},
   "outputs": [],
   "source": [
    "import matplotlib.pyplot as plt\n",
    "import numpy as np\n",
    "import networkx as nx\n",
    "\n",
    "# Map id to lemma\n",
    "def get_lemma(id): \n",
    "    synset_params = dict(id=id,key=babelnet_key, targetLang=languages)\n",
    "    resp = requests.get(url=synseturl, params=synset_params)\n",
    "    synsetdata = resp.json()\n",
    "    # We simply take the first sense\n",
    "    try: \n",
    "        lemma = synsetdata[\"senses\"][0][\"properties\"][\"simpleLemma\"]\n",
    "    except IndexError: \n",
    "        # Sometimes concept information is missing\n",
    "        lemma = \"\"\n",
    "    return lemma\n",
    "\n",
    "# Create a graph structure\n",
    "relations_graph=nx.Graph()\n",
    "relations_graph.add_node(word)\n",
    "\n",
    "# Add edges\n",
    "for relation in relations_data[0:10]: \n",
    "    target = get_lemma(relation[\"target\"])\n",
    "    if (len(target))>0:\n",
    "        relations_graph.add_edge(word, target,title=relation[\"pointer\"][\"name\"])\n",
    "\n",
    "print(relations_graph.nodes)\n",
    "print(relations_graph.edges)\n"
   ]
  },
  {
   "cell_type": "markdown",
   "metadata": {},
   "source": [
    "Now, we are going to plot the network using *matplotlib.pyplot*. This is a very useful library for all kinds of plots. **Take a look at some [plot galleries](https://python-graph-gallery.com/all-charts/) to get a feeling for the range of plots you can create.** "
   ]
  },
  {
   "cell_type": "code",
   "execution_count": null,
   "metadata": {},
   "outputs": [],
   "source": [
    "import matplotlib.pyplot as plt\n",
    "import numpy as np\n",
    "\n",
    "\n",
    "# Create a figure\n",
    "fig, ax = plt.subplots(1, 1, figsize = (15, 10))\n",
    "\n",
    "# Need to create a layout when doingseparate calls to draw nodes and edges\n",
    "pos = nx.spring_layout(relations_graph)\n",
    "\n",
    "\n",
    "# Draw the nodes\n",
    "nx.draw_networkx_nodes(relations_graph, pos, node_size = 3000, ax=ax)\n",
    "nx.draw_networkx_labels(relations_graph, pos, ax=ax, font_color=\"white\", font_size=10)\n",
    "\n",
    "# Draw the edges\n",
    "edge_labels = nx.get_edge_attributes(relations_graph, 'title')\n",
    "\n",
    "nx.draw_networkx_edges(relations_graph, pos, arrows=True, ax=ax)\n",
    "nx.draw_networkx_edge_labels(relations_graph,pos, edge_labels=edge_labels)\n",
    "\n",
    "\n",
    "fig.show()\n"
   ]
  },
  {
   "cell_type": "markdown",
   "metadata": {},
   "source": [
    "## 6. Adding color\n",
    "\n",
    "We want to add color to the plot. First, we distinguish between the root node and the targets. "
   ]
  },
  {
   "cell_type": "code",
   "execution_count": null,
   "metadata": {},
   "outputs": [],
   "source": [
    "# Create a figure\n",
    "fig, ax = plt.subplots(1, 1, figsize = (15, 10))\n",
    "\n",
    "# Specify the node colors\n",
    "node_colors = [\"orange\" for node in relations_graph.nodes]\n",
    "# The first node should be grey\n",
    "node_colors[0] = \"grey\"\n",
    "print(node_colors)\n",
    "# Draw the nodes\n",
    "nx.draw_networkx_nodes(relations_graph, pos, node_color=node_colors, node_size = 3000, ax=ax)\n",
    "nx.draw_networkx_labels(relations_graph, pos, ax=ax)\n",
    "\n",
    "fig.show()\n"
   ]
  },
  {
   "cell_type": "markdown",
   "metadata": {},
   "source": [
    "## 7. Using color palettes\n",
    "\n",
    "Instead of choosing the colors yourself, you can use existing color palettes. The module *seaborn* provides very nice [color palettes](https://seaborn.pydata.org/tutorial/color_palettes.html). Colors are expressed as three numbers indicating the values for red, green, and blue (RGB)."
   ]
  },
  {
   "cell_type": "code",
   "execution_count": null,
   "metadata": {},
   "outputs": [],
   "source": [
    "import seaborn as sns\n",
    "color_palette = sns.color_palette(\"Dark2\")\n",
    "sns.palplot(color_palette)\n",
    "print(color_palette)\n"
   ]
  },
  {
   "cell_type": "markdown",
   "metadata": {},
   "source": [
    "We want to use different colors for the edges depending on the edge label. **Is it possible to also specify the same color for the node?** "
   ]
  },
  {
   "cell_type": "code",
   "execution_count": null,
   "metadata": {},
   "outputs": [],
   "source": [
    "\n",
    "# Map edge labels to colors\n",
    "unique_labels = set(list(edge_labels.values()))\n",
    "labels2color= {label:color_palette[i] for i, label in enumerate(unique_labels)} \n",
    "edge_colors=[labels2color[label] for label in edge_labels.values()]\n",
    "\n",
    "# Create a figure\n",
    "fig, ax = plt.subplots(1, 1, figsize = (15, 10))\n",
    "\n",
    "# Draw the nodes and edges with colors\n",
    "nx.draw_networkx_nodes(relations_graph, pos, node_color=node_colors, node_size = 3000, ax=ax)\n",
    "nx.draw_networkx_labels(relations_graph, pos, ax=ax)\n",
    "\n",
    "# Note that I also increased the width of the edges. \n",
    "nx.draw_networkx_edges(relations_graph, pos, arrows=True, edge_color=edge_colors, width=4, ax=ax)\n",
    "nx.draw_networkx_edge_labels(relations_graph,pos, edge_labels=edge_labels)\n",
    "\n",
    "\n",
    "fig.show()\n"
   ]
  },
  {
   "cell_type": "markdown",
   "metadata": {},
   "source": [
    "If you are happy with your graph, save it to a file. A good plot can make it much easier to understand your data. Please also keep in mind to make your plots inclusive. You can check how your plot looks for people who are colorblind using this [https://www.color-blindness.com/coblis-color-blindness-simulator/](simulator)."
   ]
  },
  {
   "cell_type": "code",
   "execution_count": null,
   "metadata": {},
   "outputs": [],
   "source": [
    "fig.savefig(\"example_plot.png\")"
   ]
  }
 ],
 "metadata": {
  "kernelspec": {
   "display_name": "LaD2023",
   "language": "python",
   "name": "lad2023"
  },
  "language_info": {
   "codemirror_mode": {
    "name": "ipython",
    "version": 3
   },
   "file_extension": ".py",
   "mimetype": "text/x-python",
   "name": "python",
   "nbconvert_exporter": "python",
   "pygments_lexer": "ipython3",
   "version": "3.9.0"
  }
 },
 "nbformat": 4,
 "nbformat_minor": 4
}