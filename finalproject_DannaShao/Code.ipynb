{
 "cells": [
  {
   "cell_type": "code",
   "execution_count": 1,
   "id": "caa41613-33b9-452c-b6e4-ec12398f6ff5",
   "metadata": {
    "editable": true,
    "slideshow": {
     "slide_type": ""
    },
    "tags": []
   },
   "outputs": [],
   "source": [
    "import pandas as pd\n",
    "import string\n",
    "import statistics\n",
    "import numpy as np\n",
    "\n",
    "#import stanza\n",
    "# import pickle\n",
    "\n",
    "from tqdm import tqdm\n",
    "from keybert import KeyBERT\n",
    "from wordcloud import WordCloud\n",
    "\n",
    "from textblob import TextBlob\n",
    "from textblob_nl import PatternAnalyzer\n",
    "\n",
    "import textstat\n",
    "\n",
    "import matplotlib.pyplot as plt\n",
    "import seaborn as sns\n",
    "import statsmodels"
   ]
  },
  {
   "cell_type": "code",
   "execution_count": 2,
   "id": "576f0fe8-dfd4-43dd-84fa-aa1a3d0b2380",
   "metadata": {},
   "outputs": [],
   "source": [
    "save_results_to = 'results/'"
   ]
  },
  {
   "cell_type": "code",
   "execution_count": 3,
   "id": "e20de359-5d80-469e-bbbf-0a8b1e198611",
   "metadata": {
    "editable": true,
    "slideshow": {
     "slide_type": ""
    },
    "tags": []
   },
   "outputs": [],
   "source": [
    "eng_train_meta = pd.read_csv('eng/train/abortion_train_metadata.csv')\n",
    "eng_train_path = 'eng/train/'\n",
    "eng_test_meta = pd.read_csv('eng/test/abortion_test_metadata.csv')\n",
    "eng_test_path = 'eng/test/'\n",
    "\n",
    "nld_train_meta = pd.read_csv('nld/train/abortus_train_metadata.csv').rename(columns={\"content\": \"section\"})\n",
    "nld_train_path = 'nld/train/'\n",
    "nld_test_meta = pd.read_csv('nld/test/abortus_test_metadata.csv').rename(columns={\"content\": \"section\"})\n",
    "nld_test_path = 'nld/test/'"
   ]
  },
  {
   "cell_type": "code",
   "execution_count": 4,
   "id": "2fe79176-9180-4a69-95e3-321486e081a5",
   "metadata": {},
   "outputs": [],
   "source": [
    "def get_all_article(path):\n",
    "    import os,glob\n",
    "    folder_path = path\n",
    "    articles = []\n",
    "    for filename in glob.glob(os.path.join(folder_path, '*.txt')):\n",
    "        with open(filename, 'r') as f:\n",
    "            text = f.read()\n",
    "            articles.append(text)\n",
    "    return articles"
   ]
  },
  {
   "cell_type": "code",
   "execution_count": 5,
   "id": "592d8749-98a0-422e-bdf2-a7b4739b5ec0",
   "metadata": {
    "editable": true,
    "slideshow": {
     "slide_type": ""
    },
    "tags": []
   },
   "outputs": [],
   "source": [
    "eng_train_articles = get_all_article(eng_train_path)\n",
    "eng_test_articles = get_all_article(eng_test_path)\n",
    "\n",
    "nld_train_articles = get_all_article(nld_train_path)\n",
    "nld_test_articles = get_all_article(nld_test_path)"
   ]
  },
  {
   "cell_type": "code",
   "execution_count": 23,
   "id": "c17eac5c-335f-4d50-ad30-019a326a5624",
   "metadata": {
    "editable": true,
    "slideshow": {
     "slide_type": ""
    },
    "tags": []
   },
   "outputs": [],
   "source": [
    "def avg_article_len(path):\n",
    "    import os,glob\n",
    "    folder_path = path\n",
    "    filenum = 0\n",
    "    wordcount = 0\n",
    "    for filename in glob.glob(os.path.join(folder_path, '*.txt')):\n",
    "        with open(filename, 'r') as f:\n",
    "            text = f.read()\n",
    "            filenum += 1\n",
    "            wordcount += len(text)\n",
    "    return wordcount/filenum"
   ]
  },
  {
   "cell_type": "code",
   "execution_count": 27,
   "id": "94e9a671-e220-476c-b020-12e555142823",
   "metadata": {
    "editable": true,
    "slideshow": {
     "slide_type": ""
    },
    "tags": []
   },
   "outputs": [
    {
     "name": "stdout",
     "output_type": "stream",
     "text": [
      "Average article length of ENG train:  7483.064583333334\n",
      "Average article length of ENG test:  7507.591666666666\n",
      "Average article length of NLD train:  3609.5291666666667\n",
      "Average article length of NLD test:  3809.875\n"
     ]
    }
   ],
   "source": [
    "print(\"Average article length of ENG train: \", avg_article_len(eng_train_path))\n",
    "print(\"Average article length of ENG test: \", avg_article_len(eng_test_path))\n",
    "print(\"Average article length of NLD train: \", avg_article_len(nld_train_path))\n",
    "print(\"Average article length of NLD test: \", avg_article_len(nld_test_path))"
   ]
  },
  {
   "cell_type": "code",
   "execution_count": 29,
   "id": "1593daa5-2850-4d32-8b5e-f34d52431276",
   "metadata": {
    "editable": true,
    "slideshow": {
     "slide_type": ""
    },
    "tags": []
   },
   "outputs": [
    {
     "name": "stdout",
     "output_type": "stream",
     "text": [
      "Average title length of ENG train:  79.89583333333333\n",
      "Average title length of ENG test:  79.675\n",
      "Average title length of NLD train:  63.545833333333334\n",
      "Average title length of NLD test:  62.8\n"
     ]
    }
   ],
   "source": [
    "print(\"Average title length of ENG train: \", eng_train_meta['title'].apply(len).mean())\n",
    "print(\"Average title length of ENG test: \", eng_test_meta['title'].apply(len).mean())\n",
    "print(\"Average title length of NLD train: \", nld_train_meta['title'].apply(len).mean())\n",
    "print(\"Average title length of NLD test: \", nld_test_meta['title'].apply(len).mean())"
   ]
  },
  {
   "cell_type": "code",
   "execution_count": 6,
   "id": "90be5ff6-3ce6-4351-819d-89216c607163",
   "metadata": {
    "editable": true,
    "slideshow": {
     "slide_type": ""
    },
    "tags": []
   },
   "outputs": [],
   "source": [
    "def process_articles(articles, language):\n",
    "    nlp = stanza.Pipeline(lang=language, processors='tokenize,pos,lemma')\n",
    "    processed_articles = []\n",
    "    print(\"Using stanza to process articles (it may take long...)\")\n",
    "    for article in tqdm(articles):\n",
    "        processed_articles.append(nlp.process(article))\n",
    "    return processed_articles"
   ]
  },
  {
   "cell_type": "code",
   "execution_count": 7,
   "id": "e5380593-a4e5-447f-aa72-b485ebe5444f",
   "metadata": {
    "editable": true,
    "slideshow": {
     "slide_type": ""
    },
    "tags": []
   },
   "outputs": [],
   "source": [
    "def extract_keyword(articles, language):\n",
    "    eng_kw_model = KeyBERT()\n",
    "    nld_kw_model = KeyBERT(model = 'distiluse-base-multilingual-cased-v1')\n",
    "    kw = []\n",
    "\n",
    "    if language == 'eng':\n",
    "        print(\"Calculating eng keywords\")\n",
    "        for article in tqdm(articles):\n",
    "            keyword = eng_kw_model.extract_keywords(article)[0][0]\n",
    "            kw.append(keyword)\n",
    "\n",
    "    if language == 'nld':\n",
    "        print(\"Calculating nld keywords\")\n",
    "        for article in tqdm(articles):\n",
    "            keyword = nld_kw_model.extract_keywords(article)[0][0]\n",
    "            kw.append(keyword)\n",
    "    return kw"
   ]
  },
  {
   "cell_type": "code",
   "execution_count": 8,
   "id": "0dd0c0df-9640-4948-a1d1-3e25877df1da",
   "metadata": {
    "editable": true,
    "slideshow": {
     "slide_type": ""
    },
    "tags": []
   },
   "outputs": [],
   "source": [
    "def create_wordcloud(keywords, figname):\n",
    "    wc = WordCloud().generate(str(keywords).replace(\"'\",\"\"))\n",
    "    plt.imshow(wc, interpolation='bilinear')\n",
    "    plt.axis(\"off\")\n",
    "    plt.savefig(save_results_to + figname + '.png', dpi = 300)\n",
    "    plt.close()"
   ]
  },
  {
   "cell_type": "code",
   "execution_count": 9,
   "id": "d079aecf-edaf-4ab6-9ff4-9b77660a0dcc",
   "metadata": {
    "editable": true,
    "slideshow": {
     "slide_type": ""
    },
    "tags": []
   },
   "outputs": [],
   "source": [
    "def get_sentiment(articles, language):\n",
    "    polarity = []\n",
    "    subjectivity = []\n",
    "    readability = []\n",
    "    \n",
    "    if language == 'eng':\n",
    "        for article in articles:\n",
    "            polarity.append(TextBlob(article).sentiment.polarity)\n",
    "            subjectivity.append(TextBlob(article).sentiment.subjectivity)\n",
    "            readability.append(textstat.flesch_reading_ease(article))\n",
    "\n",
    "    if language == 'nld':\n",
    "        for article in articles:\n",
    "            polarity.append(TextBlob(text=article, analyzer=PatternAnalyzer()).sentiment[0])\n",
    "            subjectivity.append(TextBlob(text=article, analyzer=PatternAnalyzer()).sentiment[1])\n",
    "            readability.append(textstat.flesch_reading_ease(article))\n",
    "\n",
    "    return polarity, subjectivity, readability"
   ]
  },
  {
   "cell_type": "code",
   "execution_count": 10,
   "id": "746d838c-8dc1-4ee8-bc3a-71bc9457fd8a",
   "metadata": {
    "editable": true,
    "slideshow": {
     "slide_type": ""
    },
    "tags": []
   },
   "outputs": [],
   "source": [
    "def create_df(meta, articles, language):\n",
    "    df = pd.DataFrame(articles, columns=['content'])\n",
    "    df['section'] = meta['section']\n",
    "    df['keyword']= extract_keyword(articles, language)\n",
    "    polarity, subjectivity, readability = get_sentiment(articles, language)\n",
    "    df['polarity'] = polarity\n",
    "    df['subjectivity'] = subjectivity\n",
    "    df['readability'] = readability\n",
    "    return df"
   ]
  },
  {
   "cell_type": "code",
   "execution_count": 11,
   "id": "009620d9-814a-42fb-ab29-d7adbddb2d98",
   "metadata": {
    "editable": true,
    "scrolled": true,
    "slideshow": {
     "slide_type": ""
    },
    "tags": []
   },
   "outputs": [
    {
     "name": "stdout",
     "output_type": "stream",
     "text": [
      "Calculating eng keywords\n"
     ]
    },
    {
     "name": "stderr",
     "output_type": "stream",
     "text": [
      "100%|█████████████████████████████████████████| 480/480 [02:55<00:00,  2.73it/s]\n"
     ]
    },
    {
     "name": "stdout",
     "output_type": "stream",
     "text": [
      "Calculating eng keywords\n"
     ]
    },
    {
     "name": "stderr",
     "output_type": "stream",
     "text": [
      "100%|█████████████████████████████████████████| 120/120 [00:45<00:00,  2.61it/s]\n"
     ]
    },
    {
     "name": "stdout",
     "output_type": "stream",
     "text": [
      "Calculating nld keywords\n"
     ]
    },
    {
     "name": "stderr",
     "output_type": "stream",
     "text": [
      "100%|█████████████████████████████████████████| 480/480 [04:43<00:00,  1.69it/s]\n"
     ]
    },
    {
     "name": "stdout",
     "output_type": "stream",
     "text": [
      "Calculating nld keywords\n"
     ]
    },
    {
     "name": "stderr",
     "output_type": "stream",
     "text": [
      "100%|█████████████████████████████████████████| 120/120 [01:13<00:00,  1.64it/s]\n"
     ]
    }
   ],
   "source": [
    "eng_train_df = create_df(eng_train_meta, eng_train_articles, 'eng')\n",
    "eng_test_df = create_df(eng_test_meta, eng_test_articles, 'eng')\n",
    "nld_train_df = create_df(nld_train_meta, nld_train_articles, 'nld')\n",
    "nld_test_df = create_df(nld_test_meta, nld_test_articles, 'nld')"
   ]
  },
  {
   "cell_type": "code",
   "execution_count": 12,
   "id": "ba9f77b9-5b61-4239-8642-35c05afa1856",
   "metadata": {
    "editable": true,
    "slideshow": {
     "slide_type": ""
    },
    "tags": []
   },
   "outputs": [],
   "source": [
    "def separate_nld_country(nld_df):\n",
    "    nld_country = nld_df.drop(columns=['content'])\n",
    "    nld_country['section'] = np.where(nld_country['section'] == 'Buitenland', 'Foreign', nld_country['section'])\n",
    "    nld_country['section'] = np.where(nld_country['section'] == 'Van Trump naar Biden', 'Foreign', nld_country['section'])\n",
    "    nld_country['section'] = np.where(nld_country['section'] != 'Foreign', 'NL', nld_country['section'])\n",
    "    \n",
    "    print(\"+++ Domestic statistics +++\")\n",
    "    print(nld_country.loc[nld_country['section'] == 'NL'].mean())\n",
    "    print(\"+++ Foreign statistics +++\")\n",
    "    print(nld_country.loc[nld_country['section'] == 'Foreign'].mean())\n",
    "    return nld_country"
   ]
  },
  {
   "cell_type": "code",
   "execution_count": 13,
   "id": "c8012a46-2408-4528-9e08-78f0f2d08952",
   "metadata": {
    "editable": true,
    "slideshow": {
     "slide_type": ""
    },
    "tags": []
   },
   "outputs": [],
   "source": [
    "def separate_eng_country(eng_df):\n",
    "    eng_country = eng_df.drop(columns=['content'])\n",
    "    eng_country['section'] = np.where(eng_country['section'] == 'US news', 'US', eng_country['section'])\n",
    "    eng_country['section'] = np.where(eng_country['section'] != 'US', 'non_US', eng_country['section'])\n",
    "    \n",
    "    print(\"+++ US statistics +++\")\n",
    "    print(eng_country.loc[eng_country['section'] == 'US'].mean())\n",
    "    print(\"+++ non_US statistics +++\")\n",
    "    print(eng_country.loc[eng_country['section'] == 'non_US'].mean())\n",
    "    return eng_country"
   ]
  },
  {
   "cell_type": "code",
   "execution_count": 14,
   "id": "a1a3ea53-3998-446d-bcff-6e959bed2043",
   "metadata": {
    "editable": true,
    "slideshow": {
     "slide_type": ""
    },
    "tags": []
   },
   "outputs": [
    {
     "name": "stdout",
     "output_type": "stream",
     "text": [
      "====== eng train statistics ======\n",
      "+++ US statistics +++\n",
      "polarity         0.087853\n",
      "subjectivity     0.430909\n",
      "readability     51.529031\n",
      "dtype: float64\n",
      "+++ non_US statistics +++\n",
      "polarity         0.085967\n",
      "subjectivity     0.430381\n",
      "readability     52.090951\n",
      "dtype: float64\n",
      "====== eng test statistics ======\n",
      "+++ US statistics +++\n",
      "polarity         0.095803\n",
      "subjectivity     0.438832\n",
      "readability     51.170755\n",
      "dtype: float64\n",
      "+++ non_US statistics +++\n",
      "polarity         0.076595\n",
      "subjectivity     0.432030\n",
      "readability     52.150746\n",
      "dtype: float64\n",
      "====== nld train statistics ======\n",
      "+++ Domestic statistics +++\n",
      "polarity         0.030810\n",
      "subjectivity     0.492828\n",
      "readability     63.888372\n",
      "dtype: float64\n",
      "+++ Foreign statistics +++\n",
      "polarity         0.010575\n",
      "subjectivity     0.499466\n",
      "readability     63.535019\n",
      "dtype: float64\n",
      "====== nld test statistics ======\n",
      "+++ Domestic statistics +++\n",
      "polarity         0.025776\n",
      "subjectivity     0.496841\n",
      "readability     64.821875\n",
      "dtype: float64\n",
      "+++ Foreign statistics +++\n",
      "polarity         0.027839\n",
      "subjectivity     0.499675\n",
      "readability     64.633472\n",
      "dtype: float64\n"
     ]
    }
   ],
   "source": [
    "print(\"====== eng train statistics ======\")\n",
    "eng_train_country = separate_eng_country(eng_train_df)\n",
    "print(\"====== eng test statistics ======\")\n",
    "eng_test_country = separate_eng_country(eng_test_df)\n",
    "\n",
    "print(\"====== nld train statistics ======\")\n",
    "nld_train_country = separate_nld_country(nld_train_df)\n",
    "print(\"====== nld test statistics ======\")\n",
    "nld_test_country = separate_nld_country(nld_test_df)"
   ]
  },
  {
   "cell_type": "code",
   "execution_count": 15,
   "id": "aef44b7a-5c07-4269-ae70-0aeb556f819a",
   "metadata": {
    "editable": true,
    "slideshow": {
     "slide_type": ""
    },
    "tags": []
   },
   "outputs": [],
   "source": [
    "# https://stackoverflow.com/a/50690729\n",
    "def corrdot(*args, **kwargs):\n",
    "    corr_r = args[0].corr(args[1], 'pearson')\n",
    "    corr_text = f\"{corr_r:2.2f}\".replace(\"0.\", \".\")\n",
    "    ax = plt.gca()\n",
    "    ax.set_axis_off()\n",
    "    marker_size = abs(corr_r) * 10000\n",
    "    ax.scatter([.5], [.5], marker_size, [corr_r], alpha=0.6, cmap=\"coolwarm\",\n",
    "               vmin=-1, vmax=1, transform=ax.transAxes)\n",
    "    font_size = abs(corr_r) * 40 + 5\n",
    "    ax.annotate(corr_text, [.5, .5,],  xycoords=\"axes fraction\",\n",
    "                ha='center', va='center', fontsize=font_size)"
   ]
  },
  {
   "cell_type": "code",
   "execution_count": 16,
   "id": "48b54f86-d938-435c-8eb5-2f641a8c5390",
   "metadata": {
    "editable": true,
    "slideshow": {
     "slide_type": ""
    },
    "tags": []
   },
   "outputs": [],
   "source": [
    "def create_coorplot(df, figname):\n",
    "    sns.set(style='white', font_scale=1.6)\n",
    "    g = sns.PairGrid(df.drop(columns=['section']), aspect=1.4, diag_sharey=False)\n",
    "    g.map_lower(sns.regplot, lowess=True, ci=False, line_kws={'color': 'black'})\n",
    "    g.map_diag(sns.histplot, kde_kws={'color': 'black'})\n",
    "    g.map_upper(corrdot)\n",
    "    g.savefig(save_results_to + figname + '.png', dpi = 100)\n",
    "    plt.close()"
   ]
  },
  {
   "cell_type": "code",
   "execution_count": 17,
   "id": "1cf18daa-4d63-4976-a562-320c8abe5618",
   "metadata": {
    "editable": true,
    "slideshow": {
     "slide_type": ""
    },
    "tags": []
   },
   "outputs": [],
   "source": [
    "create_coorplot(eng_train_df, 'eng_train_coor')\n",
    "create_coorplot(eng_test_df, 'eng_test_coor')\n",
    "create_coorplot(nld_train_df, 'nld_train_coor')\n",
    "create_coorplot(nld_test_df, 'nld_test_coor')"
   ]
  },
  {
   "cell_type": "code",
   "execution_count": 18,
   "id": "ec82bbb9-4ec9-4821-9e19-ce646360ff65",
   "metadata": {
    "editable": true,
    "slideshow": {
     "slide_type": ""
    },
    "tags": []
   },
   "outputs": [],
   "source": [
    "def nld_section_and_pie(nld_df, figname, type='train'):\n",
    "    nld_majors = ['Buitenland','Binnenland','Politiek']\n",
    "    nld_sections = nld_df.drop(columns=['content'])\n",
    "    nld_sections.loc[( (nld_sections['section'] != 'Buitenland') & (nld_sections['section'] != 'Binnenland') & (nld_sections['section'] != 'Politiek')), 'section'] = 'Others'\n",
    "    nld_label_count = dict(nld_sections['section'].value_counts())\n",
    "    nld_labels = list(nld_label_count.keys())\n",
    "    nld_values = list(nld_label_count.values())\n",
    "    plt.pie(nld_values,labels=nld_labels, autopct=lambda p : '{:.2f}% '.format(p,p * sum(nld_values)/100))\n",
    "    if type == 'train':\n",
    "        plt.title(\"nld train set sections\")\n",
    "    if type == 'test':\n",
    "        plt.title(\"nld test set sections\")\n",
    "    #plt.show()\n",
    "    plt.savefig(save_results_to + figname + '.png', dpi = 100)\n",
    "    plt.close()\n",
    "    return nld_sections"
   ]
  },
  {
   "cell_type": "code",
   "execution_count": 19,
   "id": "09cf44a6-b6a4-41ef-ac38-7cd556dcabf5",
   "metadata": {
    "editable": true,
    "slideshow": {
     "slide_type": ""
    },
    "tags": []
   },
   "outputs": [],
   "source": [
    "def eng_section_and_pie(eng_df, figname, type='train'):\n",
    "    eng_sections = eng_df.drop(columns=['content'])\n",
    "    eng_sections.loc[( (eng_sections['section'] != 'US news') & (eng_sections['section'] != 'Opinion') & (eng_sections['section'] != 'World news') & (eng_sections['section'] != 'Australia news')), 'section'] = 'Others'\n",
    "    eng_label_count = dict(eng_sections['section'].value_counts())\n",
    "    eng_labels = list(eng_label_count.keys())\n",
    "    eng_values = list(eng_label_count.values())\n",
    "    plt.pie(eng_values,labels=eng_labels, autopct=lambda p : '{:.2f}% '.format(p,p * sum(eng_values)/100))\n",
    "    if type == 'train':\n",
    "        plt.title(\"eng train set sections\")\n",
    "    if type == 'test':\n",
    "        plt.title(\"eng test set sections\")\n",
    "    #plt.show()\n",
    "    plt.savefig(save_results_to + figname + '.png', dpi = 100)\n",
    "    plt.close()\n",
    "    return eng_sections"
   ]
  },
  {
   "cell_type": "code",
   "execution_count": 20,
   "id": "410cfed7-0eb2-4e98-bf09-9ae8714cafa5",
   "metadata": {
    "editable": true,
    "slideshow": {
     "slide_type": ""
    },
    "tags": []
   },
   "outputs": [],
   "source": [
    "eng_train_sections = eng_section_and_pie(eng_train_df,'eng_train_sections')\n",
    "eng_test_sections = eng_section_and_pie(eng_test_df,'eng_test_sections')\n",
    "nld_train_sections = nld_section_and_pie(nld_train_df,'nld_train_sections')\n",
    "nld_test_sections = nld_section_and_pie(nld_test_df,'nld_test_sections')"
   ]
  },
  {
   "cell_type": "code",
   "execution_count": 21,
   "id": "266a05f1-aa19-48ae-b106-7f61df77991a",
   "metadata": {
    "editable": true,
    "slideshow": {
     "slide_type": ""
    },
    "tags": []
   },
   "outputs": [],
   "source": [
    "def create_stripplot(section_df, figname):\n",
    "    s = sns.stripplot(data=section_df, x='section', y='polarity',hue='subjectivity', legend = False)\n",
    "    _, xlabels = plt.xticks()\n",
    "    s.set_xticklabels(xlabels, size=10)\n",
    "    #plt.show()\n",
    "    plt.savefig(save_results_to + figname + '.png', dpi = 100)\n",
    "    plt.close()"
   ]
  },
  {
   "cell_type": "code",
   "execution_count": 22,
   "id": "30be4f19-d68f-4957-95c0-df0fa6f539c7",
   "metadata": {
    "editable": true,
    "slideshow": {
     "slide_type": ""
    },
    "tags": []
   },
   "outputs": [
    {
     "name": "stderr",
     "output_type": "stream",
     "text": [
      "/tmp/ipykernel_14013/534235200.py:4: UserWarning: set_ticklabels() should only be used with a fixed number of ticks, i.e. after set_ticks() or using a FixedLocator.\n",
      "  s.set_xticklabels(xlabels, size=10)\n"
     ]
    }
   ],
   "source": [
    "create_stripplot(eng_train_sections, 'eng_train_strip')"
   ]
  },
  {
   "cell_type": "code",
   "execution_count": null,
   "id": "eff8915b-d78e-4605-aa37-85cf6a46ef11",
   "metadata": {
    "editable": true,
    "slideshow": {
     "slide_type": ""
    },
    "tags": []
   },
   "outputs": [],
   "source": []
  }
 ],
 "metadata": {
  "kernelspec": {
   "display_name": "py3.9",
   "language": "python",
   "name": "py3.9"
  },
  "language_info": {
   "codemirror_mode": {
    "name": "ipython",
    "version": 3
   },
   "file_extension": ".py",
   "mimetype": "text/x-python",
   "name": "python",
   "nbconvert_exporter": "python",
   "pygments_lexer": "ipython3",
   "version": "3.9.18"
  }
 },
 "nbformat": 4,
 "nbformat_minor": 5
}
