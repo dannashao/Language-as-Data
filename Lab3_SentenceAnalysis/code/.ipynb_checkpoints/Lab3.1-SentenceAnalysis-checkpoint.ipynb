{
 "cells": [
  {
   "cell_type": "markdown",
   "metadata": {},
   "source": [
    "Copyright: Vrije Universiteit Amsterdam, Faculty of Humanities, CLTL"
   ]
  },
  {
   "cell_type": "markdown",
   "metadata": {},
   "source": [
    "# Lab 3.1: Sentence Analysis"
   ]
  },
  {
   "cell_type": "markdown",
   "metadata": {},
   "source": [
    "In this lab, we have a closer look at the sentence-level analysis in *stanza*. We explore dependency parsing and stylistic analysis. Take a look at the [documentation](https://stanfordnlp.github.io/stanza/) for details. Stanza is optimized for accuracy and not for speed, so processing takes longer than with spacy. \n",
    "\n",
    "You are free to choose any of the libraries for your assignments. Just make sure to document your selection. "
   ]
  },
  {
   "cell_type": "code",
   "execution_count": 4,
   "metadata": {},
   "outputs": [
    {
     "data": {
      "application/vnd.jupyter.widget-view+json": {
       "model_id": "e9a04311ff4547638b4abb66562b8a8e",
       "version_major": 2,
       "version_minor": 0
      },
      "text/plain": [
       "Downloading https://raw.githubusercontent.com/stanfordnlp/stanza-resources/main/resources_1.6.0.json:   0%|   …"
      ]
     },
     "metadata": {},
     "output_type": "display_data"
    },
    {
     "name": "stderr",
     "output_type": "stream",
     "text": [
      "2023-10-25 12:54:17 INFO: Downloading default packages for language: en (English) ...\n",
      "2023-10-25 12:54:18 INFO: File exists: /Users/lisabeinborn/stanza_resources/en/default.zip\n",
      "2023-10-25 12:54:21 INFO: Finished downloading models and saved to /Users/lisabeinborn/stanza_resources.\n",
      "2023-10-25 12:54:21 INFO: Checking for updates to resources.json in case models have been updated.  Note: this behavior can be turned off with download_method=None or download_method=DownloadMethod.REUSE_RESOURCES\n"
     ]
    },
    {
     "data": {
      "application/vnd.jupyter.widget-view+json": {
       "model_id": "92615bf49f854d018b16b3902dadb8f1",
       "version_major": 2,
       "version_minor": 0
      },
      "text/plain": [
       "Downloading https://raw.githubusercontent.com/stanfordnlp/stanza-resources/main/resources_1.6.0.json:   0%|   …"
      ]
     },
     "metadata": {},
     "output_type": "display_data"
    },
    {
     "name": "stderr",
     "output_type": "stream",
     "text": [
      "2023-10-25 12:54:23 INFO: Loading these models for language: en (English):\n",
      "======================================\n",
      "| Processor    | Package             |\n",
      "--------------------------------------\n",
      "| tokenize     | combined            |\n",
      "| pos          | combined_charlm     |\n",
      "| lemma        | combined_nocharlm   |\n",
      "| constituency | ptb3-revised_charlm |\n",
      "| depparse     | combined_charlm     |\n",
      "| sentiment    | sstplus             |\n",
      "| ner          | ontonotes_charlm    |\n",
      "======================================\n",
      "\n",
      "2023-10-25 12:54:23 INFO: Using device: cpu\n",
      "2023-10-25 12:54:23 INFO: Loading: tokenize\n",
      "2023-10-25 12:54:23 INFO: Loading: pos\n",
      "2023-10-25 12:54:23 INFO: Loading: lemma\n",
      "2023-10-25 12:54:23 INFO: Loading: constituency\n",
      "2023-10-25 12:54:23 INFO: Loading: depparse\n",
      "2023-10-25 12:54:23 INFO: Loading: sentiment\n",
      "2023-10-25 12:54:23 INFO: Loading: ner\n",
      "2023-10-25 12:54:24 INFO: Done loading processors!\n"
     ]
    },
    {
     "name": "stdout",
     "output_type": "stream",
     "text": [
      "   Publication Date       Time                 Publisher  \\\n",
      "0        2020-09-15  18:20:00Z        newsindiatimes.com   \n",
      "1        2020-09-15  10:02:50Z                   VegNews   \n",
      "2        2020-09-10  20:17:56Z                  BBC News   \n",
      "3        2020-09-15  13:08:32Z                Healthline   \n",
      "4        2020-09-04  07:00:00Z             Green Matters   \n",
      "5        2020-09-13  19:28:37Z              IrishCentral   \n",
      "6        2020-09-13  07:00:00Z        BBC Focus Magazine   \n",
      "7        2020-09-12  19:25:35Z             Deccan Herald   \n",
      "8        2020-09-08  05:47:36Z         Green Queen Media   \n",
      "9        2020-09-15  15:35:54Z                  Euronews   \n",
      "10       2020-09-14  17:56:38Z           Cherwell Online   \n",
      "11       2020-09-02  07:00:00Z          Plant Based News   \n",
      "12       2020-09-10  07:00:00Z       Daily Trojan Online   \n",
      "13       2020-09-03  07:00:00Z         Green Queen Media   \n",
      "14       2020-09-14  23:51:02Z        New Zealand Herald   \n",
      "15       2020-09-12  04:00:00Z          USA Today 10Best   \n",
      "16       2020-09-03  18:28:18Z                  The Beet   \n",
      "17       2020-09-09  11:05:25Z          Plant Based News   \n",
      "18       2020-09-14  10:55:34Z          Plant Based News   \n",
      "19       2020-09-08  16:36:55Z        The Jerusalem Post   \n",
      "20       2020-08-26  07:00:00Z                Civil Eats   \n",
      "21       2020-09-15  09:00:00Z             Las Vegas Sun   \n",
      "22       2020-08-22  07:00:00Z                  Euronews   \n",
      "23       2020-09-05  07:00:00Z      Eco Warrior Princess   \n",
      "24       2020-09-05  07:00:00Z                Grit Daily   \n",
      "25       2020-09-04  10:54:19Z          Plant Based News   \n",
      "26       2020-08-25  13:55:13Z                  The Beet   \n",
      "27       2020-09-10  09:52:20Z        Totally Vegan Buzz   \n",
      "28       2020-09-16  07:48:00Z             Yahoo Finance   \n",
      "29       2020-09-08  12:06:30Z             The New Daily   \n",
      "30       2020-08-26  07:00:00Z          Plant Based News   \n",
      "31       2020-08-24  07:00:00Z            Times of India   \n",
      "32       2020-09-14  14:15:13Z  South China Morning Post   \n",
      "33       2020-09-15  17:20:36Z                       Mic   \n",
      "34       2020-09-16  06:11:26Z        The Jerusalem Post   \n",
      "35       2020-09-01  07:00:00Z             Green Matters   \n",
      "36       2020-09-15  13:08:32Z                Healthline   \n",
      "37       2020-09-08  11:34:00Z                   Mid-day   \n",
      "38       2020-09-14  22:10:25Z             Eater Chicago   \n",
      "39       2020-08-26  16:44:12Z                  The Beet   \n",
      "40       2020-09-10  16:48:00Z       Chestnut Hill Local   \n",
      "41       2020-09-15  04:03:40Z        Soapbox Cincinnati   \n",
      "42       2020-09-14  14:00:00Z        The Canberra Times   \n",
      "43       2020-09-14  01:56:06Z          Oakland News Now   \n",
      "44       2020-07-16  12:00:00Z       The Washington Post   \n",
      "45       2020-09-10  09:02:16Z          Las Vegas Weekly   \n",
      "46       2020-08-17  07:00:00Z              Yahoo Sports   \n",
      "47       2020-05-07  07:00:00Z                Healthline   \n",
      "\n",
      "                                               Author  \\\n",
      "0                                            Ela Dutt   \n",
      "1                                                       \n",
      "2                    https://www.facebook.com/bbcnews   \n",
      "3                              Lauren Panoff, MPH, RD   \n",
      "4                                              sophie   \n",
      "5                                                       \n",
      "6                                      By Amy Barrett   \n",
      "7                                                       \n",
      "8                                                       \n",
      "9                                    Marthe de Ferrer   \n",
      "10                                                      \n",
      "11                                    Maria Chiorando   \n",
      "12                                     MONTANA DENTON   \n",
      "13                                                      \n",
      "14  NZ Herald        Share via email  Share on Fac...   \n",
      "15                                                      \n",
      "16                                           smcclain   \n",
      "17                             Louisa Kendal at Viva!   \n",
      "18                                    Maria Chiorando   \n",
      "19                                                      \n",
      "20                                                      \n",
      "21        https://lasvegassun.com/staff/sara-macneil/   \n",
      "22                                   Marthe de Ferrer   \n",
      "23                                                      \n",
      "24                                                      \n",
      "25                                    Maria Chiorando   \n",
      "26                                             hwelch   \n",
      "27                   Posted byTotally Vegan Buzz Team   \n",
      "28                                                      \n",
      "29                                                      \n",
      "30                                    Maria Chiorando   \n",
      "31                                                      \n",
      "32                                                DPA   \n",
      "33                                 By Melissa Pandika   \n",
      "34                                                      \n",
      "35                                             sophie   \n",
      "36                           Alina Petre, MS, RD (NL)   \n",
      "37                                                      \n",
      "38                                       Ashok Selvam   \n",
      "39                                       miriamporter   \n",
      "40                                      April Lisante   \n",
      "41       Lauren Caggiano |Tuesday, September 15, 2020   \n",
      "42                                        Karen Hardy   \n",
      "43                                                      \n",
      "44                                  By Carrie Dennett   \n",
      "45       https://lasvegasweekly.com/staff/ray-brewer/   \n",
      "46                                                      \n",
      "47                           Alina Petre, MS, RD (NL)   \n",
      "\n",
      "                                                Title  \\\n",
      "0                     Veganism: From fad to lifestyle   \n",
      "1   Interest in Veganism Hits All-Time High in 202...   \n",
      "2     Why black Americans are more likely to be vegan   \n",
      "3                                   Is Beeswax Vegan?   \n",
      "4   Opinion: Miley Cyrus Says She's No Longer Vega...   \n",
      "5   Ireland ranked among top ten countries globall...   \n",
      "6   Global veganism could undo 16 years’ of fossil...   \n",
      "7                                  Perils of veganism   \n",
      "8   6 Reasons Why Miley Cyrus Is Wrong About Veganism   \n",
      "9   Live lamb used in provocative new vegan commer...   \n",
      "10     Opinion - veganism is not yet fully accessible   \n",
      "11  Top 10 Countries Where Veganism Is Most Popula...   \n",
      "12         Triple Bottom Line: The meat of the matter   \n",
      "13  Revealed: The 5 Biggest Misconceptions About V...   \n",
      "14  New Zealand ranks fifth in the world for veganism   \n",
      "15  Oysters are okay to eat for some vegans – here...   \n",
      "16  Miley Cyrus, Formerly Vegan, Admits She Now Ea...   \n",
      "17  As Stars Ditch Veganism - Does Celebrity Cultu...   \n",
      "18  Ex-Vegan Miley Cyrus Says It's 'Over The Top' ...   \n",
      "19  Israel ranks 3rd on list of 2020's most popula...   \n",
      "20  Is the Vegan Movement Ready to Reckon with Rac...   \n",
      "21  Group says the need to feed young Las Vegans '...   \n",
      "22  Plant-based athlete: Atlético Madrid’s Saúl ex...   \n",
      "23                  The Rise of Veganism in Hong Kong   \n",
      "24  If Veganism Isn’t In The Cards, Here Are Some ...   \n",
      "25  New Research Reveals Top 10 Cities Where Vegan...   \n",
      "26  What You Can Learn From 20 Athletes Who Went V...   \n",
      "27  UK and Australia top the list of 2020's most p...   \n",
      "28  North America Potato Protein Markets, 2020-202...   \n",
      "29  Vegans rising: Australia second in the world f...   \n",
      "30    1 In 20 Adults Think Vegans Eat Meat, Says Poll   \n",
      "31             7 dangerous side effects of Vegan diet   \n",
      "32  Sustainable and aware: the new content from so...   \n",
      "33  Meet Genesis Butler, the 13-year-old activist ...   \n",
      "34  Shocking 'Fresh, Fresh' commercial promotes ve...   \n",
      "35                         Why Vegans Don't Wear Silk   \n",
      "36               Incomplete Protein: Is It a Concern?   \n",
      "37    Decoding Veganism and Trying out Vegan Desserts   \n",
      "38  Vegan Queen Karyn Calabrese Returns With Virtu...   \n",
      "39  The 10 Best Vegan Cheeses That Taste Like the ...   \n",
      "40  Mother and daughter vegan restaurant team mark...   \n",
      "41  This Black-owned business is bringing vegan tr...   \n",
      "42  Do vegans dream of greasy junk food? If you do...   \n",
      "43       Nikky Raney on Miley Cyrus Quitting Veganism   \n",
      "44    Veganism and eating disorders: Is there a link?   \n",
      "45  Five reasons for Las Vegans to root for the Ra...   \n",
      "46  Vegans urged to switch to cow milk instead of ...   \n",
      "47             Do Vegans Live Longer Than Non-Vegans?   \n",
      "\n",
      "                                                  URL  \\\n",
      "0   https://www.newsindiatimes.com/veganism-from-f...   \n",
      "1   https://vegnews.com/2020/9/interest-in-veganis...   \n",
      "2   https://www.bbc.com/news/world-us-canada-53787329   \n",
      "3   https://www.healthline.com/nutrition/is-beeswa...   \n",
      "4   https://www.greenmatters.com/p/miley-cyrus-no-...   \n",
      "5   https://www.irishcentral.com/travel/ireland-to...   \n",
      "6   https://www.sciencefocus.com/news/global-vegan...   \n",
      "7   https://www.deccanherald.com/sunday-herald/sh-...   \n",
      "8   https://www.greenqueen.com.hk/6-reasons-why-mi...   \n",
      "9   https://www.euronews.com/living/2020/09/15/liv...   \n",
      "10  https://cherwell.org/2020/09/14/opinion-vegani...   \n",
      "11  https://www.plantbasednews.org/lifestyle/top-1...   \n",
      "12  https://dailytrojan.com/2020/09/10/triple-bott...   \n",
      "13  https://www.greenqueen.com.hk/revealed-the-5-b...   \n",
      "14  https://www.nzherald.co.nz/lifestyle/news/arti...   \n",
      "15  https://www.10best.com/interests/food-culture/...   \n",
      "16  https://thebeet.com/miley-cyrus-formerly-vegan...   \n",
      "17  https://www.plantbasednews.org/opinion/celebri...   \n",
      "18  https://www.plantbasednews.org/news/ex-vegan-m...   \n",
      "19  https://www.jpost.com/israel-news/israel-ranks...   \n",
      "20  https://civileats.com/2020/08/26/is-the-vegan-...   \n",
      "21  https://lasvegassun.com/news/2020/sep/15/group...   \n",
      "22  https://www.euronews.com/living/2020/08/22/pla...   \n",
      "23  https://ecowarriorprincess.net/2020/09/the-ris...   \n",
      "24  https://gritdaily.com/if-veganism-isnt-in-the-...   \n",
      "25  https://www.plantbasednews.org/lifestyle/-top-...   \n",
      "26  https://thebeet.com/what-you-can-learn-from-20...   \n",
      "27  https://www.totallyveganbuzz.com/news/uk-austr...   \n",
      "28  https://finance.yahoo.com/news/north-america-p...   \n",
      "29  https://thenewdaily.com.au/life/wellbeing/2020...   \n",
      "30  https://www.plantbasednews.org/lifestyle/-1-in...   \n",
      "31  https://timesofindia.indiatimes.com/life-style...   \n",
      "32  https://www.scmp.com/lifestyle/entertainment/a...   \n",
      "33  https://www.mic.com/p/meet-genesis-butler-the-...   \n",
      "34  https://www.jpost.com/israel-news/shocking-fre...   \n",
      "35  https://www.greenmatters.com/p/why-dont-vegans...   \n",
      "36  https://www.healthline.com/nutrition/incomplet...   \n",
      "37  https://www.mid-day.com/articles/decoding-vega...   \n",
      "38  https://chicago.eater.com/2020/9/14/21436239/k...   \n",
      "39  https://thebeet.com/the-10-best-vegan-cheeses-...   \n",
      "40  https://www.chestnuthilllocal.com/stories/moth...   \n",
      "41  https://www.soapboxmedia.com/devnews/Like-Moms...   \n",
      "42  https://www.canberratimes.com.au/story/6920100...   \n",
      "43  https://oaklandnewsnow.com/nikky-raney-on-mile...   \n",
      "44  https://www.washingtonpost.com/lifestyle/welln...   \n",
      "45  https://lasvegasweekly.com/news/2020/sep/10/fi...   \n",
      "46  https://sports.yahoo.com/vegan-drink-cow-milk-...   \n",
      "47  https://www.healthline.com/nutrition/do-vegans...   \n",
      "\n",
      "                                                 Text  \n",
      "0   Thirty years ago, a few Indian-Americans got t...  \n",
      "1    September 15, 2020 Interest in veganism has h...  \n",
      "2   Black Americans are almost three times as like...  \n",
      "3   A vegan diet is defined as a way of eating tha...  \n",
      "4   Miley Cyrus just announced that she is no long...  \n",
      "5                                                      \n",
      "6   Going vegan could free up 7 million square kil...  \n",
      "7   Personalized, Latest & Breaking News No meat, ...  \n",
      "8                                                      \n",
      "9   The first ever pro-vegan commercial has been b...  \n",
      "10  Lucy Betts asks why veganism may still be cons...  \n",
      "11  Switzerland was number 8 on the list (Photo: A...  \n",
      "12  It’s the second installment of my column and t...  \n",
      "13                                                     \n",
      "14                                                     \n",
      "15                                                     \n",
      "16  In a recent interview with podcaster Joe Rogan...  \n",
      "17  Does celebrity culture hurt the vegan movement...  \n",
      "18  Ex-vegan Miley Cyrus says it is 'over the top'...  \n",
      "19                                                     \n",
      "20                                                     \n",
      "21  Volunteers inventory donated food at the Servi...  \n",
      "22  As athletes often rely on a protein-heavy diet...  \n",
      "23                                                     \n",
      "24  Veganism isn’t necessarily for everyone. Altho...  \n",
      "25  Edinburgh took the third spot on the list (Pho...  \n",
      "26  Now more than ever, athletes are reaching for ...  \n",
      "27                                                     \n",
      "28  Dublin, Sept. 16, 2020 (GLOBE NEWSWIRE) -- The...  \n",
      "29                                                     \n",
      "30  A poll uncovered some of the common misconcept...  \n",
      "31                                                     \n",
      "32  Published: 10:15pm, 14 Sep, 2020 Updated: 11:2...  \n",
      "33  While much of the country took up tie-dye and ...  \n",
      "34                                                     \n",
      "35  Silk is often touted as an eco-friendly, natur...  \n",
      "36  Plant-based sources of protein are often deeme...  \n",
      "37  It’s been years since we’ve been hearing about...  \n",
      "38  Longtime vegan advocate Karyn Calabrese is ret...  \n",
      "39  Vegan cheese has come a long way since the fir...  \n",
      "40  Tucked in the rear of the building at 8419 Ger...  \n",
      "41  When it comes to a niche, a Cincinnati-based p...  \n",
      "42  This is the anti-vegan cookbook for vegans. Al...  \n",
      "43                                                     \n",
      "44  Vegan diets — which exclude all foods of anima...  \n",
      "45                                                     \n",
      "46  Vegans should avoid soya milk if they want to ...  \n",
      "47  The Western diet and lifestyle are often viewe...  \n"
     ]
    }
   ],
   "source": [
    "import pandas as pd\n",
    "import stanza\n",
    "\n",
    "# Read in the data \n",
    "language = \"en\"\n",
    "article_file = \"../data/veganism_overview_\" + language +\".tsv\"\n",
    "content = pd.read_csv(article_file, sep=\"\\t\", header = 0, keep_default_na=False)\n",
    "\n",
    "# Prepare the nlp pipeline\n",
    "stanza.download(language)\n",
    "nlp = stanza.Pipeline(language)\n",
    "print(content)"
   ]
  },
  {
   "cell_type": "markdown",
   "metadata": {},
   "source": [
    "We have loaded the pipeline and can start processing our content. In the example, we only use the first article. **Once you understand how it works, modify the code to iterate through all articles and save the result.** \n"
   ]
  },
  {
   "cell_type": "markdown",
   "metadata": {},
   "source": [
    "## 1. Dependency Parsing"
   ]
  },
  {
   "cell_type": "markdown",
   "metadata": {},
   "source": [
    "Dependency parsing identifies the underlying hierarchical structure of a sentence. The training corpora use the universal dependency labels. For English, the documentation of the relations can be found [here](https://universaldependencies.org/treebanks/en_ewt/index.html). **As a first step, focus on the relations nsubj (subject), obj (object), and iobj (indirect object).**"
   ]
  },
  {
   "cell_type": "code",
   "execution_count": 5,
   "metadata": {
    "scrolled": true
   },
   "outputs": [
    {
     "name": "stdout",
     "output_type": "stream",
     "text": [
      "id token head id head token dependency relation\n",
      "1 Thirty 2 years nummod\n",
      "2 years 3 ago obl:npmod\n",
      "3 ago 10 got advmod\n",
      "4 , 3 ago punct\n",
      "5 a 9 Americans det\n",
      "6 few 9 Americans amod\n",
      "7 Indian 9 Americans amod\n",
      "8 - 7 Indian punct\n",
      "9 Americans 10 got nsubj\n",
      "10 got 0 root root\n",
      "11 together 10 got advmod\n",
      "12 to 13 form mark\n",
      "13 form 10 got advcl\n",
      "14 Vegetarian 15 Vision amod\n",
      "15 Vision 13 form obj\n",
      "16 when 18 saw advmod\n",
      "17 they 18 saw nsubj\n",
      "18 saw 13 form advcl\n",
      "19 more 23 immigrants amod\n",
      "20 and 21 more cc\n",
      "21 more 19 more conj\n",
      "22 Indian 23 immigrants amod\n",
      "23 immigrants 18 saw obj\n",
      "24 becoming 23 immigrants acl\n",
      "25 non-vegetarian 24 becoming xcomp\n",
      "26 of 28 difficulty case\n",
      "27 the 28 difficulty det\n",
      "28 difficulty 25 non-vegetarian obl\n",
      "29 accessing 28 difficulty acl\n",
      "30 their 33 products nmod:poss\n",
      "31 traditional 33 products amod\n",
      "32 Indian 33 products amod\n",
      "33 products 29 accessing obj\n",
      "34 . 10 got punct\n",
      "id token head id head token dependency relation\n",
      "1 “ 8 find punct\n",
      "2 People 8 find nsubj\n",
      "3 coming 2 People acl\n",
      "4 from 5 India case\n",
      "5 India 3 coming obl\n",
      "6 could 8 find aux\n",
      "7 n’t 8 find advmod\n",
      "8 find 0 root root\n",
      "9 enough 11 food amod\n",
      "10 vegetarian 11 food amod\n",
      "11 food 8 find obj\n",
      "12 . 8 find punct\n"
     ]
    }
   ],
   "source": [
    "processed = nlp.process(content[\"Text\"][0])\n",
    "sentences = processed.sentences\n",
    "for sentence in sentences[0:2]:\n",
    "    print(sentence.text)\n",
    "    print(\"id\", \"token\", \"head id\", \"head token\", \"dependency relation\")\n",
    "    for word in sentence.words:\n",
    "        # word.head only provides the id of the word, here we determine the head token based on the id\n",
    "        if word.head == 0:\n",
    "            head_token =\"root\"\n",
    "        else:\n",
    "            head_token = sentence.words[word.head-1].text\n",
    "        # Output the dependency relation\n",
    "        print(word.id, word.text, word.head, head_token, word.deprel)\n",
    "        "
   ]
  },
  {
   "cell_type": "markdown",
   "metadata": {},
   "source": [
    "We can plot the dependency tree using the *networkx* module as in the previous lab. Unfortunately, the tree appears upside down in this example, but that can be fixed. **Make sure you understand the structure of the dependency tree. Take a closer look at the heads and the relations.**\n",
    "\n",
    "**Note: this code worked well on a mac, but apparently the graphviz layout can cause problems when working on Windows.** You might have to additionally install pygraphviz and if there are still errors related to pydot, [this thread](https://stackoverflow.com/questions/40632486/dot-exe-not-found-in-path-pydot-on-python-windows-7) might help. Don't worry if you do not manage to run it. The plot can be found at *data/example_dependencytree.png*. "
   ]
  },
  {
   "cell_type": "code",
   "execution_count": 33,
   "metadata": {
    "scrolled": true
   },
   "outputs": [
    {
     "name": "stderr",
     "output_type": "stream",
     "text": [
      "/var/folders/4l/cz5b6v6d0kqcpwgzxr2x_qgm0000gn/T/ipykernel_54547/4088757686.py:29: UserWarning: FigureCanvasAgg is non-interactive, and thus cannot be shown\n",
      "  fig.show()\n"
     ]
    },
    {
     "data": {
      "image/png": "[encoded data removed]",
      "text/plain": [
       "<Figure size 1500x1000 with 1 Axes>"
      ]
     },
     "metadata": {},
     "output_type": "display_data"
    }
   ],
   "source": [
    "import matplotlib.pyplot as plt\n",
    "import networkx as nx\n",
    "from networkx.drawing.nx_agraph import graphviz_layout\n",
    "\n",
    "# Create a graph structure. We use a directed graph because we have a root node\n",
    "dependency_graph=nx.DiGraph(rankdir=\"BT\")\n",
    "ids2tokens ={}\n",
    "\n",
    "for word in sentence.words:\n",
    "    ids2tokens[word.id] = word.text\n",
    "    dependency_graph.add_node(word.id)\n",
    "    dependency_graph.add_edge(word.id, word.head,title=word.deprel)\n",
    "\n",
    "# # Figure and layout\n",
    "fig, ax = plt.subplots(1, 1, figsize = (15, 10))\n",
    "pos=graphviz_layout(dependency_graph, prog='dot')\n",
    "\n",
    "\n",
    "# Draw the nodes\n",
    "nx.draw_networkx_nodes(dependency_graph, pos, ax=ax, node_size=2600, node_color=\"cornflowerblue\")\n",
    "nx.draw_networkx_labels(dependency_graph, pos, ids2tokens,  ax=ax, font_size = 10, font_color = \"white\")\n",
    "\n",
    "# Draw the edges\n",
    "edge_labels = nx.get_edge_attributes(dependency_graph, 'title')\n",
    "nx.draw_networkx_edges(dependency_graph, pos, ax=ax)\n",
    "nx.draw_networkx_edge_labels(dependency_graph,pos, edge_labels=edge_labels)\n",
    "ax.title.set_text(sentence.text)\n",
    "\n",
    "fig.show()\n",
    "plt.savefig(\"../data/example_dependencytree.png\")"
   ]
  },
  {
   "cell_type": "markdown",
   "metadata": {},
   "source": [
    "**Try to extract statistics about the dependency structure in your dataset. For example, about the number of sentences that contain a subordinate clause. What can these statistics tell you?** "
   ]
  },
  {
   "cell_type": "markdown",
   "metadata": {
    "pycharm": {
     "name": "#%% md\n"
    }
   },
   "source": [
    "## 2. Extracting stylistic features\n",
    "\n",
    "We provide an example for three stylistic features, but this is just the start. **Think about stylistic features that could characterize your dataset.**"
   ]
  },
  {
   "cell_type": "code",
   "execution_count": null,
   "metadata": {
    "pycharm": {
     "name": "#%%\n"
    }
   },
   "outputs": [],
   "source": [
    "import pandas as pd\n",
    "import stanza\n",
    "import string\n",
    "\n",
    "# Read in TSV\n",
    "tsv_file = \"../data/veganism_overview_en.tsv\"\n",
    "news_content = pd.read_csv(tsv_file, sep=\"\\t\", keep_default_na=False, header=0)\n",
    "nlp = stanza.Pipeline('en', processors='tokenize,pos,lemma')\n",
    "\n",
    "# We filter out empty articles\n",
    "news_content = news_content[news_content[\"Text\"].str.len() >0 ]\n",
    "articles = news_content[\"Text\"]\n",
    "\n",
    "# Process the articles\n",
    "processed_articles =[]\n",
    "for article in articles:\n",
    "    processed_articles.append(nlp.process(article))"
   ]
  },
  {
   "cell_type": "markdown",
   "metadata": {},
   "source": [
    "In this lab, we extract information from the MRC database. This database contains many types of psycholinguistic features for English words. Download the file [mrc.dct](https://github.com/samzhang111/mrc-psycholinguistics/blob/master/mrc2.dct) and save it in your data folder. As an example, we extract the concreteness ratings.\n",
    "\n",
    "**Check the [documentation](https://websites.psychology.uwa.edu.au/school/MRCDatabase/mrc2.html#CONC) and figure out the meaning of the features. What does it mean if a text has a high level of average concreteness?**\n",
    "\n",
    "Note: some browsers save *mrc.dct* as *mrc.dct.txt*. Make sure to adjust either the filename or the path."
   ]
  },
  {
   "cell_type": "code",
   "execution_count": null,
   "metadata": {
    "pycharm": {
     "name": "#%%\n"
    }
   },
   "outputs": [],
   "source": [
    "def load_mrc():\n",
    "    words ={}\n",
    "    print(\"Start loading...\")\n",
    "    for line in open('../data/mrc2.dct','r'):\n",
    "\n",
    "        # This code is from https://github.com/samzhang111/mrc-psycholinguistics/blob/master/extract.py\n",
    "        word, phon, dphon, stress = line[51:].split('|')\n",
    "\n",
    "        nlet = int(line[0:2])\n",
    "        nphon = int(line[2:4])\n",
    "        nsyl = int(line[4])\n",
    "        kf_freq = int(line[5:10])\n",
    "        kf_ncats = int(line[10:12])\n",
    "        kf_nsamp = int(line[12:15])\n",
    "        tl_freq = int(line[15:21])\n",
    "        brown_freq = int(line[21:25])\n",
    "        fam = int(line[25:28])\n",
    "        conc = int(line[28:31])\n",
    "        imag = int(line[31:34])\n",
    "        meanc = int(line[34:37])\n",
    "        meanp = int(line[37:40])\n",
    "        aoa = int(line[40:43])\n",
    "        tq2 = line[43]\n",
    "        wtype = line[44]\n",
    "        pdwtype = line[45]\n",
    "        alphasyl = line[46]\n",
    "        status = line[47]\n",
    "        var = line[48]\n",
    "        cap = line[49]\n",
    "        irreg = line[50]\n",
    "\n",
    "        # For this example, we only extract the concreteness rating, but you might try other features\n",
    "        # In this case, you could save a tuple as value for each word in the dictionary\n",
    "        words[word.lower()] = int(conc)\n",
    "    print(\"Done.\")\n",
    "    return words\n",
    "mrc = load_mrc()"
   ]
  },
  {
   "cell_type": "markdown",
   "metadata": {},
   "source": [
    "We define a function that calculates the mean concreteness for a list of tokens. Tokens which do not have a concreteness rating in the MRC database are ignored.\n"
   ]
  },
  {
   "cell_type": "code",
   "execution_count": null,
   "metadata": {
    "pycharm": {
     "name": "#%%\n"
    }
   },
   "outputs": [],
   "source": [
    "import statistics\n",
    "\n",
    "def calculate_concreteness(tokens, mrc_concreteness):\n",
    "    concreteness = []\n",
    "    for token in tokens:\n",
    "\n",
    "        # For words that are not in the database, we assign the rating 0\n",
    "        concreteness_rating = mrc_concreteness.get(token.lower(), 0)\n",
    "\n",
    "        # We only consider words that have a concreteness rating in the database when calculating the mean concreteness.\n",
    "        # This might be problematic.\n",
    "        # It could be good to additionally keep track of the number of unrated words.\n",
    "        if concreteness_rating > 0:\n",
    "            concreteness.append(concreteness_rating)\n",
    "\n",
    "    if len(concreteness) > 0:\n",
    "        return statistics.mean(concreteness)\n",
    "    else:\n",
    "        return 0.0\n"
   ]
  },
  {
   "cell_type": "markdown",
   "metadata": {},
   "source": [
    "We build a document representation on three stylistic features: type-token ratio, average sentence length, average concreteness. **Add more stylistic features to better distinguish between document styles. A good overview of features can be found in this [article](https://link.springer.com/article/10.3758/BF03195564).** Read section \"IDENTIFIER INFORMATION AND MEASURES SUPPLIED BY COH-METRIX\". This [article](https://ep.liu.se/ecp/080/002/ecp12080002.pdf)(section 2) on readability can provide additional information. Both papers focus on formal texts. **Discuss features that could be relevant for less formal data (e.g., Twitter).** One could for example also calculate the emoji-ratio or the average number of typos or the ratio of capitalized words or ..."
   ]
  },
  {
   "cell_type": "code",
   "execution_count": null,
   "metadata": {
    "pycharm": {
     "name": "#%%\n"
    }
   },
   "outputs": [],
   "source": [
    "from collections import Counter\n",
    "\n",
    "\n",
    "all_docs =[]\n",
    "\n",
    "for article in processed_articles:\n",
    "    doc_representation = []\n",
    "\n",
    "    # Calculate TTR\n",
    "    token_frequencies = Counter()\n",
    "    for sentence in article.sentences:\n",
    "        all_tokens =[token.text for token in sentence.tokens]\n",
    "        token_frequencies.update(all_tokens)\n",
    "    num_types = len(token_frequencies.keys())\n",
    "    num_tokens = sum(token_frequencies.values())\n",
    "    tt_ratio = num_types/float(num_tokens)\n",
    "    doc_representation.append(tt_ratio)\n",
    "\n",
    "    # Calculate average sentence length\n",
    "    sentence_lengths =[len(sentence.tokens) for sentence in article.sentences]\n",
    "    doc_representation.append(statistics.mean(sentence_lengths))\n",
    "\n",
    "    # Calculate concreteness\n",
    "    tokens = [word.lemma for word in sentence.words]\n",
    "    concreteness =[calculate_concreteness(tokens, mrc) for sentence in article.sentences]\n",
    "    doc_representation.append(statistics.mean(concreteness))\n",
    "\n",
    "    # Calculate other metrics\n",
    "    # ...\n",
    "\n",
    "    all_docs.append(doc_representation)\n",
    "print(all_docs)"
   ]
  },
  {
   "cell_type": "markdown",
   "metadata": {
    "pycharm": {
     "name": "#%% md\n"
    }
   },
   "source": [
    "The document representations can now be used to perform clustering or classification. If we use neural network classifiers, the document representations are usually learned directly. In this case, it can be interesting to test if stylistic features are implicitly contained in the learned representations (this is called *probing*)."
   ]
  }
 ],
 "metadata": {
  "kernelspec": {
   "display_name": "LaD2023",
   "language": "python",
   "name": "lad2023"
  },
  "language_info": {
   "codemirror_mode": {
    "name": "ipython",
    "version": 3
   },
   "file_extension": ".py",
   "mimetype": "text/x-python",
   "name": "python",
   "nbconvert_exporter": "python",
   "pygments_lexer": "ipython3",
   "version": "3.9.0"
  }
 },
 "nbformat": 4,
 "nbformat_minor": 4
}
